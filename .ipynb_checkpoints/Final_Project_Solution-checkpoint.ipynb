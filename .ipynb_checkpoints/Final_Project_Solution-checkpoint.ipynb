{
 "cells": [
  {
   "cell_type": "markdown",
   "metadata": {},
   "source": [
    "## Internshala Data Science Challenge - Final Project"
   ]
  },
  {
   "cell_type": "markdown",
   "metadata": {},
   "source": [
    "### Problem Statement\n",
    "\n",
    "Your client is an Insurance company and they need your help in building a model to predict whether the policyholder (customer) will pay next premium on time or not. \n",
    "\n",
    "An insurance policy is an arrangement by which a company undertakes to provide a guarantee of compensation for specified loss, damage, illness, or death in return for the payment of a specified premium. A premium is a sum of money that you pay regularly to an insurance company for this guarantee.\n",
    "\n",
    "Building a model to predict whether a customer would make the premium payment can be extremely helpful for the company because it can then accordingly plan its communication strategy to reach out to those customers who are less likely to pay and convince them to continue making timely payment.\n",
    "\n",
    "Now, in order to predict, whether the customer would pay the next premium or not, you have information about past premium payment history for the policyholders along with their demographics (age, monthly income, area type) and sourcing channel etc.\n",
    "\n",
    "### The Dataset\n",
    "Two csv files are provided namely `train.csv` and `test.csv`\n",
    "\n",
    "| ﻿Variable                         | Definition                                                                                                         |\n",
    "|----------------------------------|--------------------------------------------------------------------------------------------------------------------|\n",
    "| id                               | Unique ID of the policy                                                                                            |\n",
    "| perc_premium_paid_by_cash_credit | Percentage of premium amount paid by cash or credit card                                                           |\n",
    "| age_in_days                      | Age in days of policy holder                                                                                       |\n",
    "| Income                           | Monthly Income of policy holder                                                                                    |\n",
    "| Count_3-6_months_late            | No of premiums late by 3 to 6 months                                                                               |\n",
    "| Count_6-12_months_late           | No  of premiums late by 6 to 12 months                                                                             |\n",
    "| Count_more_than_12_months_late   | No of premiums late by more than 12 months                                                                         |\n",
    "| application_underwriting_score   | Underwriting Score of the applicant at the time of application (No applications under the score of 90 are insured) |\n",
    "| no_of_premiums_paid              | Total premiums paid on time till now                                                                               |\n",
    "| sourcing_channel                 | Sourcing channel for application                                                                                   |\n",
    "| residence_area_type              | Area type of Residence (Urban/Rural)                                                                               |\n",
    "| target                           | 1 - premium paid on time, 0 - otherwise                                                                            |\n"
   ]
  },
  {
   "cell_type": "markdown",
   "metadata": {},
   "source": [
    "## Table of contents\n",
    "1. [Importing Important Libraries](#importing_libraries)\n",
    "2. [Loading the Data](#load_data)\n",
    "3. [Univariate Analysis](#univariate_analysis)\n",
    "4. [Treating NULL Values](#treating_null_values)\n",
    "5. [Bivariate Analysis](#bivariate_analysis)\n",
    "6. [Preprocessing on Test Data](#test_data_preprocessing)\n",
    "7. [Split Data for Model Training](#splitting)\n",
    "8. [Model Building](#model_building)\n",
    "    1. [Using Linear Regression](#linear_regression)\n",
    "    2. [Using Logistic Regression](#logistic_regression)\n",
    "    3. [Using CatBoostRegressor](#catboostregressor)\n",
    "9. [Results and Summary](#summary)"
   ]
  },
  {
   "cell_type": "markdown",
   "metadata": {},
   "source": [
    "### 1. Importing important libraries <a name=\"importing_libraries\"></a>"
   ]
  },
  {
   "cell_type": "code",
   "execution_count": 870,
   "metadata": {},
   "outputs": [],
   "source": [
    "import numpy as np\n",
    "import matplotlib.pyplot as plt\n",
    "import pandas as pd\n",
    "import seaborn as sns\n",
    "from sklearn.model_selection import train_test_split\n",
    "\n",
    "%matplotlib inline"
   ]
  },
  {
   "cell_type": "markdown",
   "metadata": {},
   "source": [
    "### 2. Load and check the shape of the data <a name=\"load_data\"></a>"
   ]
  },
  {
   "cell_type": "code",
   "execution_count": 871,
   "metadata": {},
   "outputs": [],
   "source": [
    "# Loading the train and test datasets\n",
    "train = pd.read_csv('data/train.csv')\n",
    "test = pd.read_csv('data/test.csv')"
   ]
  },
  {
   "cell_type": "code",
   "execution_count": 872,
   "metadata": {},
   "outputs": [
    {
     "data": {
      "text/plain": [
       "((79853, 12), (34224, 11))"
      ]
     },
     "execution_count": 872,
     "metadata": {},
     "output_type": "execute_result"
    }
   ],
   "source": [
    "# Check the shape of the data\n",
    "train.shape, test.shape"
   ]
  },
  {
   "cell_type": "code",
   "execution_count": 873,
   "metadata": {},
   "outputs": [
    {
     "data": {
      "text/html": [
       "<div>\n",
       "<style scoped>\n",
       "    .dataframe tbody tr th:only-of-type {\n",
       "        vertical-align: middle;\n",
       "    }\n",
       "\n",
       "    .dataframe tbody tr th {\n",
       "        vertical-align: top;\n",
       "    }\n",
       "\n",
       "    .dataframe thead th {\n",
       "        text-align: right;\n",
       "    }\n",
       "</style>\n",
       "<table border=\"1\" class=\"dataframe\">\n",
       "  <thead>\n",
       "    <tr style=\"text-align: right;\">\n",
       "      <th></th>\n",
       "      <th>id</th>\n",
       "      <th>perc_premium_paid_by_cash_credit</th>\n",
       "      <th>age_in_days</th>\n",
       "      <th>Income</th>\n",
       "      <th>Count_3-6_months_late</th>\n",
       "      <th>Count_6-12_months_late</th>\n",
       "      <th>Count_more_than_12_months_late</th>\n",
       "      <th>application_underwriting_score</th>\n",
       "      <th>no_of_premiums_paid</th>\n",
       "      <th>sourcing_channel</th>\n",
       "      <th>residence_area_type</th>\n",
       "      <th>target</th>\n",
       "    </tr>\n",
       "  </thead>\n",
       "  <tbody>\n",
       "    <tr>\n",
       "      <th>0</th>\n",
       "      <td>110936</td>\n",
       "      <td>0.429</td>\n",
       "      <td>12058</td>\n",
       "      <td>355060</td>\n",
       "      <td>0.0</td>\n",
       "      <td>0.0</td>\n",
       "      <td>0.0</td>\n",
       "      <td>99.02</td>\n",
       "      <td>13</td>\n",
       "      <td>C</td>\n",
       "      <td>Urban</td>\n",
       "      <td>1</td>\n",
       "    </tr>\n",
       "    <tr>\n",
       "      <th>1</th>\n",
       "      <td>41492</td>\n",
       "      <td>0.010</td>\n",
       "      <td>21546</td>\n",
       "      <td>315150</td>\n",
       "      <td>0.0</td>\n",
       "      <td>0.0</td>\n",
       "      <td>0.0</td>\n",
       "      <td>99.89</td>\n",
       "      <td>21</td>\n",
       "      <td>A</td>\n",
       "      <td>Urban</td>\n",
       "      <td>1</td>\n",
       "    </tr>\n",
       "    <tr>\n",
       "      <th>2</th>\n",
       "      <td>31300</td>\n",
       "      <td>0.917</td>\n",
       "      <td>17531</td>\n",
       "      <td>84140</td>\n",
       "      <td>2.0</td>\n",
       "      <td>3.0</td>\n",
       "      <td>1.0</td>\n",
       "      <td>98.69</td>\n",
       "      <td>7</td>\n",
       "      <td>C</td>\n",
       "      <td>Rural</td>\n",
       "      <td>0</td>\n",
       "    </tr>\n",
       "    <tr>\n",
       "      <th>3</th>\n",
       "      <td>19415</td>\n",
       "      <td>0.049</td>\n",
       "      <td>15341</td>\n",
       "      <td>250510</td>\n",
       "      <td>0.0</td>\n",
       "      <td>0.0</td>\n",
       "      <td>0.0</td>\n",
       "      <td>99.57</td>\n",
       "      <td>9</td>\n",
       "      <td>A</td>\n",
       "      <td>Urban</td>\n",
       "      <td>1</td>\n",
       "    </tr>\n",
       "    <tr>\n",
       "      <th>4</th>\n",
       "      <td>99379</td>\n",
       "      <td>0.052</td>\n",
       "      <td>31400</td>\n",
       "      <td>198680</td>\n",
       "      <td>0.0</td>\n",
       "      <td>0.0</td>\n",
       "      <td>0.0</td>\n",
       "      <td>99.87</td>\n",
       "      <td>12</td>\n",
       "      <td>B</td>\n",
       "      <td>Urban</td>\n",
       "      <td>1</td>\n",
       "    </tr>\n",
       "  </tbody>\n",
       "</table>\n",
       "</div>"
      ],
      "text/plain": [
       "       id  perc_premium_paid_by_cash_credit  age_in_days  Income  \\\n",
       "0  110936                             0.429        12058  355060   \n",
       "1   41492                             0.010        21546  315150   \n",
       "2   31300                             0.917        17531   84140   \n",
       "3   19415                             0.049        15341  250510   \n",
       "4   99379                             0.052        31400  198680   \n",
       "\n",
       "   Count_3-6_months_late  Count_6-12_months_late  \\\n",
       "0                    0.0                     0.0   \n",
       "1                    0.0                     0.0   \n",
       "2                    2.0                     3.0   \n",
       "3                    0.0                     0.0   \n",
       "4                    0.0                     0.0   \n",
       "\n",
       "   Count_more_than_12_months_late  application_underwriting_score  \\\n",
       "0                             0.0                           99.02   \n",
       "1                             0.0                           99.89   \n",
       "2                             1.0                           98.69   \n",
       "3                             0.0                           99.57   \n",
       "4                             0.0                           99.87   \n",
       "\n",
       "   no_of_premiums_paid sourcing_channel residence_area_type  target  \n",
       "0                   13                C               Urban       1  \n",
       "1                   21                A               Urban       1  \n",
       "2                    7                C               Rural       0  \n",
       "3                    9                A               Urban       1  \n",
       "4                   12                B               Urban       1  "
      ]
     },
     "execution_count": 873,
     "metadata": {},
     "output_type": "execute_result"
    }
   ],
   "source": [
    "# Check first 5 rows of train dataset\n",
    "train.head()"
   ]
  },
  {
   "cell_type": "code",
   "execution_count": 874,
   "metadata": {},
   "outputs": [
    {
     "data": {
      "text/html": [
       "<div>\n",
       "<style scoped>\n",
       "    .dataframe tbody tr th:only-of-type {\n",
       "        vertical-align: middle;\n",
       "    }\n",
       "\n",
       "    .dataframe tbody tr th {\n",
       "        vertical-align: top;\n",
       "    }\n",
       "\n",
       "    .dataframe thead th {\n",
       "        text-align: right;\n",
       "    }\n",
       "</style>\n",
       "<table border=\"1\" class=\"dataframe\">\n",
       "  <thead>\n",
       "    <tr style=\"text-align: right;\">\n",
       "      <th></th>\n",
       "      <th>id</th>\n",
       "      <th>perc_premium_paid_by_cash_credit</th>\n",
       "      <th>age_in_days</th>\n",
       "      <th>Income</th>\n",
       "      <th>Count_3-6_months_late</th>\n",
       "      <th>Count_6-12_months_late</th>\n",
       "      <th>Count_more_than_12_months_late</th>\n",
       "      <th>application_underwriting_score</th>\n",
       "      <th>no_of_premiums_paid</th>\n",
       "      <th>sourcing_channel</th>\n",
       "      <th>residence_area_type</th>\n",
       "    </tr>\n",
       "  </thead>\n",
       "  <tbody>\n",
       "    <tr>\n",
       "      <th>0</th>\n",
       "      <td>649</td>\n",
       "      <td>0.001</td>\n",
       "      <td>27384</td>\n",
       "      <td>51150</td>\n",
       "      <td>0.0</td>\n",
       "      <td>0.0</td>\n",
       "      <td>0.0</td>\n",
       "      <td>99.89</td>\n",
       "      <td>7</td>\n",
       "      <td>A</td>\n",
       "      <td>Rural</td>\n",
       "    </tr>\n",
       "    <tr>\n",
       "      <th>1</th>\n",
       "      <td>81136</td>\n",
       "      <td>0.124</td>\n",
       "      <td>23735</td>\n",
       "      <td>285140</td>\n",
       "      <td>0.0</td>\n",
       "      <td>0.0</td>\n",
       "      <td>0.0</td>\n",
       "      <td>98.93</td>\n",
       "      <td>19</td>\n",
       "      <td>A</td>\n",
       "      <td>Urban</td>\n",
       "    </tr>\n",
       "    <tr>\n",
       "      <th>2</th>\n",
       "      <td>70762</td>\n",
       "      <td>1.000</td>\n",
       "      <td>17170</td>\n",
       "      <td>186030</td>\n",
       "      <td>0.0</td>\n",
       "      <td>0.0</td>\n",
       "      <td>0.0</td>\n",
       "      <td>NaN</td>\n",
       "      <td>2</td>\n",
       "      <td>B</td>\n",
       "      <td>Urban</td>\n",
       "    </tr>\n",
       "    <tr>\n",
       "      <th>3</th>\n",
       "      <td>53935</td>\n",
       "      <td>0.198</td>\n",
       "      <td>16068</td>\n",
       "      <td>123540</td>\n",
       "      <td>0.0</td>\n",
       "      <td>0.0</td>\n",
       "      <td>0.0</td>\n",
       "      <td>99.00</td>\n",
       "      <td>11</td>\n",
       "      <td>B</td>\n",
       "      <td>Rural</td>\n",
       "    </tr>\n",
       "    <tr>\n",
       "      <th>4</th>\n",
       "      <td>15476</td>\n",
       "      <td>0.041</td>\n",
       "      <td>10591</td>\n",
       "      <td>200020</td>\n",
       "      <td>1.0</td>\n",
       "      <td>0.0</td>\n",
       "      <td>0.0</td>\n",
       "      <td>99.17</td>\n",
       "      <td>14</td>\n",
       "      <td>A</td>\n",
       "      <td>Rural</td>\n",
       "    </tr>\n",
       "  </tbody>\n",
       "</table>\n",
       "</div>"
      ],
      "text/plain": [
       "      id  perc_premium_paid_by_cash_credit  age_in_days  Income  \\\n",
       "0    649                             0.001        27384   51150   \n",
       "1  81136                             0.124        23735  285140   \n",
       "2  70762                             1.000        17170  186030   \n",
       "3  53935                             0.198        16068  123540   \n",
       "4  15476                             0.041        10591  200020   \n",
       "\n",
       "   Count_3-6_months_late  Count_6-12_months_late  \\\n",
       "0                    0.0                     0.0   \n",
       "1                    0.0                     0.0   \n",
       "2                    0.0                     0.0   \n",
       "3                    0.0                     0.0   \n",
       "4                    1.0                     0.0   \n",
       "\n",
       "   Count_more_than_12_months_late  application_underwriting_score  \\\n",
       "0                             0.0                           99.89   \n",
       "1                             0.0                           98.93   \n",
       "2                             0.0                             NaN   \n",
       "3                             0.0                           99.00   \n",
       "4                             0.0                           99.17   \n",
       "\n",
       "   no_of_premiums_paid sourcing_channel residence_area_type  \n",
       "0                    7                A               Rural  \n",
       "1                   19                A               Urban  \n",
       "2                    2                B               Urban  \n",
       "3                   11                B               Rural  \n",
       "4                   14                A               Rural  "
      ]
     },
     "execution_count": 874,
     "metadata": {},
     "output_type": "execute_result"
    }
   ],
   "source": [
    "# Check first 5 rows of test dataset\n",
    "test.head()"
   ]
  },
  {
   "cell_type": "code",
   "execution_count": 875,
   "metadata": {},
   "outputs": [
    {
     "data": {
      "text/html": [
       "<div>\n",
       "<style scoped>\n",
       "    .dataframe tbody tr th:only-of-type {\n",
       "        vertical-align: middle;\n",
       "    }\n",
       "\n",
       "    .dataframe tbody tr th {\n",
       "        vertical-align: top;\n",
       "    }\n",
       "\n",
       "    .dataframe thead th {\n",
       "        text-align: right;\n",
       "    }\n",
       "</style>\n",
       "<table border=\"1\" class=\"dataframe\">\n",
       "  <thead>\n",
       "    <tr style=\"text-align: right;\">\n",
       "      <th></th>\n",
       "      <th>id</th>\n",
       "      <th>perc_premium_paid_by_cash_credit</th>\n",
       "      <th>age_in_days</th>\n",
       "      <th>Income</th>\n",
       "      <th>Count_3-6_months_late</th>\n",
       "      <th>Count_6-12_months_late</th>\n",
       "      <th>Count_more_than_12_months_late</th>\n",
       "      <th>application_underwriting_score</th>\n",
       "      <th>no_of_premiums_paid</th>\n",
       "      <th>target</th>\n",
       "    </tr>\n",
       "  </thead>\n",
       "  <tbody>\n",
       "    <tr>\n",
       "      <th>count</th>\n",
       "      <td>79853.000000</td>\n",
       "      <td>79853.000000</td>\n",
       "      <td>79853.000000</td>\n",
       "      <td>7.985300e+04</td>\n",
       "      <td>79756.000000</td>\n",
       "      <td>79756.000000</td>\n",
       "      <td>79756.000000</td>\n",
       "      <td>76879.000000</td>\n",
       "      <td>79853.000000</td>\n",
       "      <td>79853.000000</td>\n",
       "    </tr>\n",
       "    <tr>\n",
       "      <th>mean</th>\n",
       "      <td>57167.166368</td>\n",
       "      <td>0.314288</td>\n",
       "      <td>18846.696906</td>\n",
       "      <td>2.088472e+05</td>\n",
       "      <td>0.248671</td>\n",
       "      <td>0.078188</td>\n",
       "      <td>0.060008</td>\n",
       "      <td>99.067291</td>\n",
       "      <td>10.863887</td>\n",
       "      <td>0.937410</td>\n",
       "    </tr>\n",
       "    <tr>\n",
       "      <th>std</th>\n",
       "      <td>32928.970160</td>\n",
       "      <td>0.334915</td>\n",
       "      <td>5208.719136</td>\n",
       "      <td>4.965826e+05</td>\n",
       "      <td>0.691468</td>\n",
       "      <td>0.436507</td>\n",
       "      <td>0.312023</td>\n",
       "      <td>0.739799</td>\n",
       "      <td>5.170687</td>\n",
       "      <td>0.242226</td>\n",
       "    </tr>\n",
       "    <tr>\n",
       "      <th>min</th>\n",
       "      <td>2.000000</td>\n",
       "      <td>0.000000</td>\n",
       "      <td>7670.000000</td>\n",
       "      <td>2.403000e+04</td>\n",
       "      <td>0.000000</td>\n",
       "      <td>0.000000</td>\n",
       "      <td>0.000000</td>\n",
       "      <td>91.900000</td>\n",
       "      <td>2.000000</td>\n",
       "      <td>0.000000</td>\n",
       "    </tr>\n",
       "    <tr>\n",
       "      <th>25%</th>\n",
       "      <td>28640.000000</td>\n",
       "      <td>0.034000</td>\n",
       "      <td>14974.000000</td>\n",
       "      <td>1.080100e+05</td>\n",
       "      <td>0.000000</td>\n",
       "      <td>0.000000</td>\n",
       "      <td>0.000000</td>\n",
       "      <td>98.810000</td>\n",
       "      <td>7.000000</td>\n",
       "      <td>1.000000</td>\n",
       "    </tr>\n",
       "    <tr>\n",
       "      <th>50%</th>\n",
       "      <td>57262.000000</td>\n",
       "      <td>0.167000</td>\n",
       "      <td>18625.000000</td>\n",
       "      <td>1.665600e+05</td>\n",
       "      <td>0.000000</td>\n",
       "      <td>0.000000</td>\n",
       "      <td>0.000000</td>\n",
       "      <td>99.210000</td>\n",
       "      <td>10.000000</td>\n",
       "      <td>1.000000</td>\n",
       "    </tr>\n",
       "    <tr>\n",
       "      <th>75%</th>\n",
       "      <td>85632.000000</td>\n",
       "      <td>0.538000</td>\n",
       "      <td>22636.000000</td>\n",
       "      <td>2.520900e+05</td>\n",
       "      <td>0.000000</td>\n",
       "      <td>0.000000</td>\n",
       "      <td>0.000000</td>\n",
       "      <td>99.540000</td>\n",
       "      <td>14.000000</td>\n",
       "      <td>1.000000</td>\n",
       "    </tr>\n",
       "    <tr>\n",
       "      <th>max</th>\n",
       "      <td>114076.000000</td>\n",
       "      <td>1.000000</td>\n",
       "      <td>37602.000000</td>\n",
       "      <td>9.026260e+07</td>\n",
       "      <td>13.000000</td>\n",
       "      <td>17.000000</td>\n",
       "      <td>11.000000</td>\n",
       "      <td>99.890000</td>\n",
       "      <td>60.000000</td>\n",
       "      <td>1.000000</td>\n",
       "    </tr>\n",
       "  </tbody>\n",
       "</table>\n",
       "</div>"
      ],
      "text/plain": [
       "                  id  perc_premium_paid_by_cash_credit   age_in_days  \\\n",
       "count   79853.000000                      79853.000000  79853.000000   \n",
       "mean    57167.166368                          0.314288  18846.696906   \n",
       "std     32928.970160                          0.334915   5208.719136   \n",
       "min         2.000000                          0.000000   7670.000000   \n",
       "25%     28640.000000                          0.034000  14974.000000   \n",
       "50%     57262.000000                          0.167000  18625.000000   \n",
       "75%     85632.000000                          0.538000  22636.000000   \n",
       "max    114076.000000                          1.000000  37602.000000   \n",
       "\n",
       "             Income  Count_3-6_months_late  Count_6-12_months_late  \\\n",
       "count  7.985300e+04           79756.000000            79756.000000   \n",
       "mean   2.088472e+05               0.248671                0.078188   \n",
       "std    4.965826e+05               0.691468                0.436507   \n",
       "min    2.403000e+04               0.000000                0.000000   \n",
       "25%    1.080100e+05               0.000000                0.000000   \n",
       "50%    1.665600e+05               0.000000                0.000000   \n",
       "75%    2.520900e+05               0.000000                0.000000   \n",
       "max    9.026260e+07              13.000000               17.000000   \n",
       "\n",
       "       Count_more_than_12_months_late  application_underwriting_score  \\\n",
       "count                    79756.000000                    76879.000000   \n",
       "mean                         0.060008                       99.067291   \n",
       "std                          0.312023                        0.739799   \n",
       "min                          0.000000                       91.900000   \n",
       "25%                          0.000000                       98.810000   \n",
       "50%                          0.000000                       99.210000   \n",
       "75%                          0.000000                       99.540000   \n",
       "max                         11.000000                       99.890000   \n",
       "\n",
       "       no_of_premiums_paid        target  \n",
       "count         79853.000000  79853.000000  \n",
       "mean             10.863887      0.937410  \n",
       "std               5.170687      0.242226  \n",
       "min               2.000000      0.000000  \n",
       "25%               7.000000      1.000000  \n",
       "50%              10.000000      1.000000  \n",
       "75%              14.000000      1.000000  \n",
       "max              60.000000      1.000000  "
      ]
     },
     "execution_count": 875,
     "metadata": {},
     "output_type": "execute_result"
    }
   ],
   "source": [
    "# We will be working on the train data to build our model\n",
    "# describe the train data to check the numerical variations on the dataset\n",
    "train.describe()"
   ]
  },
  {
   "cell_type": "code",
   "execution_count": 876,
   "metadata": {},
   "outputs": [
    {
     "data": {
      "text/plain": [
       "Index(['id', 'perc_premium_paid_by_cash_credit', 'age_in_days', 'Income',\n",
       "       'Count_3-6_months_late', 'Count_6-12_months_late',\n",
       "       'Count_more_than_12_months_late', 'application_underwriting_score',\n",
       "       'no_of_premiums_paid', 'sourcing_channel', 'residence_area_type',\n",
       "       'target'],\n",
       "      dtype='object')"
      ]
     },
     "execution_count": 876,
     "metadata": {},
     "output_type": "execute_result"
    }
   ],
   "source": [
    "train.columns"
   ]
  },
  {
   "cell_type": "markdown",
   "metadata": {},
   "source": [
    "### 3. Univariate Analysis <a name=\"univariate_analysis\"></a>\n",
    "We will analyze different variables in train data one at a time to check the variations and treat accordingly"
   ]
  },
  {
   "cell_type": "code",
   "execution_count": 877,
   "metadata": {},
   "outputs": [],
   "source": [
    "# 'perc_premium_paid_by_cash_credit'\n",
    "\n",
    "# Let's convert the values to percentages by adding a column 'percentage_by_cash_credit'\n",
    "train['percentage_by_cash_credit'] = train.perc_premium_paid_by_cash_credit.apply(lambda x: x * 100)\n"
   ]
  },
  {
   "cell_type": "code",
   "execution_count": 878,
   "metadata": {},
   "outputs": [
    {
     "data": {
      "text/plain": [
       "count    79853.000000\n",
       "mean        31.428774\n",
       "std         33.491457\n",
       "min          0.000000\n",
       "25%          3.400000\n",
       "50%         16.700000\n",
       "75%         53.800000\n",
       "max        100.000000\n",
       "Name: percentage_by_cash_credit, dtype: float64"
      ]
     },
     "execution_count": 878,
     "metadata": {},
     "output_type": "execute_result"
    }
   ],
   "source": [
    "train.percentage_by_cash_credit.describe()"
   ]
  },
  {
   "cell_type": "code",
   "execution_count": 879,
   "metadata": {},
   "outputs": [
    {
     "data": {
      "image/png": "[encoded data removed]",
      "text/plain": [
       "<Figure size 576x288 with 1 Axes>"
      ]
     },
     "metadata": {
      "needs_background": "light"
     },
     "output_type": "display_data"
    }
   ],
   "source": [
    "plt.figure(figsize=(8, 4))\n",
    "sns.distplot(train.percentage_by_cash_credit)\n",
    "plt.grid()\n",
    "plt.show()"
   ]
  },
  {
   "cell_type": "code",
   "execution_count": 880,
   "metadata": {},
   "outputs": [],
   "source": [
    "# 'age_in_days'\n",
    "# Let's modify the age by adding a new column 'age_in_years' using 'age_in_days'\n",
    "train['age_in_years'] = train.age_in_days.apply(lambda x: x/365)"
   ]
  },
  {
   "cell_type": "code",
   "execution_count": 881,
   "metadata": {},
   "outputs": [
    {
     "data": {
      "image/png": "[encoded data removed]",
      "text/plain": [
       "<Figure size 576x288 with 1 Axes>"
      ]
     },
     "metadata": {
      "needs_background": "light"
     },
     "output_type": "display_data"
    }
   ],
   "source": [
    "plt.figure(figsize=(8, 4))\n",
    "sns.distplot(train.age_in_years)\n",
    "plt.grid()\n",
    "plt.show()"
   ]
  },
  {
   "cell_type": "markdown",
   "metadata": {},
   "source": [
    "### 4. Finding and treating the NULL Values, if any. <a name=\"treating_null_values\"></a>"
   ]
  },
  {
   "cell_type": "code",
   "execution_count": 882,
   "metadata": {},
   "outputs": [
    {
     "data": {
      "text/plain": [
       "id                                     0\n",
       "perc_premium_paid_by_cash_credit       0\n",
       "age_in_days                            0\n",
       "Income                                 0\n",
       "Count_3-6_months_late                 97\n",
       "Count_6-12_months_late                97\n",
       "Count_more_than_12_months_late        97\n",
       "application_underwriting_score      2974\n",
       "no_of_premiums_paid                    0\n",
       "sourcing_channel                       0\n",
       "residence_area_type                    0\n",
       "target                                 0\n",
       "percentage_by_cash_credit              0\n",
       "age_in_years                           0\n",
       "dtype: int64"
      ]
     },
     "execution_count": 882,
     "metadata": {},
     "output_type": "execute_result"
    }
   ],
   "source": [
    "# checking for null values in train data\n",
    "train.isnull().sum()"
   ]
  },
  {
   "cell_type": "markdown",
   "metadata": {},
   "source": [
    "We will treat the columns with missing values as follows -\n",
    "\n",
    "- We can assume that there were no cases of late payments for columns `Count_3-6_months_late`, `Count_6-12_months_late`, and `Count_more_than_12_months_late`. Thus, we can replace the NULL values in these with `0`.\n",
    "- For `application_underwriting_score`, we can use the **mean** of present values in the column to replace the null values"
   ]
  },
  {
   "cell_type": "code",
   "execution_count": 883,
   "metadata": {},
   "outputs": [],
   "source": [
    "# Treating null values for 'late payments' with 0s\n",
    "train['Count_3-6_months_late'].fillna(0, inplace=True)\n",
    "train['Count_6-12_months_late'].fillna(0, inplace=True)\n",
    "train['Count_more_than_12_months_late'].fillna(0, inplace=True)"
   ]
  },
  {
   "cell_type": "code",
   "execution_count": 884,
   "metadata": {},
   "outputs": [],
   "source": [
    "# Treating null values for 'application_underwriting_score' with mean value\n",
    "train['application_underwriting_score'].fillna(train[train['application_underwriting_score'].notnull()]['application_underwriting_score'].mean(), inplace=True)"
   ]
  },
  {
   "cell_type": "code",
   "execution_count": 885,
   "metadata": {},
   "outputs": [
    {
     "data": {
      "text/plain": [
       "id                                  0\n",
       "perc_premium_paid_by_cash_credit    0\n",
       "age_in_days                         0\n",
       "Income                              0\n",
       "Count_3-6_months_late               0\n",
       "Count_6-12_months_late              0\n",
       "Count_more_than_12_months_late      0\n",
       "application_underwriting_score      0\n",
       "no_of_premiums_paid                 0\n",
       "sourcing_channel                    0\n",
       "residence_area_type                 0\n",
       "target                              0\n",
       "percentage_by_cash_credit           0\n",
       "age_in_years                        0\n",
       "dtype: int64"
      ]
     },
     "execution_count": 885,
     "metadata": {},
     "output_type": "execute_result"
    }
   ],
   "source": [
    "# Check the data again for the null values\n",
    "train.isnull().sum()"
   ]
  },
  {
   "cell_type": "markdown",
   "metadata": {},
   "source": [
    "As we can see, all the null values have been treated accordingly."
   ]
  },
  {
   "cell_type": "markdown",
   "metadata": {},
   "source": [
    "### 5. Bivariate Analysis <a name=\"bivariate_analysis\"></a>\n",
    "Analysing the correlation between all the numeric variables in the data and the possibilty of multi-collinearity before building the model."
   ]
  },
  {
   "cell_type": "code",
   "execution_count": 886,
   "metadata": {},
   "outputs": [
    {
     "data": {
      "image/png": "[encoded data removed]",
      "text/plain": [
       "<Figure size 1080x576 with 2 Axes>"
      ]
     },
     "metadata": {
      "needs_background": "light"
     },
     "output_type": "display_data"
    }
   ],
   "source": [
    "plt.figure(figsize=(15, 8))\n",
    "corr_plot = train.corr()\n",
    "mask = np.zeros_like(corr_plot, dtype=np.bool)\n",
    "mask[np.triu_indices_from(mask)] = True\n",
    "sns.heatmap(corr_plot, linewidth=.1, vmin=-1, vmax=1, cmap='viridis', annot=True, mask = mask)\n",
    "plt.xticks(rotation=75)\n",
    "plt.show()"
   ]
  },
  {
   "cell_type": "markdown",
   "metadata": {},
   "source": [
    "We achieve following observation from the heatmap above -\n",
    "\n",
    "- Variables `percentage_by_cash_credit`, `Count_3-6_months_late`, `Count_6-12_months_late`, `Count_more_than_12_months_late` share good enough correlation with `target`. "
   ]
  },
  {
   "cell_type": "code",
   "execution_count": 887,
   "metadata": {},
   "outputs": [],
   "source": [
    "# Let's add up the total late payments into one new column 'total_late_count' and check for correlation again\n",
    "train['total_late_count'] = train['Count_more_than_12_months_late'] + train['Count_6-12_months_late'] + train['Count_3-6_months_late']\n"
   ]
  },
  {
   "cell_type": "code",
   "execution_count": 888,
   "metadata": {},
   "outputs": [
    {
     "data": {
      "text/html": [
       "<div>\n",
       "<style scoped>\n",
       "    .dataframe tbody tr th:only-of-type {\n",
       "        vertical-align: middle;\n",
       "    }\n",
       "\n",
       "    .dataframe tbody tr th {\n",
       "        vertical-align: top;\n",
       "    }\n",
       "\n",
       "    .dataframe thead th {\n",
       "        text-align: right;\n",
       "    }\n",
       "</style>\n",
       "<table border=\"1\" class=\"dataframe\">\n",
       "  <thead>\n",
       "    <tr style=\"text-align: right;\">\n",
       "      <th></th>\n",
       "      <th>total_late_count</th>\n",
       "      <th>target</th>\n",
       "    </tr>\n",
       "  </thead>\n",
       "  <tbody>\n",
       "    <tr>\n",
       "      <th>total_late_count</th>\n",
       "      <td>1.000000</td>\n",
       "      <td>-0.353315</td>\n",
       "    </tr>\n",
       "    <tr>\n",
       "      <th>target</th>\n",
       "      <td>-0.353315</td>\n",
       "      <td>1.000000</td>\n",
       "    </tr>\n",
       "  </tbody>\n",
       "</table>\n",
       "</div>"
      ],
      "text/plain": [
       "                  total_late_count    target\n",
       "total_late_count          1.000000 -0.353315\n",
       "target                   -0.353315  1.000000"
      ]
     },
     "execution_count": 888,
     "metadata": {},
     "output_type": "execute_result"
    }
   ],
   "source": [
    "train[['total_late_count','target']].corr()"
   ]
  },
  {
   "cell_type": "markdown",
   "metadata": {},
   "source": [
    "We can clearly notice a stronger correlation between late payments and 'target' variables. This could positively affect our prediction"
   ]
  },
  {
   "cell_type": "code",
   "execution_count": 889,
   "metadata": {},
   "outputs": [],
   "source": [
    "# Let's calculate the percentage of late payments upon all the paid premiums into a new column 'perc_late_count'\n",
    "train['perc_late_count'] = train['total_late_count']/train['no_of_premiums_paid']"
   ]
  },
  {
   "cell_type": "code",
   "execution_count": 890,
   "metadata": {},
   "outputs": [
    {
     "data": {
      "text/html": [
       "<div>\n",
       "<style scoped>\n",
       "    .dataframe tbody tr th:only-of-type {\n",
       "        vertical-align: middle;\n",
       "    }\n",
       "\n",
       "    .dataframe tbody tr th {\n",
       "        vertical-align: top;\n",
       "    }\n",
       "\n",
       "    .dataframe thead th {\n",
       "        text-align: right;\n",
       "    }\n",
       "</style>\n",
       "<table border=\"1\" class=\"dataframe\">\n",
       "  <thead>\n",
       "    <tr style=\"text-align: right;\">\n",
       "      <th></th>\n",
       "      <th>perc_late_count</th>\n",
       "      <th>target</th>\n",
       "    </tr>\n",
       "  </thead>\n",
       "  <tbody>\n",
       "    <tr>\n",
       "      <th>perc_late_count</th>\n",
       "      <td>1.000000</td>\n",
       "      <td>-0.333177</td>\n",
       "    </tr>\n",
       "    <tr>\n",
       "      <th>target</th>\n",
       "      <td>-0.333177</td>\n",
       "      <td>1.000000</td>\n",
       "    </tr>\n",
       "  </tbody>\n",
       "</table>\n",
       "</div>"
      ],
      "text/plain": [
       "                 perc_late_count    target\n",
       "perc_late_count         1.000000 -0.333177\n",
       "target                 -0.333177  1.000000"
      ]
     },
     "execution_count": 890,
     "metadata": {},
     "output_type": "execute_result"
    }
   ],
   "source": [
    "# Check the correlation of 'perc_late_count' with 'target'\n",
    "train[['perc_late_count','target']].corr()"
   ]
  },
  {
   "cell_type": "markdown",
   "metadata": {},
   "source": [
    "#### Thus, we will include 'total_late_count' and not 'perc_late_count'  as its more correlated for late payments with target variable."
   ]
  },
  {
   "cell_type": "code",
   "execution_count": 891,
   "metadata": {},
   "outputs": [
    {
     "data": {
      "text/plain": [
       "id                                 -0.005064\n",
       "perc_premium_paid_by_cash_credit   -0.240980\n",
       "age_in_days                         0.095103\n",
       "Income                              0.016541\n",
       "Count_3-6_months_late              -0.246469\n",
       "Count_6-12_months_late             -0.284034\n",
       "Count_more_than_12_months_late     -0.238482\n",
       "application_underwriting_score      0.067333\n",
       "no_of_premiums_paid                 0.022664\n",
       "target                              1.000000\n",
       "percentage_by_cash_credit          -0.240980\n",
       "age_in_years                        0.095103\n",
       "total_late_count                   -0.353315\n",
       "perc_late_count                    -0.333177\n",
       "Name: target, dtype: float64"
      ]
     },
     "execution_count": 891,
     "metadata": {},
     "output_type": "execute_result"
    }
   ],
   "source": [
    "# Check the correlation values again for 'target' wrt to other variables\n",
    "train.corr()['target']"
   ]
  },
  {
   "cell_type": "code",
   "execution_count": 892,
   "metadata": {},
   "outputs": [
    {
     "data": {
      "text/plain": [
       "((79853, 16),\n",
       " Index(['id', 'perc_premium_paid_by_cash_credit', 'age_in_days', 'Income',\n",
       "        'Count_3-6_months_late', 'Count_6-12_months_late',\n",
       "        'Count_more_than_12_months_late', 'application_underwriting_score',\n",
       "        'no_of_premiums_paid', 'sourcing_channel', 'residence_area_type',\n",
       "        'target', 'percentage_by_cash_credit', 'age_in_years',\n",
       "        'total_late_count', 'perc_late_count'],\n",
       "       dtype='object'))"
      ]
     },
     "execution_count": 892,
     "metadata": {},
     "output_type": "execute_result"
    }
   ],
   "source": [
    "train.shape, train.columns"
   ]
  },
  {
   "cell_type": "markdown",
   "metadata": {},
   "source": [
    "We will include variables only with better correlation for model building. \n",
    " Thus, we drop `id`, `perc_premium_paid_by_cash_credit`, `perc_late_count`, `age_in_days` from the model building."
   ]
  },
  {
   "cell_type": "code",
   "execution_count": 893,
   "metadata": {},
   "outputs": [],
   "source": [
    "# Let's convert the categorical columns to numeric using pandas dummies\n",
    "train = pd.get_dummies(train)"
   ]
  },
  {
   "cell_type": "code",
   "execution_count": 894,
   "metadata": {},
   "outputs": [
    {
     "name": "stdout",
     "output_type": "stream",
     "text": [
      "<class 'pandas.core.frame.DataFrame'>\n",
      "RangeIndex: 79853 entries, 0 to 79852\n",
      "Data columns (total 21 columns):\n",
      " #   Column                            Non-Null Count  Dtype  \n",
      "---  ------                            --------------  -----  \n",
      " 0   id                                79853 non-null  int64  \n",
      " 1   perc_premium_paid_by_cash_credit  79853 non-null  float64\n",
      " 2   age_in_days                       79853 non-null  int64  \n",
      " 3   Income                            79853 non-null  int64  \n",
      " 4   Count_3-6_months_late             79853 non-null  float64\n",
      " 5   Count_6-12_months_late            79853 non-null  float64\n",
      " 6   Count_more_than_12_months_late    79853 non-null  float64\n",
      " 7   application_underwriting_score    79853 non-null  float64\n",
      " 8   no_of_premiums_paid               79853 non-null  int64  \n",
      " 9   target                            79853 non-null  int64  \n",
      " 10  percentage_by_cash_credit         79853 non-null  float64\n",
      " 11  age_in_years                      79853 non-null  float64\n",
      " 12  total_late_count                  79853 non-null  float64\n",
      " 13  perc_late_count                   79853 non-null  float64\n",
      " 14  sourcing_channel_A                79853 non-null  uint8  \n",
      " 15  sourcing_channel_B                79853 non-null  uint8  \n",
      " 16  sourcing_channel_C                79853 non-null  uint8  \n",
      " 17  sourcing_channel_D                79853 non-null  uint8  \n",
      " 18  sourcing_channel_E                79853 non-null  uint8  \n",
      " 19  residence_area_type_Rural         79853 non-null  uint8  \n",
      " 20  residence_area_type_Urban         79853 non-null  uint8  \n",
      "dtypes: float64(9), int64(5), uint8(7)\n",
      "memory usage: 9.1 MB\n"
     ]
    },
    {
     "data": {
      "text/plain": [
       "((79853, 21), None)"
      ]
     },
     "execution_count": 894,
     "metadata": {},
     "output_type": "execute_result"
    }
   ],
   "source": [
    "train.shape, train.info()"
   ]
  },
  {
   "cell_type": "markdown",
   "metadata": {},
   "source": [
    "As we can see `sourcing_channel` and `residence_area_type` columns has been sub divided into 5 and 2 different numeric cols respectively."
   ]
  },
  {
   "cell_type": "markdown",
   "metadata": {},
   "source": [
    "### 6. Performing the same preprocessing on the test data as performed on train data. <a name=\"test_data_preprocessing\"></a>"
   ]
  },
  {
   "cell_type": "code",
   "execution_count": 895,
   "metadata": {},
   "outputs": [
    {
     "data": {
      "text/plain": [
       "Index(['id', 'perc_premium_paid_by_cash_credit', 'age_in_days', 'Income',\n",
       "       'Count_3-6_months_late', 'Count_6-12_months_late',\n",
       "       'Count_more_than_12_months_late', 'application_underwriting_score',\n",
       "       'no_of_premiums_paid', 'sourcing_channel', 'residence_area_type'],\n",
       "      dtype='object')"
      ]
     },
     "execution_count": 895,
     "metadata": {},
     "output_type": "execute_result"
    }
   ],
   "source": [
    "# Check the shape of test data\n",
    "test.columns"
   ]
  },
  {
   "cell_type": "code",
   "execution_count": 896,
   "metadata": {},
   "outputs": [],
   "source": [
    "# Converting the values of 'perc_premium_paid_by_cash_credit' to percentages\n",
    "test['percentage_by_cash_credit'] = test.perc_premium_paid_by_cash_credit.apply(lambda x: x * 100)"
   ]
  },
  {
   "cell_type": "code",
   "execution_count": 897,
   "metadata": {},
   "outputs": [
    {
     "data": {
      "text/html": [
       "<div>\n",
       "<style scoped>\n",
       "    .dataframe tbody tr th:only-of-type {\n",
       "        vertical-align: middle;\n",
       "    }\n",
       "\n",
       "    .dataframe tbody tr th {\n",
       "        vertical-align: top;\n",
       "    }\n",
       "\n",
       "    .dataframe thead th {\n",
       "        text-align: right;\n",
       "    }\n",
       "</style>\n",
       "<table border=\"1\" class=\"dataframe\">\n",
       "  <thead>\n",
       "    <tr style=\"text-align: right;\">\n",
       "      <th></th>\n",
       "      <th>id</th>\n",
       "      <th>perc_premium_paid_by_cash_credit</th>\n",
       "      <th>age_in_days</th>\n",
       "      <th>Income</th>\n",
       "      <th>Count_3-6_months_late</th>\n",
       "      <th>Count_6-12_months_late</th>\n",
       "      <th>Count_more_than_12_months_late</th>\n",
       "      <th>application_underwriting_score</th>\n",
       "      <th>no_of_premiums_paid</th>\n",
       "      <th>sourcing_channel</th>\n",
       "      <th>residence_area_type</th>\n",
       "      <th>percentage_by_cash_credit</th>\n",
       "    </tr>\n",
       "  </thead>\n",
       "  <tbody>\n",
       "    <tr>\n",
       "      <th>0</th>\n",
       "      <td>649</td>\n",
       "      <td>0.001</td>\n",
       "      <td>27384</td>\n",
       "      <td>51150</td>\n",
       "      <td>0.0</td>\n",
       "      <td>0.0</td>\n",
       "      <td>0.0</td>\n",
       "      <td>99.89</td>\n",
       "      <td>7</td>\n",
       "      <td>A</td>\n",
       "      <td>Rural</td>\n",
       "      <td>0.1</td>\n",
       "    </tr>\n",
       "    <tr>\n",
       "      <th>1</th>\n",
       "      <td>81136</td>\n",
       "      <td>0.124</td>\n",
       "      <td>23735</td>\n",
       "      <td>285140</td>\n",
       "      <td>0.0</td>\n",
       "      <td>0.0</td>\n",
       "      <td>0.0</td>\n",
       "      <td>98.93</td>\n",
       "      <td>19</td>\n",
       "      <td>A</td>\n",
       "      <td>Urban</td>\n",
       "      <td>12.4</td>\n",
       "    </tr>\n",
       "    <tr>\n",
       "      <th>2</th>\n",
       "      <td>70762</td>\n",
       "      <td>1.000</td>\n",
       "      <td>17170</td>\n",
       "      <td>186030</td>\n",
       "      <td>0.0</td>\n",
       "      <td>0.0</td>\n",
       "      <td>0.0</td>\n",
       "      <td>NaN</td>\n",
       "      <td>2</td>\n",
       "      <td>B</td>\n",
       "      <td>Urban</td>\n",
       "      <td>100.0</td>\n",
       "    </tr>\n",
       "    <tr>\n",
       "      <th>3</th>\n",
       "      <td>53935</td>\n",
       "      <td>0.198</td>\n",
       "      <td>16068</td>\n",
       "      <td>123540</td>\n",
       "      <td>0.0</td>\n",
       "      <td>0.0</td>\n",
       "      <td>0.0</td>\n",
       "      <td>99.00</td>\n",
       "      <td>11</td>\n",
       "      <td>B</td>\n",
       "      <td>Rural</td>\n",
       "      <td>19.8</td>\n",
       "    </tr>\n",
       "    <tr>\n",
       "      <th>4</th>\n",
       "      <td>15476</td>\n",
       "      <td>0.041</td>\n",
       "      <td>10591</td>\n",
       "      <td>200020</td>\n",
       "      <td>1.0</td>\n",
       "      <td>0.0</td>\n",
       "      <td>0.0</td>\n",
       "      <td>99.17</td>\n",
       "      <td>14</td>\n",
       "      <td>A</td>\n",
       "      <td>Rural</td>\n",
       "      <td>4.1</td>\n",
       "    </tr>\n",
       "  </tbody>\n",
       "</table>\n",
       "</div>"
      ],
      "text/plain": [
       "      id  perc_premium_paid_by_cash_credit  age_in_days  Income  \\\n",
       "0    649                             0.001        27384   51150   \n",
       "1  81136                             0.124        23735  285140   \n",
       "2  70762                             1.000        17170  186030   \n",
       "3  53935                             0.198        16068  123540   \n",
       "4  15476                             0.041        10591  200020   \n",
       "\n",
       "   Count_3-6_months_late  Count_6-12_months_late  \\\n",
       "0                    0.0                     0.0   \n",
       "1                    0.0                     0.0   \n",
       "2                    0.0                     0.0   \n",
       "3                    0.0                     0.0   \n",
       "4                    1.0                     0.0   \n",
       "\n",
       "   Count_more_than_12_months_late  application_underwriting_score  \\\n",
       "0                             0.0                           99.89   \n",
       "1                             0.0                           98.93   \n",
       "2                             0.0                             NaN   \n",
       "3                             0.0                           99.00   \n",
       "4                             0.0                           99.17   \n",
       "\n",
       "   no_of_premiums_paid sourcing_channel residence_area_type  \\\n",
       "0                    7                A               Rural   \n",
       "1                   19                A               Urban   \n",
       "2                    2                B               Urban   \n",
       "3                   11                B               Rural   \n",
       "4                   14                A               Rural   \n",
       "\n",
       "   percentage_by_cash_credit  \n",
       "0                        0.1  \n",
       "1                       12.4  \n",
       "2                      100.0  \n",
       "3                       19.8  \n",
       "4                        4.1  "
      ]
     },
     "execution_count": 897,
     "metadata": {},
     "output_type": "execute_result"
    }
   ],
   "source": [
    "test.head()"
   ]
  },
  {
   "cell_type": "code",
   "execution_count": 898,
   "metadata": {},
   "outputs": [
    {
     "data": {
      "text/plain": [
       "count    34224.000000\n",
       "mean        31.445743\n",
       "std         33.405873\n",
       "min          0.000000\n",
       "25%          3.400000\n",
       "50%         16.900000\n",
       "75%         54.000000\n",
       "max        100.000000\n",
       "Name: percentage_by_cash_credit, dtype: float64"
      ]
     },
     "execution_count": 898,
     "metadata": {},
     "output_type": "execute_result"
    }
   ],
   "source": [
    "test.percentage_by_cash_credit.describe()"
   ]
  },
  {
   "cell_type": "code",
   "execution_count": 899,
   "metadata": {},
   "outputs": [
    {
     "data": {
      "image/png": "[encoded data removed]",
      "text/plain": [
       "<Figure size 576x288 with 1 Axes>"
      ]
     },
     "metadata": {
      "needs_background": "light"
     },
     "output_type": "display_data"
    }
   ],
   "source": [
    "plt.figure(figsize=(8, 4))\n",
    "sns.distplot(test.percentage_by_cash_credit)\n",
    "plt.grid()\n",
    "plt.show()"
   ]
  },
  {
   "cell_type": "code",
   "execution_count": 900,
   "metadata": {},
   "outputs": [],
   "source": [
    "# Converting 'age_in_days' to 'age_in_years'\n",
    "test['age_in_years'] = test.age_in_days.apply(lambda x: x/365)"
   ]
  },
  {
   "cell_type": "code",
   "execution_count": 901,
   "metadata": {},
   "outputs": [
    {
     "data": {
      "image/png": "[encoded data removed]",
      "text/plain": [
       "<Figure size 576x288 with 1 Axes>"
      ]
     },
     "metadata": {
      "needs_background": "light"
     },
     "output_type": "display_data"
    }
   ],
   "source": [
    "plt.figure(figsize=(8, 4))\n",
    "sns.distplot(test.age_in_years)\n",
    "plt.grid()\n",
    "plt.show()"
   ]
  },
  {
   "cell_type": "code",
   "execution_count": 902,
   "metadata": {},
   "outputs": [
    {
     "data": {
      "text/plain": [
       "id                                     0\n",
       "perc_premium_paid_by_cash_credit       0\n",
       "age_in_days                            0\n",
       "Income                                 0\n",
       "Count_3-6_months_late                 31\n",
       "Count_6-12_months_late                31\n",
       "Count_more_than_12_months_late        31\n",
       "application_underwriting_score      1323\n",
       "no_of_premiums_paid                    0\n",
       "sourcing_channel                       0\n",
       "residence_area_type                    0\n",
       "percentage_by_cash_credit              0\n",
       "age_in_years                           0\n",
       "dtype: int64"
      ]
     },
     "execution_count": 902,
     "metadata": {},
     "output_type": "execute_result"
    }
   ],
   "source": [
    "# Check and treat the missing values, if any.\n",
    "test.isnull().sum()"
   ]
  },
  {
   "cell_type": "code",
   "execution_count": 903,
   "metadata": {},
   "outputs": [],
   "source": [
    "# We treat the null values in the same way as treated for train data.\n",
    "# Treating null values for 'late payments' with 0s\n",
    "test['Count_3-6_months_late'].fillna(0, inplace=True)\n",
    "test['Count_6-12_months_late'].fillna(0, inplace=True)\n",
    "test['Count_more_than_12_months_late'].fillna(0, inplace=True)"
   ]
  },
  {
   "cell_type": "code",
   "execution_count": 904,
   "metadata": {},
   "outputs": [],
   "source": [
    "# Treating null values for 'application_underwriting_score' with mean value\n",
    "test['application_underwriting_score'].fillna(test[test['application_underwriting_score'].notnull()]['application_underwriting_score'].mean(), inplace=True)"
   ]
  },
  {
   "cell_type": "code",
   "execution_count": 905,
   "metadata": {},
   "outputs": [
    {
     "data": {
      "text/plain": [
       "id                                  0\n",
       "perc_premium_paid_by_cash_credit    0\n",
       "age_in_days                         0\n",
       "Income                              0\n",
       "Count_3-6_months_late               0\n",
       "Count_6-12_months_late              0\n",
       "Count_more_than_12_months_late      0\n",
       "application_underwriting_score      0\n",
       "no_of_premiums_paid                 0\n",
       "sourcing_channel                    0\n",
       "residence_area_type                 0\n",
       "percentage_by_cash_credit           0\n",
       "age_in_years                        0\n",
       "dtype: int64"
      ]
     },
     "execution_count": 905,
     "metadata": {},
     "output_type": "execute_result"
    }
   ],
   "source": [
    "# check back again for null values\n",
    "test.isnull().sum()"
   ]
  },
  {
   "cell_type": "code",
   "execution_count": 906,
   "metadata": {},
   "outputs": [],
   "source": [
    "# Totaling up all the late payments to 'total_late_count'\n",
    "test['total_late_count'] = test['Count_more_than_12_months_late'] + test['Count_6-12_months_late'] + test['Count_3-6_months_late']"
   ]
  },
  {
   "cell_type": "code",
   "execution_count": 907,
   "metadata": {},
   "outputs": [],
   "source": [
    "# Calculating percentage of late payments\n",
    "test['perc_late_count'] = test['total_late_count']/test['no_of_premiums_paid']"
   ]
  },
  {
   "cell_type": "code",
   "execution_count": 908,
   "metadata": {},
   "outputs": [],
   "source": [
    "# Split the categorical columns to numeric\n",
    "test = pd.get_dummies(test)"
   ]
  },
  {
   "cell_type": "code",
   "execution_count": 909,
   "metadata": {},
   "outputs": [
    {
     "name": "stdout",
     "output_type": "stream",
     "text": [
      "<class 'pandas.core.frame.DataFrame'>\n",
      "RangeIndex: 34224 entries, 0 to 34223\n",
      "Data columns (total 20 columns):\n",
      " #   Column                            Non-Null Count  Dtype  \n",
      "---  ------                            --------------  -----  \n",
      " 0   id                                34224 non-null  int64  \n",
      " 1   perc_premium_paid_by_cash_credit  34224 non-null  float64\n",
      " 2   age_in_days                       34224 non-null  int64  \n",
      " 3   Income                            34224 non-null  int64  \n",
      " 4   Count_3-6_months_late             34224 non-null  float64\n",
      " 5   Count_6-12_months_late            34224 non-null  float64\n",
      " 6   Count_more_than_12_months_late    34224 non-null  float64\n",
      " 7   application_underwriting_score    34224 non-null  float64\n",
      " 8   no_of_premiums_paid               34224 non-null  int64  \n",
      " 9   percentage_by_cash_credit         34224 non-null  float64\n",
      " 10  age_in_years                      34224 non-null  float64\n",
      " 11  total_late_count                  34224 non-null  float64\n",
      " 12  perc_late_count                   34224 non-null  float64\n",
      " 13  sourcing_channel_A                34224 non-null  uint8  \n",
      " 14  sourcing_channel_B                34224 non-null  uint8  \n",
      " 15  sourcing_channel_C                34224 non-null  uint8  \n",
      " 16  sourcing_channel_D                34224 non-null  uint8  \n",
      " 17  sourcing_channel_E                34224 non-null  uint8  \n",
      " 18  residence_area_type_Rural         34224 non-null  uint8  \n",
      " 19  residence_area_type_Urban         34224 non-null  uint8  \n",
      "dtypes: float64(9), int64(4), uint8(7)\n",
      "memory usage: 3.6 MB\n"
     ]
    },
    {
     "data": {
      "text/plain": [
       "((34224, 20), None)"
      ]
     },
     "execution_count": 909,
     "metadata": {},
     "output_type": "execute_result"
    }
   ],
   "source": [
    "test.shape, test.info()"
   ]
  },
  {
   "cell_type": "markdown",
   "metadata": {},
   "source": [
    "We have completed with the usual exploration/transformation to test data\n",
    "\n",
    "### 7. Split data for model training <a name=\"splitting\"></a>"
   ]
  },
  {
   "cell_type": "code",
   "execution_count": 910,
   "metadata": {},
   "outputs": [],
   "source": [
    "# Split the train data using train_test_split needed for model training\n",
    "train_data, val_data = train_test_split(train, test_size=0.35, stratify=train['target'], random_state=1234)"
   ]
  },
  {
   "cell_type": "code",
   "execution_count": 911,
   "metadata": {},
   "outputs": [],
   "source": [
    "x_train = train_data.drop(['id','target','perc_late_count','perc_premium_paid_by_cash_credit','age_in_days'], axis=1)\n",
    "y_train = train_data['target']\n",
    "x_val = val_data.drop(['id','target','perc_late_count','perc_premium_paid_by_cash_credit','age_in_days'], axis=1)\n",
    "y_val = val_data['target']"
   ]
  },
  {
   "cell_type": "code",
   "execution_count": 912,
   "metadata": {},
   "outputs": [
    {
     "name": "stdout",
     "output_type": "stream",
     "text": [
      "(51904, 16)\n",
      "Index(['Income', 'Count_3-6_months_late', 'Count_6-12_months_late',\n",
      "       'Count_more_than_12_months_late', 'application_underwriting_score',\n",
      "       'no_of_premiums_paid', 'percentage_by_cash_credit', 'age_in_years',\n",
      "       'total_late_count', 'sourcing_channel_A', 'sourcing_channel_B',\n",
      "       'sourcing_channel_C', 'sourcing_channel_D', 'sourcing_channel_E',\n",
      "       'residence_area_type_Rural', 'residence_area_type_Urban'],\n",
      "      dtype='object')\n",
      "----------------------------------------------------------------------------------------------------\n",
      "(27949, 16)\n",
      "Index(['Income', 'Count_3-6_months_late', 'Count_6-12_months_late',\n",
      "       'Count_more_than_12_months_late', 'application_underwriting_score',\n",
      "       'no_of_premiums_paid', 'percentage_by_cash_credit', 'age_in_years',\n",
      "       'total_late_count', 'sourcing_channel_A', 'sourcing_channel_B',\n",
      "       'sourcing_channel_C', 'sourcing_channel_D', 'sourcing_channel_E',\n",
      "       'residence_area_type_Rural', 'residence_area_type_Urban'],\n",
      "      dtype='object')\n"
     ]
    }
   ],
   "source": [
    "print(x_train.shape, x_train.columns, sep='\\n')\n",
    "print('--'*50)\n",
    "print(x_val.shape, x_val.columns, sep='\\n')"
   ]
  },
  {
   "cell_type": "code",
   "execution_count": 913,
   "metadata": {},
   "outputs": [],
   "source": [
    "X_test = test.drop(['id','perc_late_count','perc_premium_paid_by_cash_credit','age_in_days'], axis=1)"
   ]
  },
  {
   "cell_type": "markdown",
   "metadata": {},
   "source": [
    "### 8. Model Building <a name=\"model_building\"></a>\n",
    "#### Using Linear Regression <a name=\"linear_regression\"></a>"
   ]
  },
  {
   "cell_type": "code",
   "execution_count": 914,
   "metadata": {},
   "outputs": [],
   "source": [
    "from sklearn.linear_model import LinearRegression\n",
    "\n",
    "lin_reg = LinearRegression()"
   ]
  },
  {
   "cell_type": "code",
   "execution_count": 915,
   "metadata": {},
   "outputs": [
    {
     "data": {
      "text/plain": [
       "LinearRegression()"
      ]
     },
     "execution_count": 915,
     "metadata": {},
     "output_type": "execute_result"
    }
   ],
   "source": [
    "lin_reg.fit(x_train, y_train)"
   ]
  },
  {
   "cell_type": "code",
   "execution_count": 916,
   "metadata": {},
   "outputs": [],
   "source": [
    "pred = lin_reg.predict(x_val)"
   ]
  },
  {
   "cell_type": "code",
   "execution_count": 917,
   "metadata": {},
   "outputs": [
    {
     "data": {
      "text/plain": [
       "array([0.94831352, 0.98969688, 0.97741658, ..., 0.89016854, 0.91405557,\n",
       "       0.98754591])"
      ]
     },
     "execution_count": 917,
     "metadata": {},
     "output_type": "execute_result"
    }
   ],
   "source": [
    "pred"
   ]
  },
  {
   "cell_type": "code",
   "execution_count": 918,
   "metadata": {},
   "outputs": [
    {
     "data": {
      "text/plain": [
       "0.14633602787697997"
      ]
     },
     "execution_count": 918,
     "metadata": {},
     "output_type": "execute_result"
    }
   ],
   "source": [
    "lin_reg.score(x_val, y_val)"
   ]
  },
  {
   "cell_type": "code",
   "execution_count": 919,
   "metadata": {},
   "outputs": [
    {
     "data": {
      "text/plain": [
       "0.16050763721842742"
      ]
     },
     "execution_count": 919,
     "metadata": {},
     "output_type": "execute_result"
    }
   ],
   "source": [
    "lin_reg.score(x_train, y_train)"
   ]
  },
  {
   "cell_type": "markdown",
   "metadata": {},
   "source": [
    "Since, r2 score value does not differ much for the train and validation data. We can depict that our model fits well to the data."
   ]
  },
  {
   "cell_type": "code",
   "execution_count": 920,
   "metadata": {},
   "outputs": [],
   "source": [
    "# Make prediction on the test data\n",
    "new_pred = lin_reg.predict(X_test)"
   ]
  },
  {
   "cell_type": "code",
   "execution_count": 921,
   "metadata": {},
   "outputs": [],
   "source": [
    "# We can now save the obtained prediction as 'target' values on 'submission' file\n",
    "new_frame = pd.DataFrame()\n",
    "new_frame['id'] = test['id']\n",
    "new_frame['target'] = new_pred"
   ]
  },
  {
   "cell_type": "code",
   "execution_count": 922,
   "metadata": {},
   "outputs": [],
   "source": [
    "# Saving the new_frame as output to 'submission' file\n",
    "new_frame.to_csv('submission_Lin_Reg.csv', header=True, index = False)"
   ]
  },
  {
   "cell_type": "markdown",
   "metadata": {},
   "source": [
    "#### Using Logistic Regression <a name=\"logistic_regression\"></a>"
   ]
  },
  {
   "cell_type": "code",
   "execution_count": 923,
   "metadata": {},
   "outputs": [],
   "source": [
    "from sklearn.linear_model import LogisticRegression\n",
    "log_reg = LogisticRegression(solver = 'liblinear', penalty = 'l1')"
   ]
  },
  {
   "cell_type": "code",
   "execution_count": 924,
   "metadata": {},
   "outputs": [
    {
     "data": {
      "text/plain": [
       "LogisticRegression(penalty='l1', solver='liblinear')"
      ]
     },
     "execution_count": 924,
     "metadata": {},
     "output_type": "execute_result"
    }
   ],
   "source": [
    "log_reg.fit(x_train, y_train)"
   ]
  },
  {
   "cell_type": "code",
   "execution_count": 925,
   "metadata": {},
   "outputs": [
    {
     "data": {
      "text/plain": [
       "0.9391033668467565"
      ]
     },
     "execution_count": 925,
     "metadata": {},
     "output_type": "execute_result"
    }
   ],
   "source": [
    "log_reg.score(x_val, y_val)"
   ]
  },
  {
   "cell_type": "code",
   "execution_count": 926,
   "metadata": {},
   "outputs": [
    {
     "data": {
      "text/plain": [
       "0.9396000308261405"
      ]
     },
     "execution_count": 926,
     "metadata": {},
     "output_type": "execute_result"
    }
   ],
   "source": [
    "log_reg.score(x_train, y_train)"
   ]
  },
  {
   "cell_type": "code",
   "execution_count": 927,
   "metadata": {},
   "outputs": [],
   "source": [
    "log_reg_pred = log_reg.predict_proba(X_test)"
   ]
  },
  {
   "cell_type": "code",
   "execution_count": 928,
   "metadata": {},
   "outputs": [
    {
     "data": {
      "text/plain": [
       "array([[0.01058251, 0.98941749],\n",
       "       [0.0217896 , 0.9782104 ],\n",
       "       [0.08453134, 0.91546866],\n",
       "       ...,\n",
       "       [0.03527031, 0.96472969],\n",
       "       [0.26846047, 0.73153953],\n",
       "       [0.02138493, 0.97861507]])"
      ]
     },
     "execution_count": 928,
     "metadata": {},
     "output_type": "execute_result"
    }
   ],
   "source": [
    "log_reg_pred"
   ]
  },
  {
   "cell_type": "code",
   "execution_count": 929,
   "metadata": {},
   "outputs": [],
   "source": [
    "final_prob = np.array(list(map(lambda x: x[1], log_reg_pred)))"
   ]
  },
  {
   "cell_type": "code",
   "execution_count": 930,
   "metadata": {},
   "outputs": [],
   "source": [
    "log_frame = pd.DataFrame()\n",
    "log_frame['id'] = test['id']\n",
    "log_frame['target'] = final_prob"
   ]
  },
  {
   "cell_type": "code",
   "execution_count": 931,
   "metadata": {},
   "outputs": [],
   "source": [
    "log_frame.to_csv('submission_log_reg.csv', header=True, index=False)"
   ]
  },
  {
   "cell_type": "markdown",
   "metadata": {},
   "source": [
    "#### Using CatBoostRegressor <a name=\"catboostregressor\"></a>"
   ]
  },
  {
   "cell_type": "code",
   "execution_count": 932,
   "metadata": {},
   "outputs": [],
   "source": [
    "from catboost import CatBoostRegressor"
   ]
  },
  {
   "cell_type": "code",
   "execution_count": 933,
   "metadata": {},
   "outputs": [],
   "source": [
    "cbr = CatBoostRegressor(loss_function='RMSE',\n",
    "                        eval_metric='AUC', \n",
    "                        use_best_model=True)"
   ]
  },
  {
   "cell_type": "code",
   "execution_count": 934,
   "metadata": {},
   "outputs": [
    {
     "name": "stdout",
     "output_type": "stream",
     "text": [
      "Learning rate set to 0.097199\n",
      "0:\ttest: 0.7991080\tbest: 0.7991080 (0)\ttotal: 13.6ms\tremaining: 13.6s\n",
      "1:\ttest: 0.8136571\tbest: 0.8136571 (1)\ttotal: 26.5ms\tremaining: 13.2s\n",
      "2:\ttest: 0.8151504\tbest: 0.8151504 (2)\ttotal: 40.1ms\tremaining: 13.3s\n",
      "3:\ttest: 0.8246998\tbest: 0.8246998 (3)\ttotal: 56.5ms\tremaining: 14.1s\n",
      "4:\ttest: 0.8262424\tbest: 0.8262424 (4)\ttotal: 69.3ms\tremaining: 13.8s\n",
      "5:\ttest: 0.8264424\tbest: 0.8264424 (5)\ttotal: 83.9ms\tremaining: 13.9s\n",
      "6:\ttest: 0.8279742\tbest: 0.8279742 (6)\ttotal: 99ms\tremaining: 14s\n",
      "7:\ttest: 0.8282153\tbest: 0.8282153 (7)\ttotal: 113ms\tremaining: 14.1s\n",
      "8:\ttest: 0.8284414\tbest: 0.8284414 (8)\ttotal: 128ms\tremaining: 14.1s\n",
      "9:\ttest: 0.8287452\tbest: 0.8287452 (9)\ttotal: 141ms\tremaining: 14s\n",
      "10:\ttest: 0.8289412\tbest: 0.8289412 (10)\ttotal: 154ms\tremaining: 13.8s\n",
      "11:\ttest: 0.8288337\tbest: 0.8289412 (10)\ttotal: 168ms\tremaining: 13.9s\n",
      "12:\ttest: 0.8294111\tbest: 0.8294111 (12)\ttotal: 182ms\tremaining: 13.8s\n",
      "13:\ttest: 0.8301814\tbest: 0.8301814 (13)\ttotal: 197ms\tremaining: 13.9s\n",
      "14:\ttest: 0.8300754\tbest: 0.8301814 (13)\ttotal: 210ms\tremaining: 13.8s\n",
      "15:\ttest: 0.8303475\tbest: 0.8303475 (15)\ttotal: 224ms\tremaining: 13.8s\n",
      "16:\ttest: 0.8304629\tbest: 0.8304629 (16)\ttotal: 239ms\tremaining: 13.8s\n",
      "17:\ttest: 0.8305366\tbest: 0.8305366 (17)\ttotal: 253ms\tremaining: 13.8s\n",
      "18:\ttest: 0.8307921\tbest: 0.8307921 (18)\ttotal: 267ms\tremaining: 13.8s\n",
      "19:\ttest: 0.8310109\tbest: 0.8310109 (19)\ttotal: 283ms\tremaining: 13.9s\n",
      "20:\ttest: 0.8314450\tbest: 0.8314450 (20)\ttotal: 299ms\tremaining: 13.9s\n",
      "21:\ttest: 0.8314564\tbest: 0.8314564 (21)\ttotal: 315ms\tremaining: 14s\n",
      "22:\ttest: 0.8317201\tbest: 0.8317201 (22)\ttotal: 328ms\tremaining: 13.9s\n",
      "23:\ttest: 0.8319562\tbest: 0.8319562 (23)\ttotal: 342ms\tremaining: 13.9s\n",
      "24:\ttest: 0.8320460\tbest: 0.8320460 (24)\ttotal: 358ms\tremaining: 14s\n",
      "25:\ttest: 0.8321422\tbest: 0.8321422 (25)\ttotal: 371ms\tremaining: 13.9s\n",
      "26:\ttest: 0.8323104\tbest: 0.8323104 (26)\ttotal: 384ms\tremaining: 13.8s\n",
      "27:\ttest: 0.8325399\tbest: 0.8325399 (27)\ttotal: 397ms\tremaining: 13.8s\n",
      "28:\ttest: 0.8326180\tbest: 0.8326180 (28)\ttotal: 410ms\tremaining: 13.7s\n",
      "29:\ttest: 0.8328305\tbest: 0.8328305 (29)\ttotal: 423ms\tremaining: 13.7s\n",
      "30:\ttest: 0.8331970\tbest: 0.8331970 (30)\ttotal: 436ms\tremaining: 13.6s\n",
      "31:\ttest: 0.8333254\tbest: 0.8333254 (31)\ttotal: 449ms\tremaining: 13.6s\n",
      "32:\ttest: 0.8335238\tbest: 0.8335238 (32)\ttotal: 469ms\tremaining: 13.8s\n",
      "33:\ttest: 0.8336205\tbest: 0.8336205 (33)\ttotal: 490ms\tremaining: 13.9s\n",
      "34:\ttest: 0.8336187\tbest: 0.8336205 (33)\ttotal: 501ms\tremaining: 13.8s\n",
      "35:\ttest: 0.8336675\tbest: 0.8336675 (35)\ttotal: 516ms\tremaining: 13.8s\n",
      "36:\ttest: 0.8336608\tbest: 0.8336675 (35)\ttotal: 529ms\tremaining: 13.8s\n",
      "37:\ttest: 0.8337232\tbest: 0.8337232 (37)\ttotal: 542ms\tremaining: 13.7s\n",
      "38:\ttest: 0.8337224\tbest: 0.8337232 (37)\ttotal: 554ms\tremaining: 13.7s\n",
      "39:\ttest: 0.8338151\tbest: 0.8338151 (39)\ttotal: 569ms\tremaining: 13.6s\n",
      "40:\ttest: 0.8338437\tbest: 0.8338437 (40)\ttotal: 580ms\tremaining: 13.6s\n",
      "41:\ttest: 0.8338185\tbest: 0.8338437 (40)\ttotal: 592ms\tremaining: 13.5s\n",
      "42:\ttest: 0.8338954\tbest: 0.8338954 (42)\ttotal: 605ms\tremaining: 13.5s\n",
      "43:\ttest: 0.8339787\tbest: 0.8339787 (43)\ttotal: 618ms\tremaining: 13.4s\n",
      "44:\ttest: 0.8341643\tbest: 0.8341643 (44)\ttotal: 634ms\tremaining: 13.5s\n",
      "45:\ttest: 0.8340877\tbest: 0.8341643 (44)\ttotal: 649ms\tremaining: 13.5s\n",
      "46:\ttest: 0.8344311\tbest: 0.8344311 (46)\ttotal: 662ms\tremaining: 13.4s\n",
      "47:\ttest: 0.8344182\tbest: 0.8344311 (46)\ttotal: 674ms\tremaining: 13.4s\n",
      "48:\ttest: 0.8344333\tbest: 0.8344333 (48)\ttotal: 688ms\tremaining: 13.3s\n",
      "49:\ttest: 0.8344968\tbest: 0.8344968 (49)\ttotal: 701ms\tremaining: 13.3s\n",
      "50:\ttest: 0.8347935\tbest: 0.8347935 (50)\ttotal: 714ms\tremaining: 13.3s\n",
      "51:\ttest: 0.8348202\tbest: 0.8348202 (51)\ttotal: 727ms\tremaining: 13.3s\n",
      "52:\ttest: 0.8349228\tbest: 0.8349228 (52)\ttotal: 739ms\tremaining: 13.2s\n",
      "53:\ttest: 0.8349692\tbest: 0.8349692 (53)\ttotal: 752ms\tremaining: 13.2s\n",
      "54:\ttest: 0.8350400\tbest: 0.8350400 (54)\ttotal: 765ms\tremaining: 13.2s\n",
      "55:\ttest: 0.8350741\tbest: 0.8350741 (55)\ttotal: 777ms\tremaining: 13.1s\n",
      "56:\ttest: 0.8351890\tbest: 0.8351890 (56)\ttotal: 790ms\tremaining: 13.1s\n",
      "57:\ttest: 0.8351508\tbest: 0.8351890 (56)\ttotal: 805ms\tremaining: 13.1s\n",
      "58:\ttest: 0.8351120\tbest: 0.8351890 (56)\ttotal: 818ms\tremaining: 13s\n",
      "59:\ttest: 0.8351913\tbest: 0.8351913 (59)\ttotal: 833ms\tremaining: 13s\n",
      "60:\ttest: 0.8352028\tbest: 0.8352028 (60)\ttotal: 846ms\tremaining: 13s\n",
      "61:\ttest: 0.8353414\tbest: 0.8353414 (61)\ttotal: 857ms\tremaining: 13s\n",
      "62:\ttest: 0.8352453\tbest: 0.8353414 (61)\ttotal: 873ms\tremaining: 13s\n",
      "63:\ttest: 0.8352536\tbest: 0.8353414 (61)\ttotal: 888ms\tremaining: 13s\n",
      "64:\ttest: 0.8352990\tbest: 0.8353414 (61)\ttotal: 902ms\tremaining: 13s\n",
      "65:\ttest: 0.8352648\tbest: 0.8353414 (61)\ttotal: 917ms\tremaining: 13s\n",
      "66:\ttest: 0.8353611\tbest: 0.8353611 (66)\ttotal: 931ms\tremaining: 13s\n",
      "67:\ttest: 0.8352882\tbest: 0.8353611 (66)\ttotal: 945ms\tremaining: 12.9s\n",
      "68:\ttest: 0.8353478\tbest: 0.8353611 (66)\ttotal: 959ms\tremaining: 12.9s\n",
      "69:\ttest: 0.8354462\tbest: 0.8354462 (69)\ttotal: 973ms\tremaining: 12.9s\n",
      "70:\ttest: 0.8355505\tbest: 0.8355505 (70)\ttotal: 986ms\tremaining: 12.9s\n",
      "71:\ttest: 0.8356708\tbest: 0.8356708 (71)\ttotal: 1s\tremaining: 12.9s\n",
      "72:\ttest: 0.8357373\tbest: 0.8357373 (72)\ttotal: 1.02s\tremaining: 13s\n",
      "73:\ttest: 0.8357011\tbest: 0.8357373 (72)\ttotal: 1.04s\tremaining: 13s\n",
      "74:\ttest: 0.8357253\tbest: 0.8357373 (72)\ttotal: 1.05s\tremaining: 13s\n",
      "75:\ttest: 0.8357609\tbest: 0.8357609 (75)\ttotal: 1.07s\tremaining: 13s\n",
      "76:\ttest: 0.8357985\tbest: 0.8357985 (76)\ttotal: 1.08s\tremaining: 13s\n",
      "77:\ttest: 0.8358388\tbest: 0.8358388 (77)\ttotal: 1.1s\tremaining: 13s\n",
      "78:\ttest: 0.8359637\tbest: 0.8359637 (78)\ttotal: 1.11s\tremaining: 13s\n",
      "79:\ttest: 0.8360130\tbest: 0.8360130 (79)\ttotal: 1.13s\tremaining: 13s\n",
      "80:\ttest: 0.8359339\tbest: 0.8360130 (79)\ttotal: 1.14s\tremaining: 12.9s\n",
      "81:\ttest: 0.8359569\tbest: 0.8360130 (79)\ttotal: 1.15s\tremaining: 12.9s\n",
      "82:\ttest: 0.8359965\tbest: 0.8360130 (79)\ttotal: 1.17s\tremaining: 12.9s\n",
      "83:\ttest: 0.8360018\tbest: 0.8360130 (79)\ttotal: 1.18s\tremaining: 12.9s\n",
      "84:\ttest: 0.8359536\tbest: 0.8360130 (79)\ttotal: 1.2s\tremaining: 12.9s\n",
      "85:\ttest: 0.8359660\tbest: 0.8360130 (79)\ttotal: 1.21s\tremaining: 12.9s\n",
      "86:\ttest: 0.8359658\tbest: 0.8360130 (79)\ttotal: 1.23s\tremaining: 12.9s\n",
      "87:\ttest: 0.8359802\tbest: 0.8360130 (79)\ttotal: 1.24s\tremaining: 12.9s\n",
      "88:\ttest: 0.8360937\tbest: 0.8360937 (88)\ttotal: 1.26s\tremaining: 12.9s\n",
      "89:\ttest: 0.8361918\tbest: 0.8361918 (89)\ttotal: 1.27s\tremaining: 12.8s\n",
      "90:\ttest: 0.8362403\tbest: 0.8362403 (90)\ttotal: 1.28s\tremaining: 12.8s\n",
      "91:\ttest: 0.8362472\tbest: 0.8362472 (91)\ttotal: 1.3s\tremaining: 12.8s\n",
      "92:\ttest: 0.8362311\tbest: 0.8362472 (91)\ttotal: 1.31s\tremaining: 12.8s\n",
      "93:\ttest: 0.8362755\tbest: 0.8362755 (93)\ttotal: 1.32s\tremaining: 12.8s\n",
      "94:\ttest: 0.8363516\tbest: 0.8363516 (94)\ttotal: 1.33s\tremaining: 12.7s\n",
      "95:\ttest: 0.8362631\tbest: 0.8363516 (94)\ttotal: 1.35s\tremaining: 12.7s\n",
      "96:\ttest: 0.8362627\tbest: 0.8363516 (94)\ttotal: 1.36s\tremaining: 12.7s\n",
      "97:\ttest: 0.8362497\tbest: 0.8363516 (94)\ttotal: 1.38s\tremaining: 12.7s\n",
      "98:\ttest: 0.8362412\tbest: 0.8363516 (94)\ttotal: 1.39s\tremaining: 12.7s\n",
      "99:\ttest: 0.8362464\tbest: 0.8363516 (94)\ttotal: 1.41s\tremaining: 12.7s\n",
      "100:\ttest: 0.8361977\tbest: 0.8363516 (94)\ttotal: 1.42s\tremaining: 12.6s\n",
      "101:\ttest: 0.8360964\tbest: 0.8363516 (94)\ttotal: 1.43s\tremaining: 12.6s\n",
      "102:\ttest: 0.8360816\tbest: 0.8363516 (94)\ttotal: 1.45s\tremaining: 12.6s\n",
      "103:\ttest: 0.8361165\tbest: 0.8363516 (94)\ttotal: 1.46s\tremaining: 12.6s\n",
      "104:\ttest: 0.8361246\tbest: 0.8363516 (94)\ttotal: 1.47s\tremaining: 12.6s\n",
      "105:\ttest: 0.8361121\tbest: 0.8363516 (94)\ttotal: 1.49s\tremaining: 12.5s\n",
      "106:\ttest: 0.8361274\tbest: 0.8363516 (94)\ttotal: 1.5s\tremaining: 12.5s\n",
      "107:\ttest: 0.8361179\tbest: 0.8363516 (94)\ttotal: 1.51s\tremaining: 12.5s\n",
      "108:\ttest: 0.8361078\tbest: 0.8363516 (94)\ttotal: 1.52s\tremaining: 12.5s\n",
      "109:\ttest: 0.8360868\tbest: 0.8363516 (94)\ttotal: 1.54s\tremaining: 12.4s\n",
      "110:\ttest: 0.8361377\tbest: 0.8363516 (94)\ttotal: 1.55s\tremaining: 12.4s\n",
      "111:\ttest: 0.8361913\tbest: 0.8363516 (94)\ttotal: 1.57s\tremaining: 12.4s\n",
      "112:\ttest: 0.8361972\tbest: 0.8363516 (94)\ttotal: 1.58s\tremaining: 12.4s\n",
      "113:\ttest: 0.8362171\tbest: 0.8363516 (94)\ttotal: 1.59s\tremaining: 12.4s\n",
      "114:\ttest: 0.8361305\tbest: 0.8363516 (94)\ttotal: 1.61s\tremaining: 12.4s\n",
      "115:\ttest: 0.8361475\tbest: 0.8363516 (94)\ttotal: 1.62s\tremaining: 12.3s\n",
      "116:\ttest: 0.8361793\tbest: 0.8363516 (94)\ttotal: 1.63s\tremaining: 12.3s\n",
      "117:\ttest: 0.8362229\tbest: 0.8363516 (94)\ttotal: 1.64s\tremaining: 12.3s\n",
      "118:\ttest: 0.8362086\tbest: 0.8363516 (94)\ttotal: 1.66s\tremaining: 12.3s\n",
      "119:\ttest: 0.8362056\tbest: 0.8363516 (94)\ttotal: 1.67s\tremaining: 12.2s\n",
      "120:\ttest: 0.8362083\tbest: 0.8363516 (94)\ttotal: 1.68s\tremaining: 12.2s\n",
      "121:\ttest: 0.8362018\tbest: 0.8363516 (94)\ttotal: 1.7s\tremaining: 12.2s\n",
      "122:\ttest: 0.8361011\tbest: 0.8363516 (94)\ttotal: 1.71s\tremaining: 12.2s\n",
      "123:\ttest: 0.8361114\tbest: 0.8363516 (94)\ttotal: 1.72s\tremaining: 12.2s\n",
      "124:\ttest: 0.8361227\tbest: 0.8363516 (94)\ttotal: 1.74s\tremaining: 12.2s\n"
     ]
    },
    {
     "name": "stdout",
     "output_type": "stream",
     "text": [
      "125:\ttest: 0.8361678\tbest: 0.8363516 (94)\ttotal: 1.75s\tremaining: 12.2s\n",
      "126:\ttest: 0.8361671\tbest: 0.8363516 (94)\ttotal: 1.77s\tremaining: 12.1s\n",
      "127:\ttest: 0.8361660\tbest: 0.8363516 (94)\ttotal: 1.78s\tremaining: 12.1s\n",
      "128:\ttest: 0.8361780\tbest: 0.8363516 (94)\ttotal: 1.79s\tremaining: 12.1s\n",
      "129:\ttest: 0.8362774\tbest: 0.8363516 (94)\ttotal: 1.81s\tremaining: 12.1s\n",
      "130:\ttest: 0.8362214\tbest: 0.8363516 (94)\ttotal: 1.83s\tremaining: 12.2s\n",
      "131:\ttest: 0.8361973\tbest: 0.8363516 (94)\ttotal: 1.85s\tremaining: 12.2s\n",
      "132:\ttest: 0.8361828\tbest: 0.8363516 (94)\ttotal: 1.87s\tremaining: 12.2s\n",
      "133:\ttest: 0.8361953\tbest: 0.8363516 (94)\ttotal: 1.88s\tremaining: 12.1s\n",
      "134:\ttest: 0.8361762\tbest: 0.8363516 (94)\ttotal: 1.89s\tremaining: 12.1s\n",
      "135:\ttest: 0.8361576\tbest: 0.8363516 (94)\ttotal: 1.91s\tremaining: 12.1s\n",
      "136:\ttest: 0.8361565\tbest: 0.8363516 (94)\ttotal: 1.92s\tremaining: 12.1s\n",
      "137:\ttest: 0.8360956\tbest: 0.8363516 (94)\ttotal: 1.94s\tremaining: 12.1s\n",
      "138:\ttest: 0.8360873\tbest: 0.8363516 (94)\ttotal: 1.95s\tremaining: 12.1s\n",
      "139:\ttest: 0.8361015\tbest: 0.8363516 (94)\ttotal: 1.97s\tremaining: 12.1s\n",
      "140:\ttest: 0.8360960\tbest: 0.8363516 (94)\ttotal: 1.99s\tremaining: 12.1s\n",
      "141:\ttest: 0.8360793\tbest: 0.8363516 (94)\ttotal: 2s\tremaining: 12.1s\n",
      "142:\ttest: 0.8361136\tbest: 0.8363516 (94)\ttotal: 2.01s\tremaining: 12.1s\n",
      "143:\ttest: 0.8360976\tbest: 0.8363516 (94)\ttotal: 2.03s\tremaining: 12.1s\n",
      "144:\ttest: 0.8361306\tbest: 0.8363516 (94)\ttotal: 2.05s\tremaining: 12.1s\n",
      "145:\ttest: 0.8361520\tbest: 0.8363516 (94)\ttotal: 2.06s\tremaining: 12.1s\n",
      "146:\ttest: 0.8361476\tbest: 0.8363516 (94)\ttotal: 2.07s\tremaining: 12s\n",
      "147:\ttest: 0.8361179\tbest: 0.8363516 (94)\ttotal: 2.09s\tremaining: 12s\n",
      "148:\ttest: 0.8360691\tbest: 0.8363516 (94)\ttotal: 2.1s\tremaining: 12s\n",
      "149:\ttest: 0.8360708\tbest: 0.8363516 (94)\ttotal: 2.12s\tremaining: 12s\n",
      "150:\ttest: 0.8359822\tbest: 0.8363516 (94)\ttotal: 2.13s\tremaining: 12s\n",
      "151:\ttest: 0.8359770\tbest: 0.8363516 (94)\ttotal: 2.15s\tremaining: 12s\n",
      "152:\ttest: 0.8359665\tbest: 0.8363516 (94)\ttotal: 2.16s\tremaining: 12s\n",
      "153:\ttest: 0.8359855\tbest: 0.8363516 (94)\ttotal: 2.17s\tremaining: 11.9s\n",
      "154:\ttest: 0.8359929\tbest: 0.8363516 (94)\ttotal: 2.19s\tremaining: 11.9s\n",
      "155:\ttest: 0.8359924\tbest: 0.8363516 (94)\ttotal: 2.2s\tremaining: 11.9s\n",
      "156:\ttest: 0.8358268\tbest: 0.8363516 (94)\ttotal: 2.21s\tremaining: 11.9s\n",
      "157:\ttest: 0.8358460\tbest: 0.8363516 (94)\ttotal: 2.23s\tremaining: 11.9s\n",
      "158:\ttest: 0.8358544\tbest: 0.8363516 (94)\ttotal: 2.24s\tremaining: 11.9s\n",
      "159:\ttest: 0.8357838\tbest: 0.8363516 (94)\ttotal: 2.25s\tremaining: 11.8s\n",
      "160:\ttest: 0.8357831\tbest: 0.8363516 (94)\ttotal: 2.27s\tremaining: 11.8s\n",
      "161:\ttest: 0.8357759\tbest: 0.8363516 (94)\ttotal: 2.28s\tremaining: 11.8s\n",
      "162:\ttest: 0.8357727\tbest: 0.8363516 (94)\ttotal: 2.29s\tremaining: 11.8s\n",
      "163:\ttest: 0.8357770\tbest: 0.8363516 (94)\ttotal: 2.31s\tremaining: 11.8s\n",
      "164:\ttest: 0.8357747\tbest: 0.8363516 (94)\ttotal: 2.32s\tremaining: 11.7s\n",
      "165:\ttest: 0.8357750\tbest: 0.8363516 (94)\ttotal: 2.33s\tremaining: 11.7s\n",
      "166:\ttest: 0.8357754\tbest: 0.8363516 (94)\ttotal: 2.34s\tremaining: 11.7s\n",
      "167:\ttest: 0.8357758\tbest: 0.8363516 (94)\ttotal: 2.36s\tremaining: 11.7s\n",
      "168:\ttest: 0.8358009\tbest: 0.8363516 (94)\ttotal: 2.37s\tremaining: 11.6s\n",
      "169:\ttest: 0.8357774\tbest: 0.8363516 (94)\ttotal: 2.38s\tremaining: 11.6s\n",
      "170:\ttest: 0.8357431\tbest: 0.8363516 (94)\ttotal: 2.39s\tremaining: 11.6s\n",
      "171:\ttest: 0.8357350\tbest: 0.8363516 (94)\ttotal: 2.4s\tremaining: 11.6s\n",
      "172:\ttest: 0.8357263\tbest: 0.8363516 (94)\ttotal: 2.41s\tremaining: 11.5s\n",
      "173:\ttest: 0.8358594\tbest: 0.8363516 (94)\ttotal: 2.43s\tremaining: 11.5s\n",
      "174:\ttest: 0.8358650\tbest: 0.8363516 (94)\ttotal: 2.44s\tremaining: 11.5s\n",
      "175:\ttest: 0.8359284\tbest: 0.8363516 (94)\ttotal: 2.45s\tremaining: 11.5s\n",
      "176:\ttest: 0.8359288\tbest: 0.8363516 (94)\ttotal: 2.46s\tremaining: 11.5s\n",
      "177:\ttest: 0.8358763\tbest: 0.8363516 (94)\ttotal: 2.48s\tremaining: 11.4s\n",
      "178:\ttest: 0.8358559\tbest: 0.8363516 (94)\ttotal: 2.49s\tremaining: 11.4s\n",
      "179:\ttest: 0.8358293\tbest: 0.8363516 (94)\ttotal: 2.5s\tremaining: 11.4s\n",
      "180:\ttest: 0.8358297\tbest: 0.8363516 (94)\ttotal: 2.52s\tremaining: 11.4s\n",
      "181:\ttest: 0.8358011\tbest: 0.8363516 (94)\ttotal: 2.53s\tremaining: 11.4s\n",
      "182:\ttest: 0.8357879\tbest: 0.8363516 (94)\ttotal: 2.54s\tremaining: 11.4s\n",
      "183:\ttest: 0.8357248\tbest: 0.8363516 (94)\ttotal: 2.55s\tremaining: 11.3s\n",
      "184:\ttest: 0.8357252\tbest: 0.8363516 (94)\ttotal: 2.56s\tremaining: 11.3s\n",
      "185:\ttest: 0.8356978\tbest: 0.8363516 (94)\ttotal: 2.58s\tremaining: 11.3s\n",
      "186:\ttest: 0.8356054\tbest: 0.8363516 (94)\ttotal: 2.59s\tremaining: 11.3s\n",
      "187:\ttest: 0.8356057\tbest: 0.8363516 (94)\ttotal: 2.6s\tremaining: 11.2s\n",
      "188:\ttest: 0.8355981\tbest: 0.8363516 (94)\ttotal: 2.61s\tremaining: 11.2s\n",
      "189:\ttest: 0.8355763\tbest: 0.8363516 (94)\ttotal: 2.63s\tremaining: 11.2s\n",
      "190:\ttest: 0.8355223\tbest: 0.8363516 (94)\ttotal: 2.64s\tremaining: 11.2s\n",
      "191:\ttest: 0.8355421\tbest: 0.8363516 (94)\ttotal: 2.65s\tremaining: 11.2s\n",
      "192:\ttest: 0.8355346\tbest: 0.8363516 (94)\ttotal: 2.67s\tremaining: 11.1s\n",
      "193:\ttest: 0.8355671\tbest: 0.8363516 (94)\ttotal: 2.68s\tremaining: 11.1s\n",
      "194:\ttest: 0.8354785\tbest: 0.8363516 (94)\ttotal: 2.69s\tremaining: 11.1s\n",
      "195:\ttest: 0.8354638\tbest: 0.8363516 (94)\ttotal: 2.71s\tremaining: 11.1s\n",
      "196:\ttest: 0.8355792\tbest: 0.8363516 (94)\ttotal: 2.72s\tremaining: 11.1s\n",
      "197:\ttest: 0.8355621\tbest: 0.8363516 (94)\ttotal: 2.73s\tremaining: 11.1s\n",
      "198:\ttest: 0.8355098\tbest: 0.8363516 (94)\ttotal: 2.75s\tremaining: 11.1s\n",
      "199:\ttest: 0.8354831\tbest: 0.8363516 (94)\ttotal: 2.76s\tremaining: 11s\n",
      "200:\ttest: 0.8354389\tbest: 0.8363516 (94)\ttotal: 2.77s\tremaining: 11s\n",
      "201:\ttest: 0.8353880\tbest: 0.8363516 (94)\ttotal: 2.78s\tremaining: 11s\n",
      "202:\ttest: 0.8354224\tbest: 0.8363516 (94)\ttotal: 2.8s\tremaining: 11s\n",
      "203:\ttest: 0.8354315\tbest: 0.8363516 (94)\ttotal: 2.82s\tremaining: 11s\n",
      "204:\ttest: 0.8353882\tbest: 0.8363516 (94)\ttotal: 2.83s\tremaining: 11s\n",
      "205:\ttest: 0.8354683\tbest: 0.8363516 (94)\ttotal: 2.85s\tremaining: 11s\n",
      "206:\ttest: 0.8354781\tbest: 0.8363516 (94)\ttotal: 2.87s\tremaining: 11s\n",
      "207:\ttest: 0.8354868\tbest: 0.8363516 (94)\ttotal: 2.88s\tremaining: 11s\n",
      "208:\ttest: 0.8354519\tbest: 0.8363516 (94)\ttotal: 2.9s\tremaining: 11s\n",
      "209:\ttest: 0.8354804\tbest: 0.8363516 (94)\ttotal: 2.91s\tremaining: 11s\n",
      "210:\ttest: 0.8354801\tbest: 0.8363516 (94)\ttotal: 2.93s\tremaining: 10.9s\n",
      "211:\ttest: 0.8354271\tbest: 0.8363516 (94)\ttotal: 2.94s\tremaining: 10.9s\n",
      "212:\ttest: 0.8353858\tbest: 0.8363516 (94)\ttotal: 2.95s\tremaining: 10.9s\n",
      "213:\ttest: 0.8353696\tbest: 0.8363516 (94)\ttotal: 2.97s\tremaining: 10.9s\n",
      "214:\ttest: 0.8352809\tbest: 0.8363516 (94)\ttotal: 2.98s\tremaining: 10.9s\n",
      "215:\ttest: 0.8352538\tbest: 0.8363516 (94)\ttotal: 3s\tremaining: 10.9s\n",
      "216:\ttest: 0.8352494\tbest: 0.8363516 (94)\ttotal: 3.01s\tremaining: 10.9s\n",
      "217:\ttest: 0.8353474\tbest: 0.8363516 (94)\ttotal: 3.03s\tremaining: 10.9s\n",
      "218:\ttest: 0.8352972\tbest: 0.8363516 (94)\ttotal: 3.04s\tremaining: 10.9s\n",
      "219:\ttest: 0.8353540\tbest: 0.8363516 (94)\ttotal: 3.06s\tremaining: 10.8s\n",
      "220:\ttest: 0.8353158\tbest: 0.8363516 (94)\ttotal: 3.08s\tremaining: 10.8s\n",
      "221:\ttest: 0.8353386\tbest: 0.8363516 (94)\ttotal: 3.09s\tremaining: 10.8s\n",
      "222:\ttest: 0.8352878\tbest: 0.8363516 (94)\ttotal: 3.1s\tremaining: 10.8s\n",
      "223:\ttest: 0.8352312\tbest: 0.8363516 (94)\ttotal: 3.12s\tremaining: 10.8s\n",
      "224:\ttest: 0.8352420\tbest: 0.8363516 (94)\ttotal: 3.13s\tremaining: 10.8s\n",
      "225:\ttest: 0.8352486\tbest: 0.8363516 (94)\ttotal: 3.15s\tremaining: 10.8s\n",
      "226:\ttest: 0.8352227\tbest: 0.8363516 (94)\ttotal: 3.17s\tremaining: 10.8s\n",
      "227:\ttest: 0.8352186\tbest: 0.8363516 (94)\ttotal: 3.18s\tremaining: 10.8s\n",
      "228:\ttest: 0.8351694\tbest: 0.8363516 (94)\ttotal: 3.2s\tremaining: 10.8s\n",
      "229:\ttest: 0.8351108\tbest: 0.8363516 (94)\ttotal: 3.21s\tremaining: 10.7s\n",
      "230:\ttest: 0.8350937\tbest: 0.8363516 (94)\ttotal: 3.23s\tremaining: 10.7s\n",
      "231:\ttest: 0.8350839\tbest: 0.8363516 (94)\ttotal: 3.24s\tremaining: 10.7s\n",
      "232:\ttest: 0.8351171\tbest: 0.8363516 (94)\ttotal: 3.26s\tremaining: 10.7s\n",
      "233:\ttest: 0.8351291\tbest: 0.8363516 (94)\ttotal: 3.27s\tremaining: 10.7s\n",
      "234:\ttest: 0.8351021\tbest: 0.8363516 (94)\ttotal: 3.29s\tremaining: 10.7s\n",
      "235:\ttest: 0.8350778\tbest: 0.8363516 (94)\ttotal: 3.31s\tremaining: 10.7s\n",
      "236:\ttest: 0.8352005\tbest: 0.8363516 (94)\ttotal: 3.33s\tremaining: 10.7s\n",
      "237:\ttest: 0.8351536\tbest: 0.8363516 (94)\ttotal: 3.34s\tremaining: 10.7s\n",
      "238:\ttest: 0.8351291\tbest: 0.8363516 (94)\ttotal: 3.36s\tremaining: 10.7s\n",
      "239:\ttest: 0.8351572\tbest: 0.8363516 (94)\ttotal: 3.37s\tremaining: 10.7s\n",
      "240:\ttest: 0.8351479\tbest: 0.8363516 (94)\ttotal: 3.39s\tremaining: 10.7s\n",
      "241:\ttest: 0.8352525\tbest: 0.8363516 (94)\ttotal: 3.4s\tremaining: 10.7s\n",
      "242:\ttest: 0.8352529\tbest: 0.8363516 (94)\ttotal: 3.42s\tremaining: 10.7s\n",
      "243:\ttest: 0.8352530\tbest: 0.8363516 (94)\ttotal: 3.44s\tremaining: 10.6s\n",
      "244:\ttest: 0.8352402\tbest: 0.8363516 (94)\ttotal: 3.46s\tremaining: 10.7s\n",
      "245:\ttest: 0.8351659\tbest: 0.8363516 (94)\ttotal: 3.47s\tremaining: 10.6s\n",
      "246:\ttest: 0.8351754\tbest: 0.8363516 (94)\ttotal: 3.49s\tremaining: 10.6s\n"
     ]
    },
    {
     "name": "stdout",
     "output_type": "stream",
     "text": [
      "247:\ttest: 0.8352165\tbest: 0.8363516 (94)\ttotal: 3.51s\tremaining: 10.6s\n",
      "248:\ttest: 0.8353019\tbest: 0.8363516 (94)\ttotal: 3.52s\tremaining: 10.6s\n",
      "249:\ttest: 0.8352966\tbest: 0.8363516 (94)\ttotal: 3.54s\tremaining: 10.6s\n",
      "250:\ttest: 0.8353539\tbest: 0.8363516 (94)\ttotal: 3.55s\tremaining: 10.6s\n",
      "251:\ttest: 0.8353428\tbest: 0.8363516 (94)\ttotal: 3.57s\tremaining: 10.6s\n",
      "252:\ttest: 0.8353421\tbest: 0.8363516 (94)\ttotal: 3.58s\tremaining: 10.6s\n",
      "253:\ttest: 0.8353091\tbest: 0.8363516 (94)\ttotal: 3.6s\tremaining: 10.6s\n",
      "254:\ttest: 0.8353201\tbest: 0.8363516 (94)\ttotal: 3.61s\tremaining: 10.5s\n",
      "255:\ttest: 0.8353497\tbest: 0.8363516 (94)\ttotal: 3.63s\tremaining: 10.6s\n",
      "256:\ttest: 0.8353336\tbest: 0.8363516 (94)\ttotal: 3.65s\tremaining: 10.5s\n",
      "257:\ttest: 0.8352225\tbest: 0.8363516 (94)\ttotal: 3.67s\tremaining: 10.5s\n",
      "258:\ttest: 0.8352759\tbest: 0.8363516 (94)\ttotal: 3.68s\tremaining: 10.5s\n",
      "259:\ttest: 0.8352399\tbest: 0.8363516 (94)\ttotal: 3.7s\tremaining: 10.5s\n",
      "260:\ttest: 0.8352112\tbest: 0.8363516 (94)\ttotal: 3.71s\tremaining: 10.5s\n",
      "261:\ttest: 0.8352530\tbest: 0.8363516 (94)\ttotal: 3.73s\tremaining: 10.5s\n",
      "262:\ttest: 0.8352307\tbest: 0.8363516 (94)\ttotal: 3.74s\tremaining: 10.5s\n",
      "263:\ttest: 0.8351891\tbest: 0.8363516 (94)\ttotal: 3.75s\tremaining: 10.5s\n",
      "264:\ttest: 0.8351255\tbest: 0.8363516 (94)\ttotal: 3.77s\tremaining: 10.5s\n",
      "265:\ttest: 0.8350497\tbest: 0.8363516 (94)\ttotal: 3.79s\tremaining: 10.4s\n",
      "266:\ttest: 0.8349853\tbest: 0.8363516 (94)\ttotal: 3.8s\tremaining: 10.4s\n",
      "267:\ttest: 0.8349536\tbest: 0.8363516 (94)\ttotal: 3.82s\tremaining: 10.4s\n",
      "268:\ttest: 0.8348982\tbest: 0.8363516 (94)\ttotal: 3.84s\tremaining: 10.4s\n",
      "269:\ttest: 0.8348801\tbest: 0.8363516 (94)\ttotal: 3.86s\tremaining: 10.4s\n",
      "270:\ttest: 0.8348561\tbest: 0.8363516 (94)\ttotal: 3.88s\tremaining: 10.4s\n",
      "271:\ttest: 0.8348222\tbest: 0.8363516 (94)\ttotal: 3.89s\tremaining: 10.4s\n",
      "272:\ttest: 0.8348260\tbest: 0.8363516 (94)\ttotal: 3.9s\tremaining: 10.4s\n",
      "273:\ttest: 0.8348410\tbest: 0.8363516 (94)\ttotal: 3.92s\tremaining: 10.4s\n",
      "274:\ttest: 0.8348678\tbest: 0.8363516 (94)\ttotal: 3.94s\tremaining: 10.4s\n",
      "275:\ttest: 0.8348899\tbest: 0.8363516 (94)\ttotal: 3.95s\tremaining: 10.4s\n",
      "276:\ttest: 0.8348437\tbest: 0.8363516 (94)\ttotal: 3.96s\tremaining: 10.3s\n",
      "277:\ttest: 0.8347683\tbest: 0.8363516 (94)\ttotal: 3.98s\tremaining: 10.3s\n",
      "278:\ttest: 0.8348398\tbest: 0.8363516 (94)\ttotal: 4s\tremaining: 10.3s\n",
      "279:\ttest: 0.8349051\tbest: 0.8363516 (94)\ttotal: 4.02s\tremaining: 10.3s\n",
      "280:\ttest: 0.8348647\tbest: 0.8363516 (94)\ttotal: 4.03s\tremaining: 10.3s\n",
      "281:\ttest: 0.8348135\tbest: 0.8363516 (94)\ttotal: 4.05s\tremaining: 10.3s\n",
      "282:\ttest: 0.8346439\tbest: 0.8363516 (94)\ttotal: 4.07s\tremaining: 10.3s\n",
      "283:\ttest: 0.8346622\tbest: 0.8363516 (94)\ttotal: 4.08s\tremaining: 10.3s\n",
      "284:\ttest: 0.8345846\tbest: 0.8363516 (94)\ttotal: 4.09s\tremaining: 10.3s\n",
      "285:\ttest: 0.8346529\tbest: 0.8363516 (94)\ttotal: 4.11s\tremaining: 10.3s\n",
      "286:\ttest: 0.8344207\tbest: 0.8363516 (94)\ttotal: 4.13s\tremaining: 10.3s\n",
      "287:\ttest: 0.8344123\tbest: 0.8363516 (94)\ttotal: 4.14s\tremaining: 10.2s\n",
      "288:\ttest: 0.8344443\tbest: 0.8363516 (94)\ttotal: 4.16s\tremaining: 10.2s\n",
      "289:\ttest: 0.8343484\tbest: 0.8363516 (94)\ttotal: 4.18s\tremaining: 10.2s\n",
      "290:\ttest: 0.8342532\tbest: 0.8363516 (94)\ttotal: 4.2s\tremaining: 10.2s\n",
      "291:\ttest: 0.8342425\tbest: 0.8363516 (94)\ttotal: 4.21s\tremaining: 10.2s\n",
      "292:\ttest: 0.8341930\tbest: 0.8363516 (94)\ttotal: 4.22s\tremaining: 10.2s\n",
      "293:\ttest: 0.8342336\tbest: 0.8363516 (94)\ttotal: 4.24s\tremaining: 10.2s\n",
      "294:\ttest: 0.8341571\tbest: 0.8363516 (94)\ttotal: 4.25s\tremaining: 10.2s\n",
      "295:\ttest: 0.8341537\tbest: 0.8363516 (94)\ttotal: 4.27s\tremaining: 10.2s\n",
      "296:\ttest: 0.8341040\tbest: 0.8363516 (94)\ttotal: 4.28s\tremaining: 10.1s\n",
      "297:\ttest: 0.8340942\tbest: 0.8363516 (94)\ttotal: 4.29s\tremaining: 10.1s\n",
      "298:\ttest: 0.8340185\tbest: 0.8363516 (94)\ttotal: 4.31s\tremaining: 10.1s\n",
      "299:\ttest: 0.8340334\tbest: 0.8363516 (94)\ttotal: 4.32s\tremaining: 10.1s\n",
      "300:\ttest: 0.8339340\tbest: 0.8363516 (94)\ttotal: 4.34s\tremaining: 10.1s\n",
      "301:\ttest: 0.8339955\tbest: 0.8363516 (94)\ttotal: 4.36s\tremaining: 10.1s\n",
      "302:\ttest: 0.8340274\tbest: 0.8363516 (94)\ttotal: 4.38s\tremaining: 10.1s\n",
      "303:\ttest: 0.8340199\tbest: 0.8363516 (94)\ttotal: 4.39s\tremaining: 10.1s\n",
      "304:\ttest: 0.8339447\tbest: 0.8363516 (94)\ttotal: 4.41s\tremaining: 10s\n",
      "305:\ttest: 0.8339246\tbest: 0.8363516 (94)\ttotal: 4.42s\tremaining: 10s\n",
      "306:\ttest: 0.8339215\tbest: 0.8363516 (94)\ttotal: 4.43s\tremaining: 10s\n",
      "307:\ttest: 0.8339159\tbest: 0.8363516 (94)\ttotal: 4.45s\tremaining: 9.99s\n",
      "308:\ttest: 0.8337659\tbest: 0.8363516 (94)\ttotal: 4.46s\tremaining: 9.98s\n",
      "309:\ttest: 0.8337206\tbest: 0.8363516 (94)\ttotal: 4.48s\tremaining: 9.96s\n",
      "310:\ttest: 0.8336706\tbest: 0.8363516 (94)\ttotal: 4.49s\tremaining: 9.95s\n",
      "311:\ttest: 0.8336488\tbest: 0.8363516 (94)\ttotal: 4.51s\tremaining: 9.94s\n",
      "312:\ttest: 0.8336291\tbest: 0.8363516 (94)\ttotal: 4.53s\tremaining: 9.93s\n",
      "313:\ttest: 0.8335882\tbest: 0.8363516 (94)\ttotal: 4.54s\tremaining: 9.92s\n",
      "314:\ttest: 0.8335271\tbest: 0.8363516 (94)\ttotal: 4.56s\tremaining: 9.91s\n",
      "315:\ttest: 0.8333532\tbest: 0.8363516 (94)\ttotal: 4.57s\tremaining: 9.9s\n",
      "316:\ttest: 0.8332937\tbest: 0.8363516 (94)\ttotal: 4.58s\tremaining: 9.88s\n",
      "317:\ttest: 0.8332960\tbest: 0.8363516 (94)\ttotal: 4.6s\tremaining: 9.87s\n",
      "318:\ttest: 0.8332638\tbest: 0.8363516 (94)\ttotal: 4.61s\tremaining: 9.85s\n",
      "319:\ttest: 0.8332475\tbest: 0.8363516 (94)\ttotal: 4.63s\tremaining: 9.83s\n",
      "320:\ttest: 0.8332507\tbest: 0.8363516 (94)\ttotal: 4.64s\tremaining: 9.81s\n",
      "321:\ttest: 0.8332340\tbest: 0.8363516 (94)\ttotal: 4.65s\tremaining: 9.8s\n",
      "322:\ttest: 0.8331997\tbest: 0.8363516 (94)\ttotal: 4.67s\tremaining: 9.79s\n",
      "323:\ttest: 0.8332210\tbest: 0.8363516 (94)\ttotal: 4.69s\tremaining: 9.78s\n",
      "324:\ttest: 0.8332317\tbest: 0.8363516 (94)\ttotal: 4.7s\tremaining: 9.77s\n",
      "325:\ttest: 0.8331904\tbest: 0.8363516 (94)\ttotal: 4.72s\tremaining: 9.76s\n",
      "326:\ttest: 0.8331598\tbest: 0.8363516 (94)\ttotal: 4.73s\tremaining: 9.74s\n",
      "327:\ttest: 0.8331784\tbest: 0.8363516 (94)\ttotal: 4.75s\tremaining: 9.72s\n",
      "328:\ttest: 0.8330511\tbest: 0.8363516 (94)\ttotal: 4.76s\tremaining: 9.71s\n",
      "329:\ttest: 0.8330388\tbest: 0.8363516 (94)\ttotal: 4.77s\tremaining: 9.69s\n",
      "330:\ttest: 0.8330488\tbest: 0.8363516 (94)\ttotal: 4.79s\tremaining: 9.68s\n",
      "331:\ttest: 0.8330228\tbest: 0.8363516 (94)\ttotal: 4.8s\tremaining: 9.66s\n",
      "332:\ttest: 0.8329256\tbest: 0.8363516 (94)\ttotal: 4.81s\tremaining: 9.64s\n",
      "333:\ttest: 0.8329260\tbest: 0.8363516 (94)\ttotal: 4.83s\tremaining: 9.62s\n",
      "334:\ttest: 0.8328903\tbest: 0.8363516 (94)\ttotal: 4.84s\tremaining: 9.61s\n",
      "335:\ttest: 0.8329005\tbest: 0.8363516 (94)\ttotal: 4.85s\tremaining: 9.59s\n",
      "336:\ttest: 0.8328860\tbest: 0.8363516 (94)\ttotal: 4.87s\tremaining: 9.57s\n",
      "337:\ttest: 0.8327995\tbest: 0.8363516 (94)\ttotal: 4.88s\tremaining: 9.56s\n",
      "338:\ttest: 0.8327566\tbest: 0.8363516 (94)\ttotal: 4.89s\tremaining: 9.54s\n",
      "339:\ttest: 0.8327020\tbest: 0.8363516 (94)\ttotal: 4.9s\tremaining: 9.52s\n",
      "340:\ttest: 0.8328027\tbest: 0.8363516 (94)\ttotal: 4.92s\tremaining: 9.5s\n",
      "341:\ttest: 0.8328080\tbest: 0.8363516 (94)\ttotal: 4.93s\tremaining: 9.48s\n",
      "342:\ttest: 0.8327624\tbest: 0.8363516 (94)\ttotal: 4.94s\tremaining: 9.47s\n",
      "343:\ttest: 0.8327935\tbest: 0.8363516 (94)\ttotal: 4.96s\tremaining: 9.45s\n",
      "344:\ttest: 0.8327580\tbest: 0.8363516 (94)\ttotal: 4.97s\tremaining: 9.44s\n",
      "345:\ttest: 0.8327271\tbest: 0.8363516 (94)\ttotal: 4.99s\tremaining: 9.43s\n",
      "346:\ttest: 0.8326971\tbest: 0.8363516 (94)\ttotal: 5s\tremaining: 9.41s\n",
      "347:\ttest: 0.8326802\tbest: 0.8363516 (94)\ttotal: 5.01s\tremaining: 9.39s\n",
      "348:\ttest: 0.8327511\tbest: 0.8363516 (94)\ttotal: 5.03s\tremaining: 9.38s\n",
      "349:\ttest: 0.8327735\tbest: 0.8363516 (94)\ttotal: 5.04s\tremaining: 9.37s\n",
      "350:\ttest: 0.8327154\tbest: 0.8363516 (94)\ttotal: 5.05s\tremaining: 9.35s\n",
      "351:\ttest: 0.8326972\tbest: 0.8363516 (94)\ttotal: 5.07s\tremaining: 9.33s\n",
      "352:\ttest: 0.8326916\tbest: 0.8363516 (94)\ttotal: 5.08s\tremaining: 9.31s\n",
      "353:\ttest: 0.8327187\tbest: 0.8363516 (94)\ttotal: 5.1s\tremaining: 9.3s\n",
      "354:\ttest: 0.8326802\tbest: 0.8363516 (94)\ttotal: 5.11s\tremaining: 9.29s\n",
      "355:\ttest: 0.8326199\tbest: 0.8363516 (94)\ttotal: 5.13s\tremaining: 9.27s\n",
      "356:\ttest: 0.8326060\tbest: 0.8363516 (94)\ttotal: 5.14s\tremaining: 9.26s\n",
      "357:\ttest: 0.8325785\tbest: 0.8363516 (94)\ttotal: 5.15s\tremaining: 9.24s\n",
      "358:\ttest: 0.8325557\tbest: 0.8363516 (94)\ttotal: 5.17s\tremaining: 9.23s\n",
      "359:\ttest: 0.8324403\tbest: 0.8363516 (94)\ttotal: 5.18s\tremaining: 9.21s\n",
      "360:\ttest: 0.8322975\tbest: 0.8363516 (94)\ttotal: 5.2s\tremaining: 9.2s\n",
      "361:\ttest: 0.8323231\tbest: 0.8363516 (94)\ttotal: 5.21s\tremaining: 9.18s\n",
      "362:\ttest: 0.8322551\tbest: 0.8363516 (94)\ttotal: 5.23s\tremaining: 9.18s\n",
      "363:\ttest: 0.8322547\tbest: 0.8363516 (94)\ttotal: 5.24s\tremaining: 9.16s\n"
     ]
    },
    {
     "name": "stdout",
     "output_type": "stream",
     "text": [
      "364:\ttest: 0.8322424\tbest: 0.8363516 (94)\ttotal: 5.26s\tremaining: 9.14s\n",
      "365:\ttest: 0.8322146\tbest: 0.8363516 (94)\ttotal: 5.27s\tremaining: 9.13s\n",
      "366:\ttest: 0.8321337\tbest: 0.8363516 (94)\ttotal: 5.28s\tremaining: 9.12s\n",
      "367:\ttest: 0.8320935\tbest: 0.8363516 (94)\ttotal: 5.3s\tremaining: 9.1s\n",
      "368:\ttest: 0.8320687\tbest: 0.8363516 (94)\ttotal: 5.31s\tremaining: 9.08s\n",
      "369:\ttest: 0.8320140\tbest: 0.8363516 (94)\ttotal: 5.32s\tremaining: 9.06s\n",
      "370:\ttest: 0.8319888\tbest: 0.8363516 (94)\ttotal: 5.34s\tremaining: 9.05s\n",
      "371:\ttest: 0.8320135\tbest: 0.8363516 (94)\ttotal: 5.35s\tremaining: 9.03s\n",
      "372:\ttest: 0.8320232\tbest: 0.8363516 (94)\ttotal: 5.37s\tremaining: 9.02s\n",
      "373:\ttest: 0.8319420\tbest: 0.8363516 (94)\ttotal: 5.38s\tremaining: 9.01s\n",
      "374:\ttest: 0.8318950\tbest: 0.8363516 (94)\ttotal: 5.4s\tremaining: 9s\n",
      "375:\ttest: 0.8318592\tbest: 0.8363516 (94)\ttotal: 5.41s\tremaining: 8.98s\n",
      "376:\ttest: 0.8317928\tbest: 0.8363516 (94)\ttotal: 5.42s\tremaining: 8.96s\n",
      "377:\ttest: 0.8317410\tbest: 0.8363516 (94)\ttotal: 5.44s\tremaining: 8.95s\n",
      "378:\ttest: 0.8317648\tbest: 0.8363516 (94)\ttotal: 5.45s\tremaining: 8.93s\n",
      "379:\ttest: 0.8317207\tbest: 0.8363516 (94)\ttotal: 5.47s\tremaining: 8.92s\n",
      "380:\ttest: 0.8317200\tbest: 0.8363516 (94)\ttotal: 5.48s\tremaining: 8.9s\n",
      "381:\ttest: 0.8316623\tbest: 0.8363516 (94)\ttotal: 5.49s\tremaining: 8.89s\n",
      "382:\ttest: 0.8316409\tbest: 0.8363516 (94)\ttotal: 5.51s\tremaining: 8.87s\n",
      "383:\ttest: 0.8315790\tbest: 0.8363516 (94)\ttotal: 5.52s\tremaining: 8.86s\n",
      "384:\ttest: 0.8316299\tbest: 0.8363516 (94)\ttotal: 5.53s\tremaining: 8.84s\n",
      "385:\ttest: 0.8315375\tbest: 0.8363516 (94)\ttotal: 5.55s\tremaining: 8.83s\n",
      "386:\ttest: 0.8315278\tbest: 0.8363516 (94)\ttotal: 5.57s\tremaining: 8.82s\n",
      "387:\ttest: 0.8314861\tbest: 0.8363516 (94)\ttotal: 5.58s\tremaining: 8.81s\n",
      "388:\ttest: 0.8314182\tbest: 0.8363516 (94)\ttotal: 5.6s\tremaining: 8.79s\n",
      "389:\ttest: 0.8313554\tbest: 0.8363516 (94)\ttotal: 5.61s\tremaining: 8.78s\n",
      "390:\ttest: 0.8313177\tbest: 0.8363516 (94)\ttotal: 5.63s\tremaining: 8.77s\n",
      "391:\ttest: 0.8312177\tbest: 0.8363516 (94)\ttotal: 5.64s\tremaining: 8.75s\n",
      "392:\ttest: 0.8312054\tbest: 0.8363516 (94)\ttotal: 5.66s\tremaining: 8.74s\n",
      "393:\ttest: 0.8311772\tbest: 0.8363516 (94)\ttotal: 5.67s\tremaining: 8.73s\n",
      "394:\ttest: 0.8311586\tbest: 0.8363516 (94)\ttotal: 5.69s\tremaining: 8.72s\n",
      "395:\ttest: 0.8311353\tbest: 0.8363516 (94)\ttotal: 5.7s\tremaining: 8.7s\n",
      "396:\ttest: 0.8311438\tbest: 0.8363516 (94)\ttotal: 5.72s\tremaining: 8.68s\n",
      "397:\ttest: 0.8311375\tbest: 0.8363516 (94)\ttotal: 5.73s\tremaining: 8.67s\n",
      "398:\ttest: 0.8311142\tbest: 0.8363516 (94)\ttotal: 5.74s\tremaining: 8.65s\n",
      "399:\ttest: 0.8310742\tbest: 0.8363516 (94)\ttotal: 5.75s\tremaining: 8.63s\n",
      "400:\ttest: 0.8309727\tbest: 0.8363516 (94)\ttotal: 5.76s\tremaining: 8.61s\n",
      "401:\ttest: 0.8309732\tbest: 0.8363516 (94)\ttotal: 5.78s\tremaining: 8.6s\n",
      "402:\ttest: 0.8309933\tbest: 0.8363516 (94)\ttotal: 5.79s\tremaining: 8.58s\n",
      "403:\ttest: 0.8309267\tbest: 0.8363516 (94)\ttotal: 5.81s\tremaining: 8.57s\n",
      "404:\ttest: 0.8308456\tbest: 0.8363516 (94)\ttotal: 5.82s\tremaining: 8.55s\n",
      "405:\ttest: 0.8307902\tbest: 0.8363516 (94)\ttotal: 5.83s\tremaining: 8.53s\n",
      "406:\ttest: 0.8307615\tbest: 0.8363516 (94)\ttotal: 5.85s\tremaining: 8.52s\n",
      "407:\ttest: 0.8307152\tbest: 0.8363516 (94)\ttotal: 5.86s\tremaining: 8.51s\n",
      "408:\ttest: 0.8308145\tbest: 0.8363516 (94)\ttotal: 5.88s\tremaining: 8.49s\n",
      "409:\ttest: 0.8308194\tbest: 0.8363516 (94)\ttotal: 5.89s\tremaining: 8.47s\n",
      "410:\ttest: 0.8307677\tbest: 0.8363516 (94)\ttotal: 5.9s\tremaining: 8.46s\n",
      "411:\ttest: 0.8306499\tbest: 0.8363516 (94)\ttotal: 5.91s\tremaining: 8.44s\n",
      "412:\ttest: 0.8306527\tbest: 0.8363516 (94)\ttotal: 5.92s\tremaining: 8.42s\n",
      "413:\ttest: 0.8306114\tbest: 0.8363516 (94)\ttotal: 5.93s\tremaining: 8.4s\n",
      "414:\ttest: 0.8305882\tbest: 0.8363516 (94)\ttotal: 5.95s\tremaining: 8.38s\n",
      "415:\ttest: 0.8305828\tbest: 0.8363516 (94)\ttotal: 5.96s\tremaining: 8.37s\n",
      "416:\ttest: 0.8305821\tbest: 0.8363516 (94)\ttotal: 5.98s\tremaining: 8.36s\n",
      "417:\ttest: 0.8305480\tbest: 0.8363516 (94)\ttotal: 5.99s\tremaining: 8.34s\n",
      "418:\ttest: 0.8305733\tbest: 0.8363516 (94)\ttotal: 6s\tremaining: 8.32s\n",
      "419:\ttest: 0.8304277\tbest: 0.8363516 (94)\ttotal: 6.02s\tremaining: 8.31s\n",
      "420:\ttest: 0.8303807\tbest: 0.8363516 (94)\ttotal: 6.03s\tremaining: 8.3s\n",
      "421:\ttest: 0.8303381\tbest: 0.8363516 (94)\ttotal: 6.05s\tremaining: 8.29s\n",
      "422:\ttest: 0.8303275\tbest: 0.8363516 (94)\ttotal: 6.07s\tremaining: 8.28s\n",
      "423:\ttest: 0.8302483\tbest: 0.8363516 (94)\ttotal: 6.08s\tremaining: 8.26s\n",
      "424:\ttest: 0.8302569\tbest: 0.8363516 (94)\ttotal: 6.1s\tremaining: 8.25s\n",
      "425:\ttest: 0.8302290\tbest: 0.8363516 (94)\ttotal: 6.11s\tremaining: 8.24s\n",
      "426:\ttest: 0.8300926\tbest: 0.8363516 (94)\ttotal: 6.13s\tremaining: 8.22s\n",
      "427:\ttest: 0.8300901\tbest: 0.8363516 (94)\ttotal: 6.14s\tremaining: 8.21s\n",
      "428:\ttest: 0.8301779\tbest: 0.8363516 (94)\ttotal: 6.16s\tremaining: 8.19s\n",
      "429:\ttest: 0.8301158\tbest: 0.8363516 (94)\ttotal: 6.17s\tremaining: 8.18s\n",
      "430:\ttest: 0.8301199\tbest: 0.8363516 (94)\ttotal: 6.18s\tremaining: 8.16s\n",
      "431:\ttest: 0.8300986\tbest: 0.8363516 (94)\ttotal: 6.2s\tremaining: 8.15s\n",
      "432:\ttest: 0.8301087\tbest: 0.8363516 (94)\ttotal: 6.21s\tremaining: 8.13s\n",
      "433:\ttest: 0.8301850\tbest: 0.8363516 (94)\ttotal: 6.23s\tremaining: 8.12s\n",
      "434:\ttest: 0.8302284\tbest: 0.8363516 (94)\ttotal: 6.24s\tremaining: 8.11s\n",
      "435:\ttest: 0.8302033\tbest: 0.8363516 (94)\ttotal: 6.26s\tremaining: 8.09s\n",
      "436:\ttest: 0.8302215\tbest: 0.8363516 (94)\ttotal: 6.27s\tremaining: 8.08s\n",
      "437:\ttest: 0.8301708\tbest: 0.8363516 (94)\ttotal: 6.29s\tremaining: 8.06s\n",
      "438:\ttest: 0.8302681\tbest: 0.8363516 (94)\ttotal: 6.3s\tremaining: 8.05s\n",
      "439:\ttest: 0.8302399\tbest: 0.8363516 (94)\ttotal: 6.32s\tremaining: 8.04s\n",
      "440:\ttest: 0.8302368\tbest: 0.8363516 (94)\ttotal: 6.33s\tremaining: 8.03s\n",
      "441:\ttest: 0.8301532\tbest: 0.8363516 (94)\ttotal: 6.35s\tremaining: 8.02s\n",
      "442:\ttest: 0.8300122\tbest: 0.8363516 (94)\ttotal: 6.36s\tremaining: 8s\n",
      "443:\ttest: 0.8299671\tbest: 0.8363516 (94)\ttotal: 6.38s\tremaining: 7.99s\n",
      "444:\ttest: 0.8299468\tbest: 0.8363516 (94)\ttotal: 6.39s\tremaining: 7.97s\n",
      "445:\ttest: 0.8299588\tbest: 0.8363516 (94)\ttotal: 6.41s\tremaining: 7.96s\n",
      "446:\ttest: 0.8299408\tbest: 0.8363516 (94)\ttotal: 6.43s\tremaining: 7.95s\n",
      "447:\ttest: 0.8299319\tbest: 0.8363516 (94)\ttotal: 6.45s\tremaining: 7.94s\n",
      "448:\ttest: 0.8298862\tbest: 0.8363516 (94)\ttotal: 6.46s\tremaining: 7.93s\n",
      "449:\ttest: 0.8298827\tbest: 0.8363516 (94)\ttotal: 6.48s\tremaining: 7.92s\n",
      "450:\ttest: 0.8298634\tbest: 0.8363516 (94)\ttotal: 6.5s\tremaining: 7.91s\n",
      "451:\ttest: 0.8298158\tbest: 0.8363516 (94)\ttotal: 6.51s\tremaining: 7.89s\n",
      "452:\ttest: 0.8298361\tbest: 0.8363516 (94)\ttotal: 6.52s\tremaining: 7.88s\n",
      "453:\ttest: 0.8298341\tbest: 0.8363516 (94)\ttotal: 6.54s\tremaining: 7.86s\n",
      "454:\ttest: 0.8298290\tbest: 0.8363516 (94)\ttotal: 6.55s\tremaining: 7.84s\n",
      "455:\ttest: 0.8298259\tbest: 0.8363516 (94)\ttotal: 6.57s\tremaining: 7.83s\n",
      "456:\ttest: 0.8298282\tbest: 0.8363516 (94)\ttotal: 6.58s\tremaining: 7.82s\n",
      "457:\ttest: 0.8298373\tbest: 0.8363516 (94)\ttotal: 6.59s\tremaining: 7.8s\n",
      "458:\ttest: 0.8298865\tbest: 0.8363516 (94)\ttotal: 6.61s\tremaining: 7.79s\n",
      "459:\ttest: 0.8298841\tbest: 0.8363516 (94)\ttotal: 6.62s\tremaining: 7.78s\n",
      "460:\ttest: 0.8299293\tbest: 0.8363516 (94)\ttotal: 6.64s\tremaining: 7.76s\n",
      "461:\ttest: 0.8299111\tbest: 0.8363516 (94)\ttotal: 6.65s\tremaining: 7.75s\n",
      "462:\ttest: 0.8299352\tbest: 0.8363516 (94)\ttotal: 6.67s\tremaining: 7.73s\n",
      "463:\ttest: 0.8298441\tbest: 0.8363516 (94)\ttotal: 6.68s\tremaining: 7.72s\n",
      "464:\ttest: 0.8298181\tbest: 0.8363516 (94)\ttotal: 6.69s\tremaining: 7.7s\n",
      "465:\ttest: 0.8297935\tbest: 0.8363516 (94)\ttotal: 6.71s\tremaining: 7.69s\n",
      "466:\ttest: 0.8297592\tbest: 0.8363516 (94)\ttotal: 6.72s\tremaining: 7.67s\n",
      "467:\ttest: 0.8297285\tbest: 0.8363516 (94)\ttotal: 6.74s\tremaining: 7.66s\n",
      "468:\ttest: 0.8297796\tbest: 0.8363516 (94)\ttotal: 6.75s\tremaining: 7.64s\n",
      "469:\ttest: 0.8297842\tbest: 0.8363516 (94)\ttotal: 6.77s\tremaining: 7.63s\n",
      "470:\ttest: 0.8297584\tbest: 0.8363516 (94)\ttotal: 6.78s\tremaining: 7.62s\n",
      "471:\ttest: 0.8297960\tbest: 0.8363516 (94)\ttotal: 6.8s\tremaining: 7.6s\n",
      "472:\ttest: 0.8297392\tbest: 0.8363516 (94)\ttotal: 6.81s\tremaining: 7.59s\n",
      "473:\ttest: 0.8297555\tbest: 0.8363516 (94)\ttotal: 6.83s\tremaining: 7.57s\n",
      "474:\ttest: 0.8297756\tbest: 0.8363516 (94)\ttotal: 6.84s\tremaining: 7.56s\n",
      "475:\ttest: 0.8296931\tbest: 0.8363516 (94)\ttotal: 6.85s\tremaining: 7.54s\n",
      "476:\ttest: 0.8296193\tbest: 0.8363516 (94)\ttotal: 6.87s\tremaining: 7.53s\n",
      "477:\ttest: 0.8295690\tbest: 0.8363516 (94)\ttotal: 6.88s\tremaining: 7.51s\n",
      "478:\ttest: 0.8296145\tbest: 0.8363516 (94)\ttotal: 6.89s\tremaining: 7.5s\n",
      "479:\ttest: 0.8295802\tbest: 0.8363516 (94)\ttotal: 6.91s\tremaining: 7.48s\n",
      "480:\ttest: 0.8295352\tbest: 0.8363516 (94)\ttotal: 6.92s\tremaining: 7.47s\n",
      "481:\ttest: 0.8296011\tbest: 0.8363516 (94)\ttotal: 6.94s\tremaining: 7.46s\n",
      "482:\ttest: 0.8295669\tbest: 0.8363516 (94)\ttotal: 6.95s\tremaining: 7.44s\n",
      "483:\ttest: 0.8295963\tbest: 0.8363516 (94)\ttotal: 6.97s\tremaining: 7.43s\n",
      "484:\ttest: 0.8295908\tbest: 0.8363516 (94)\ttotal: 6.98s\tremaining: 7.41s\n",
      "485:\ttest: 0.8295401\tbest: 0.8363516 (94)\ttotal: 6.99s\tremaining: 7.4s\n"
     ]
    },
    {
     "name": "stdout",
     "output_type": "stream",
     "text": [
      "486:\ttest: 0.8295189\tbest: 0.8363516 (94)\ttotal: 7.01s\tremaining: 7.38s\n",
      "487:\ttest: 0.8295651\tbest: 0.8363516 (94)\ttotal: 7.03s\tremaining: 7.37s\n",
      "488:\ttest: 0.8294628\tbest: 0.8363516 (94)\ttotal: 7.04s\tremaining: 7.36s\n",
      "489:\ttest: 0.8294833\tbest: 0.8363516 (94)\ttotal: 7.05s\tremaining: 7.34s\n",
      "490:\ttest: 0.8294717\tbest: 0.8363516 (94)\ttotal: 7.07s\tremaining: 7.33s\n",
      "491:\ttest: 0.8294833\tbest: 0.8363516 (94)\ttotal: 7.08s\tremaining: 7.31s\n",
      "492:\ttest: 0.8294585\tbest: 0.8363516 (94)\ttotal: 7.11s\tremaining: 7.31s\n",
      "493:\ttest: 0.8294099\tbest: 0.8363516 (94)\ttotal: 7.12s\tremaining: 7.29s\n",
      "494:\ttest: 0.8294255\tbest: 0.8363516 (94)\ttotal: 7.13s\tremaining: 7.28s\n",
      "495:\ttest: 0.8293831\tbest: 0.8363516 (94)\ttotal: 7.15s\tremaining: 7.26s\n",
      "496:\ttest: 0.8293983\tbest: 0.8363516 (94)\ttotal: 7.16s\tremaining: 7.25s\n",
      "497:\ttest: 0.8293562\tbest: 0.8363516 (94)\ttotal: 7.17s\tremaining: 7.23s\n",
      "498:\ttest: 0.8294265\tbest: 0.8363516 (94)\ttotal: 7.19s\tremaining: 7.22s\n",
      "499:\ttest: 0.8294221\tbest: 0.8363516 (94)\ttotal: 7.2s\tremaining: 7.2s\n",
      "500:\ttest: 0.8293343\tbest: 0.8363516 (94)\ttotal: 7.22s\tremaining: 7.19s\n",
      "501:\ttest: 0.8293405\tbest: 0.8363516 (94)\ttotal: 7.23s\tremaining: 7.17s\n",
      "502:\ttest: 0.8293133\tbest: 0.8363516 (94)\ttotal: 7.24s\tremaining: 7.16s\n",
      "503:\ttest: 0.8292080\tbest: 0.8363516 (94)\ttotal: 7.26s\tremaining: 7.14s\n",
      "504:\ttest: 0.8291968\tbest: 0.8363516 (94)\ttotal: 7.27s\tremaining: 7.13s\n",
      "505:\ttest: 0.8291957\tbest: 0.8363516 (94)\ttotal: 7.29s\tremaining: 7.11s\n",
      "506:\ttest: 0.8291524\tbest: 0.8363516 (94)\ttotal: 7.3s\tremaining: 7.1s\n",
      "507:\ttest: 0.8291114\tbest: 0.8363516 (94)\ttotal: 7.31s\tremaining: 7.08s\n",
      "508:\ttest: 0.8289067\tbest: 0.8363516 (94)\ttotal: 7.33s\tremaining: 7.07s\n",
      "509:\ttest: 0.8289431\tbest: 0.8363516 (94)\ttotal: 7.34s\tremaining: 7.05s\n",
      "510:\ttest: 0.8288495\tbest: 0.8363516 (94)\ttotal: 7.36s\tremaining: 7.04s\n",
      "511:\ttest: 0.8289231\tbest: 0.8363516 (94)\ttotal: 7.37s\tremaining: 7.02s\n",
      "512:\ttest: 0.8288823\tbest: 0.8363516 (94)\ttotal: 7.39s\tremaining: 7.01s\n",
      "513:\ttest: 0.8288527\tbest: 0.8363516 (94)\ttotal: 7.4s\tremaining: 7s\n",
      "514:\ttest: 0.8288081\tbest: 0.8363516 (94)\ttotal: 7.41s\tremaining: 6.98s\n",
      "515:\ttest: 0.8287943\tbest: 0.8363516 (94)\ttotal: 7.43s\tremaining: 6.96s\n",
      "516:\ttest: 0.8287936\tbest: 0.8363516 (94)\ttotal: 7.44s\tremaining: 6.95s\n",
      "517:\ttest: 0.8287301\tbest: 0.8363516 (94)\ttotal: 7.45s\tremaining: 6.93s\n",
      "518:\ttest: 0.8287372\tbest: 0.8363516 (94)\ttotal: 7.47s\tremaining: 6.92s\n",
      "519:\ttest: 0.8287831\tbest: 0.8363516 (94)\ttotal: 7.48s\tremaining: 6.91s\n",
      "520:\ttest: 0.8287241\tbest: 0.8363516 (94)\ttotal: 7.49s\tremaining: 6.89s\n",
      "521:\ttest: 0.8286589\tbest: 0.8363516 (94)\ttotal: 7.51s\tremaining: 6.87s\n",
      "522:\ttest: 0.8286049\tbest: 0.8363516 (94)\ttotal: 7.52s\tremaining: 6.86s\n",
      "523:\ttest: 0.8286300\tbest: 0.8363516 (94)\ttotal: 7.54s\tremaining: 6.85s\n",
      "524:\ttest: 0.8285615\tbest: 0.8363516 (94)\ttotal: 7.55s\tremaining: 6.83s\n",
      "525:\ttest: 0.8285799\tbest: 0.8363516 (94)\ttotal: 7.57s\tremaining: 6.82s\n",
      "526:\ttest: 0.8285784\tbest: 0.8363516 (94)\ttotal: 7.58s\tremaining: 6.8s\n",
      "527:\ttest: 0.8286087\tbest: 0.8363516 (94)\ttotal: 7.59s\tremaining: 6.79s\n",
      "528:\ttest: 0.8286347\tbest: 0.8363516 (94)\ttotal: 7.61s\tremaining: 6.78s\n",
      "529:\ttest: 0.8285589\tbest: 0.8363516 (94)\ttotal: 7.63s\tremaining: 6.76s\n",
      "530:\ttest: 0.8285373\tbest: 0.8363516 (94)\ttotal: 7.64s\tremaining: 6.75s\n",
      "531:\ttest: 0.8284838\tbest: 0.8363516 (94)\ttotal: 7.66s\tremaining: 6.74s\n",
      "532:\ttest: 0.8286219\tbest: 0.8363516 (94)\ttotal: 7.67s\tremaining: 6.72s\n",
      "533:\ttest: 0.8287086\tbest: 0.8363516 (94)\ttotal: 7.69s\tremaining: 6.71s\n",
      "534:\ttest: 0.8287253\tbest: 0.8363516 (94)\ttotal: 7.7s\tremaining: 6.69s\n",
      "535:\ttest: 0.8286193\tbest: 0.8363516 (94)\ttotal: 7.72s\tremaining: 6.68s\n",
      "536:\ttest: 0.8286233\tbest: 0.8363516 (94)\ttotal: 7.73s\tremaining: 6.67s\n",
      "537:\ttest: 0.8285886\tbest: 0.8363516 (94)\ttotal: 7.75s\tremaining: 6.65s\n",
      "538:\ttest: 0.8287049\tbest: 0.8363516 (94)\ttotal: 7.76s\tremaining: 6.64s\n",
      "539:\ttest: 0.8287603\tbest: 0.8363516 (94)\ttotal: 7.77s\tremaining: 6.62s\n",
      "540:\ttest: 0.8287359\tbest: 0.8363516 (94)\ttotal: 7.79s\tremaining: 6.61s\n",
      "541:\ttest: 0.8287494\tbest: 0.8363516 (94)\ttotal: 7.8s\tremaining: 6.59s\n",
      "542:\ttest: 0.8286873\tbest: 0.8363516 (94)\ttotal: 7.82s\tremaining: 6.58s\n",
      "543:\ttest: 0.8286671\tbest: 0.8363516 (94)\ttotal: 7.83s\tremaining: 6.57s\n",
      "544:\ttest: 0.8287040\tbest: 0.8363516 (94)\ttotal: 7.85s\tremaining: 6.55s\n",
      "545:\ttest: 0.8287419\tbest: 0.8363516 (94)\ttotal: 7.87s\tremaining: 6.54s\n",
      "546:\ttest: 0.8286575\tbest: 0.8363516 (94)\ttotal: 7.88s\tremaining: 6.53s\n",
      "547:\ttest: 0.8286229\tbest: 0.8363516 (94)\ttotal: 7.9s\tremaining: 6.51s\n",
      "548:\ttest: 0.8285769\tbest: 0.8363516 (94)\ttotal: 7.91s\tremaining: 6.5s\n",
      "549:\ttest: 0.8284466\tbest: 0.8363516 (94)\ttotal: 7.93s\tremaining: 6.48s\n",
      "550:\ttest: 0.8283925\tbest: 0.8363516 (94)\ttotal: 7.94s\tremaining: 6.47s\n",
      "551:\ttest: 0.8284054\tbest: 0.8363516 (94)\ttotal: 7.95s\tremaining: 6.45s\n",
      "552:\ttest: 0.8284498\tbest: 0.8363516 (94)\ttotal: 7.96s\tremaining: 6.44s\n",
      "553:\ttest: 0.8284163\tbest: 0.8363516 (94)\ttotal: 7.98s\tremaining: 6.42s\n",
      "554:\ttest: 0.8284549\tbest: 0.8363516 (94)\ttotal: 8s\tremaining: 6.41s\n",
      "555:\ttest: 0.8284849\tbest: 0.8363516 (94)\ttotal: 8.01s\tremaining: 6.39s\n",
      "556:\ttest: 0.8285563\tbest: 0.8363516 (94)\ttotal: 8.02s\tremaining: 6.38s\n",
      "557:\ttest: 0.8285102\tbest: 0.8363516 (94)\ttotal: 8.03s\tremaining: 6.36s\n",
      "558:\ttest: 0.8284243\tbest: 0.8363516 (94)\ttotal: 8.04s\tremaining: 6.35s\n",
      "559:\ttest: 0.8283931\tbest: 0.8363516 (94)\ttotal: 8.06s\tremaining: 6.33s\n",
      "560:\ttest: 0.8283485\tbest: 0.8363516 (94)\ttotal: 8.07s\tremaining: 6.32s\n",
      "561:\ttest: 0.8282670\tbest: 0.8363516 (94)\ttotal: 8.08s\tremaining: 6.3s\n",
      "562:\ttest: 0.8282204\tbest: 0.8363516 (94)\ttotal: 8.1s\tremaining: 6.29s\n",
      "563:\ttest: 0.8282068\tbest: 0.8363516 (94)\ttotal: 8.11s\tremaining: 6.27s\n",
      "564:\ttest: 0.8282451\tbest: 0.8363516 (94)\ttotal: 8.13s\tremaining: 6.26s\n",
      "565:\ttest: 0.8283088\tbest: 0.8363516 (94)\ttotal: 8.14s\tremaining: 6.24s\n",
      "566:\ttest: 0.8283256\tbest: 0.8363516 (94)\ttotal: 8.16s\tremaining: 6.23s\n",
      "567:\ttest: 0.8283164\tbest: 0.8363516 (94)\ttotal: 8.17s\tremaining: 6.21s\n",
      "568:\ttest: 0.8282615\tbest: 0.8363516 (94)\ttotal: 8.19s\tremaining: 6.2s\n",
      "569:\ttest: 0.8282977\tbest: 0.8363516 (94)\ttotal: 8.2s\tremaining: 6.19s\n",
      "570:\ttest: 0.8283372\tbest: 0.8363516 (94)\ttotal: 8.22s\tremaining: 6.17s\n",
      "571:\ttest: 0.8283376\tbest: 0.8363516 (94)\ttotal: 8.23s\tremaining: 6.16s\n",
      "572:\ttest: 0.8283314\tbest: 0.8363516 (94)\ttotal: 8.27s\tremaining: 6.17s\n",
      "573:\ttest: 0.8283142\tbest: 0.8363516 (94)\ttotal: 8.29s\tremaining: 6.15s\n",
      "574:\ttest: 0.8282310\tbest: 0.8363516 (94)\ttotal: 8.32s\tremaining: 6.15s\n",
      "575:\ttest: 0.8282578\tbest: 0.8363516 (94)\ttotal: 8.34s\tremaining: 6.14s\n",
      "576:\ttest: 0.8282161\tbest: 0.8363516 (94)\ttotal: 8.35s\tremaining: 6.12s\n",
      "577:\ttest: 0.8281847\tbest: 0.8363516 (94)\ttotal: 8.36s\tremaining: 6.11s\n",
      "578:\ttest: 0.8281511\tbest: 0.8363516 (94)\ttotal: 8.38s\tremaining: 6.09s\n",
      "579:\ttest: 0.8282595\tbest: 0.8363516 (94)\ttotal: 8.39s\tremaining: 6.08s\n",
      "580:\ttest: 0.8282377\tbest: 0.8363516 (94)\ttotal: 8.4s\tremaining: 6.06s\n",
      "581:\ttest: 0.8281994\tbest: 0.8363516 (94)\ttotal: 8.42s\tremaining: 6.05s\n",
      "582:\ttest: 0.8281303\tbest: 0.8363516 (94)\ttotal: 8.44s\tremaining: 6.03s\n",
      "583:\ttest: 0.8281327\tbest: 0.8363516 (94)\ttotal: 8.45s\tremaining: 6.02s\n",
      "584:\ttest: 0.8281122\tbest: 0.8363516 (94)\ttotal: 8.46s\tremaining: 6s\n",
      "585:\ttest: 0.8280976\tbest: 0.8363516 (94)\ttotal: 8.48s\tremaining: 5.99s\n",
      "586:\ttest: 0.8281221\tbest: 0.8363516 (94)\ttotal: 8.49s\tremaining: 5.97s\n",
      "587:\ttest: 0.8280856\tbest: 0.8363516 (94)\ttotal: 8.51s\tremaining: 5.96s\n",
      "588:\ttest: 0.8280914\tbest: 0.8363516 (94)\ttotal: 8.52s\tremaining: 5.95s\n",
      "589:\ttest: 0.8280140\tbest: 0.8363516 (94)\ttotal: 8.53s\tremaining: 5.93s\n",
      "590:\ttest: 0.8279689\tbest: 0.8363516 (94)\ttotal: 8.55s\tremaining: 5.92s\n",
      "591:\ttest: 0.8279270\tbest: 0.8363516 (94)\ttotal: 8.56s\tremaining: 5.9s\n",
      "592:\ttest: 0.8279136\tbest: 0.8363516 (94)\ttotal: 8.58s\tremaining: 5.89s\n",
      "593:\ttest: 0.8279156\tbest: 0.8363516 (94)\ttotal: 8.6s\tremaining: 5.88s\n",
      "594:\ttest: 0.8278970\tbest: 0.8363516 (94)\ttotal: 8.61s\tremaining: 5.86s\n",
      "595:\ttest: 0.8278524\tbest: 0.8363516 (94)\ttotal: 8.62s\tremaining: 5.84s\n",
      "596:\ttest: 0.8278931\tbest: 0.8363516 (94)\ttotal: 8.64s\tremaining: 5.83s\n",
      "597:\ttest: 0.8278928\tbest: 0.8363516 (94)\ttotal: 8.65s\tremaining: 5.81s\n",
      "598:\ttest: 0.8278885\tbest: 0.8363516 (94)\ttotal: 8.66s\tremaining: 5.8s\n",
      "599:\ttest: 0.8278881\tbest: 0.8363516 (94)\ttotal: 8.68s\tremaining: 5.78s\n",
      "600:\ttest: 0.8278440\tbest: 0.8363516 (94)\ttotal: 8.69s\tremaining: 5.77s\n",
      "601:\ttest: 0.8278421\tbest: 0.8363516 (94)\ttotal: 8.7s\tremaining: 5.75s\n",
      "602:\ttest: 0.8278355\tbest: 0.8363516 (94)\ttotal: 8.72s\tremaining: 5.74s\n",
      "603:\ttest: 0.8278385\tbest: 0.8363516 (94)\ttotal: 8.74s\tremaining: 5.73s\n"
     ]
    },
    {
     "name": "stdout",
     "output_type": "stream",
     "text": [
      "604:\ttest: 0.8277841\tbest: 0.8363516 (94)\ttotal: 8.75s\tremaining: 5.71s\n",
      "605:\ttest: 0.8277552\tbest: 0.8363516 (94)\ttotal: 8.77s\tremaining: 5.7s\n",
      "606:\ttest: 0.8277493\tbest: 0.8363516 (94)\ttotal: 8.78s\tremaining: 5.69s\n",
      "607:\ttest: 0.8277144\tbest: 0.8363516 (94)\ttotal: 8.8s\tremaining: 5.67s\n",
      "608:\ttest: 0.8277021\tbest: 0.8363516 (94)\ttotal: 8.81s\tremaining: 5.66s\n",
      "609:\ttest: 0.8276905\tbest: 0.8363516 (94)\ttotal: 8.82s\tremaining: 5.64s\n",
      "610:\ttest: 0.8276403\tbest: 0.8363516 (94)\ttotal: 8.84s\tremaining: 5.63s\n",
      "611:\ttest: 0.8276912\tbest: 0.8363516 (94)\ttotal: 8.85s\tremaining: 5.61s\n",
      "612:\ttest: 0.8276166\tbest: 0.8363516 (94)\ttotal: 8.88s\tremaining: 5.6s\n",
      "613:\ttest: 0.8276575\tbest: 0.8363516 (94)\ttotal: 8.89s\tremaining: 5.59s\n",
      "614:\ttest: 0.8277310\tbest: 0.8363516 (94)\ttotal: 8.91s\tremaining: 5.58s\n",
      "615:\ttest: 0.8276456\tbest: 0.8363516 (94)\ttotal: 8.92s\tremaining: 5.56s\n",
      "616:\ttest: 0.8276478\tbest: 0.8363516 (94)\ttotal: 8.94s\tremaining: 5.55s\n",
      "617:\ttest: 0.8276115\tbest: 0.8363516 (94)\ttotal: 8.95s\tremaining: 5.53s\n",
      "618:\ttest: 0.8275518\tbest: 0.8363516 (94)\ttotal: 8.96s\tremaining: 5.52s\n",
      "619:\ttest: 0.8275254\tbest: 0.8363516 (94)\ttotal: 8.98s\tremaining: 5.5s\n",
      "620:\ttest: 0.8274727\tbest: 0.8363516 (94)\ttotal: 8.99s\tremaining: 5.49s\n",
      "621:\ttest: 0.8274735\tbest: 0.8363516 (94)\ttotal: 9.01s\tremaining: 5.47s\n",
      "622:\ttest: 0.8273685\tbest: 0.8363516 (94)\ttotal: 9.02s\tremaining: 5.46s\n",
      "623:\ttest: 0.8273330\tbest: 0.8363516 (94)\ttotal: 9.03s\tremaining: 5.44s\n",
      "624:\ttest: 0.8271697\tbest: 0.8363516 (94)\ttotal: 9.05s\tremaining: 5.43s\n",
      "625:\ttest: 0.8271189\tbest: 0.8363516 (94)\ttotal: 9.06s\tremaining: 5.42s\n",
      "626:\ttest: 0.8271100\tbest: 0.8363516 (94)\ttotal: 9.08s\tremaining: 5.4s\n",
      "627:\ttest: 0.8271098\tbest: 0.8363516 (94)\ttotal: 9.09s\tremaining: 5.39s\n",
      "628:\ttest: 0.8270518\tbest: 0.8363516 (94)\ttotal: 9.11s\tremaining: 5.37s\n",
      "629:\ttest: 0.8270042\tbest: 0.8363516 (94)\ttotal: 9.12s\tremaining: 5.36s\n",
      "630:\ttest: 0.8270042\tbest: 0.8363516 (94)\ttotal: 9.14s\tremaining: 5.34s\n",
      "631:\ttest: 0.8268771\tbest: 0.8363516 (94)\ttotal: 9.15s\tremaining: 5.33s\n",
      "632:\ttest: 0.8268601\tbest: 0.8363516 (94)\ttotal: 9.17s\tremaining: 5.31s\n",
      "633:\ttest: 0.8267849\tbest: 0.8363516 (94)\ttotal: 9.18s\tremaining: 5.3s\n",
      "634:\ttest: 0.8267879\tbest: 0.8363516 (94)\ttotal: 9.19s\tremaining: 5.28s\n",
      "635:\ttest: 0.8267686\tbest: 0.8363516 (94)\ttotal: 9.21s\tremaining: 5.27s\n",
      "636:\ttest: 0.8267755\tbest: 0.8363516 (94)\ttotal: 9.22s\tremaining: 5.25s\n",
      "637:\ttest: 0.8267398\tbest: 0.8363516 (94)\ttotal: 9.23s\tremaining: 5.24s\n",
      "638:\ttest: 0.8265791\tbest: 0.8363516 (94)\ttotal: 9.25s\tremaining: 5.23s\n",
      "639:\ttest: 0.8265563\tbest: 0.8363516 (94)\ttotal: 9.27s\tremaining: 5.21s\n",
      "640:\ttest: 0.8265569\tbest: 0.8363516 (94)\ttotal: 9.29s\tremaining: 5.2s\n",
      "641:\ttest: 0.8264738\tbest: 0.8363516 (94)\ttotal: 9.31s\tremaining: 5.19s\n",
      "642:\ttest: 0.8265365\tbest: 0.8363516 (94)\ttotal: 9.34s\tremaining: 5.18s\n",
      "643:\ttest: 0.8264698\tbest: 0.8363516 (94)\ttotal: 9.35s\tremaining: 5.17s\n",
      "644:\ttest: 0.8264592\tbest: 0.8363516 (94)\ttotal: 9.37s\tremaining: 5.16s\n",
      "645:\ttest: 0.8263827\tbest: 0.8363516 (94)\ttotal: 9.39s\tremaining: 5.14s\n",
      "646:\ttest: 0.8261936\tbest: 0.8363516 (94)\ttotal: 9.41s\tremaining: 5.13s\n",
      "647:\ttest: 0.8261398\tbest: 0.8363516 (94)\ttotal: 9.43s\tremaining: 5.12s\n",
      "648:\ttest: 0.8260588\tbest: 0.8363516 (94)\ttotal: 9.45s\tremaining: 5.11s\n",
      "649:\ttest: 0.8260589\tbest: 0.8363516 (94)\ttotal: 9.47s\tremaining: 5.1s\n",
      "650:\ttest: 0.8259751\tbest: 0.8363516 (94)\ttotal: 9.48s\tremaining: 5.08s\n",
      "651:\ttest: 0.8259124\tbest: 0.8363516 (94)\ttotal: 9.5s\tremaining: 5.07s\n",
      "652:\ttest: 0.8258710\tbest: 0.8363516 (94)\ttotal: 9.52s\tremaining: 5.06s\n",
      "653:\ttest: 0.8258634\tbest: 0.8363516 (94)\ttotal: 9.53s\tremaining: 5.04s\n",
      "654:\ttest: 0.8258329\tbest: 0.8363516 (94)\ttotal: 9.55s\tremaining: 5.03s\n",
      "655:\ttest: 0.8257926\tbest: 0.8363516 (94)\ttotal: 9.56s\tremaining: 5.01s\n",
      "656:\ttest: 0.8258091\tbest: 0.8363516 (94)\ttotal: 9.58s\tremaining: 5s\n",
      "657:\ttest: 0.8259420\tbest: 0.8363516 (94)\ttotal: 9.6s\tremaining: 4.99s\n",
      "658:\ttest: 0.8259202\tbest: 0.8363516 (94)\ttotal: 9.62s\tremaining: 4.97s\n",
      "659:\ttest: 0.8259351\tbest: 0.8363516 (94)\ttotal: 9.63s\tremaining: 4.96s\n",
      "660:\ttest: 0.8259722\tbest: 0.8363516 (94)\ttotal: 9.65s\tremaining: 4.95s\n",
      "661:\ttest: 0.8259720\tbest: 0.8363516 (94)\ttotal: 9.66s\tremaining: 4.93s\n",
      "662:\ttest: 0.8259659\tbest: 0.8363516 (94)\ttotal: 9.68s\tremaining: 4.92s\n",
      "663:\ttest: 0.8259420\tbest: 0.8363516 (94)\ttotal: 9.7s\tremaining: 4.91s\n",
      "664:\ttest: 0.8258731\tbest: 0.8363516 (94)\ttotal: 9.71s\tremaining: 4.89s\n",
      "665:\ttest: 0.8258680\tbest: 0.8363516 (94)\ttotal: 9.73s\tremaining: 4.88s\n",
      "666:\ttest: 0.8257982\tbest: 0.8363516 (94)\ttotal: 9.75s\tremaining: 4.87s\n",
      "667:\ttest: 0.8257978\tbest: 0.8363516 (94)\ttotal: 9.76s\tremaining: 4.85s\n",
      "668:\ttest: 0.8258452\tbest: 0.8363516 (94)\ttotal: 9.78s\tremaining: 4.84s\n",
      "669:\ttest: 0.8259430\tbest: 0.8363516 (94)\ttotal: 9.79s\tremaining: 4.82s\n",
      "670:\ttest: 0.8259552\tbest: 0.8363516 (94)\ttotal: 9.81s\tremaining: 4.81s\n",
      "671:\ttest: 0.8259625\tbest: 0.8363516 (94)\ttotal: 9.83s\tremaining: 4.8s\n",
      "672:\ttest: 0.8259693\tbest: 0.8363516 (94)\ttotal: 9.85s\tremaining: 4.78s\n",
      "673:\ttest: 0.8259165\tbest: 0.8363516 (94)\ttotal: 9.86s\tremaining: 4.77s\n",
      "674:\ttest: 0.8259197\tbest: 0.8363516 (94)\ttotal: 9.88s\tremaining: 4.76s\n",
      "675:\ttest: 0.8259767\tbest: 0.8363516 (94)\ttotal: 9.9s\tremaining: 4.74s\n",
      "676:\ttest: 0.8259332\tbest: 0.8363516 (94)\ttotal: 9.91s\tremaining: 4.73s\n",
      "677:\ttest: 0.8259275\tbest: 0.8363516 (94)\ttotal: 9.93s\tremaining: 4.72s\n",
      "678:\ttest: 0.8259146\tbest: 0.8363516 (94)\ttotal: 9.95s\tremaining: 4.7s\n",
      "679:\ttest: 0.8259230\tbest: 0.8363516 (94)\ttotal: 9.97s\tremaining: 4.69s\n",
      "680:\ttest: 0.8258553\tbest: 0.8363516 (94)\ttotal: 9.99s\tremaining: 4.68s\n",
      "681:\ttest: 0.8257261\tbest: 0.8363516 (94)\ttotal: 10s\tremaining: 4.67s\n",
      "682:\ttest: 0.8257102\tbest: 0.8363516 (94)\ttotal: 10s\tremaining: 4.65s\n",
      "683:\ttest: 0.8256962\tbest: 0.8363516 (94)\ttotal: 10s\tremaining: 4.64s\n",
      "684:\ttest: 0.8256210\tbest: 0.8363516 (94)\ttotal: 10.1s\tremaining: 4.63s\n",
      "685:\ttest: 0.8255896\tbest: 0.8363516 (94)\ttotal: 10.1s\tremaining: 4.61s\n",
      "686:\ttest: 0.8255505\tbest: 0.8363516 (94)\ttotal: 10.1s\tremaining: 4.6s\n",
      "687:\ttest: 0.8255541\tbest: 0.8363516 (94)\ttotal: 10.1s\tremaining: 4.59s\n",
      "688:\ttest: 0.8254435\tbest: 0.8363516 (94)\ttotal: 10.1s\tremaining: 4.57s\n",
      "689:\ttest: 0.8254434\tbest: 0.8363516 (94)\ttotal: 10.1s\tremaining: 4.56s\n",
      "690:\ttest: 0.8253996\tbest: 0.8363516 (94)\ttotal: 10.2s\tremaining: 4.55s\n",
      "691:\ttest: 0.8253230\tbest: 0.8363516 (94)\ttotal: 10.2s\tremaining: 4.53s\n",
      "692:\ttest: 0.8252859\tbest: 0.8363516 (94)\ttotal: 10.2s\tremaining: 4.52s\n",
      "693:\ttest: 0.8251997\tbest: 0.8363516 (94)\ttotal: 10.2s\tremaining: 4.5s\n",
      "694:\ttest: 0.8252428\tbest: 0.8363516 (94)\ttotal: 10.2s\tremaining: 4.49s\n",
      "695:\ttest: 0.8252687\tbest: 0.8363516 (94)\ttotal: 10.2s\tremaining: 4.47s\n",
      "696:\ttest: 0.8253490\tbest: 0.8363516 (94)\ttotal: 10.3s\tremaining: 4.46s\n",
      "697:\ttest: 0.8253665\tbest: 0.8363516 (94)\ttotal: 10.3s\tremaining: 4.45s\n",
      "698:\ttest: 0.8253296\tbest: 0.8363516 (94)\ttotal: 10.3s\tremaining: 4.43s\n",
      "699:\ttest: 0.8252118\tbest: 0.8363516 (94)\ttotal: 10.3s\tremaining: 4.42s\n",
      "700:\ttest: 0.8251551\tbest: 0.8363516 (94)\ttotal: 10.3s\tremaining: 4.41s\n",
      "701:\ttest: 0.8250938\tbest: 0.8363516 (94)\ttotal: 10.3s\tremaining: 4.39s\n",
      "702:\ttest: 0.8250879\tbest: 0.8363516 (94)\ttotal: 10.4s\tremaining: 4.38s\n",
      "703:\ttest: 0.8250390\tbest: 0.8363516 (94)\ttotal: 10.4s\tremaining: 4.36s\n",
      "704:\ttest: 0.8250127\tbest: 0.8363516 (94)\ttotal: 10.4s\tremaining: 4.35s\n",
      "705:\ttest: 0.8249799\tbest: 0.8363516 (94)\ttotal: 10.4s\tremaining: 4.33s\n",
      "706:\ttest: 0.8250354\tbest: 0.8363516 (94)\ttotal: 10.4s\tremaining: 4.32s\n",
      "707:\ttest: 0.8249591\tbest: 0.8363516 (94)\ttotal: 10.4s\tremaining: 4.3s\n",
      "708:\ttest: 0.8249550\tbest: 0.8363516 (94)\ttotal: 10.5s\tremaining: 4.29s\n",
      "709:\ttest: 0.8249181\tbest: 0.8363516 (94)\ttotal: 10.5s\tremaining: 4.28s\n",
      "710:\ttest: 0.8248485\tbest: 0.8363516 (94)\ttotal: 10.5s\tremaining: 4.26s\n",
      "711:\ttest: 0.8248805\tbest: 0.8363516 (94)\ttotal: 10.5s\tremaining: 4.25s\n",
      "712:\ttest: 0.8248840\tbest: 0.8363516 (94)\ttotal: 10.5s\tremaining: 4.23s\n",
      "713:\ttest: 0.8248349\tbest: 0.8363516 (94)\ttotal: 10.5s\tremaining: 4.22s\n",
      "714:\ttest: 0.8247065\tbest: 0.8363516 (94)\ttotal: 10.5s\tremaining: 4.2s\n",
      "715:\ttest: 0.8247284\tbest: 0.8363516 (94)\ttotal: 10.6s\tremaining: 4.19s\n",
      "716:\ttest: 0.8247250\tbest: 0.8363516 (94)\ttotal: 10.6s\tremaining: 4.17s\n",
      "717:\ttest: 0.8246402\tbest: 0.8363516 (94)\ttotal: 10.6s\tremaining: 4.16s\n",
      "718:\ttest: 0.8246164\tbest: 0.8363516 (94)\ttotal: 10.6s\tremaining: 4.14s\n",
      "719:\ttest: 0.8245154\tbest: 0.8363516 (94)\ttotal: 10.6s\tremaining: 4.13s\n",
      "720:\ttest: 0.8245122\tbest: 0.8363516 (94)\ttotal: 10.6s\tremaining: 4.11s\n",
      "721:\ttest: 0.8243704\tbest: 0.8363516 (94)\ttotal: 10.6s\tremaining: 4.1s\n",
      "722:\ttest: 0.8243756\tbest: 0.8363516 (94)\ttotal: 10.7s\tremaining: 4.08s\n",
      "723:\ttest: 0.8242502\tbest: 0.8363516 (94)\ttotal: 10.7s\tremaining: 4.07s\n"
     ]
    },
    {
     "name": "stdout",
     "output_type": "stream",
     "text": [
      "724:\ttest: 0.8242038\tbest: 0.8363516 (94)\ttotal: 10.7s\tremaining: 4.05s\n",
      "725:\ttest: 0.8241694\tbest: 0.8363516 (94)\ttotal: 10.7s\tremaining: 4.04s\n",
      "726:\ttest: 0.8241640\tbest: 0.8363516 (94)\ttotal: 10.7s\tremaining: 4.02s\n",
      "727:\ttest: 0.8241012\tbest: 0.8363516 (94)\ttotal: 10.7s\tremaining: 4.01s\n",
      "728:\ttest: 0.8240252\tbest: 0.8363516 (94)\ttotal: 10.7s\tremaining: 3.99s\n",
      "729:\ttest: 0.8240589\tbest: 0.8363516 (94)\ttotal: 10.8s\tremaining: 3.98s\n",
      "730:\ttest: 0.8240834\tbest: 0.8363516 (94)\ttotal: 10.8s\tremaining: 3.96s\n",
      "731:\ttest: 0.8240224\tbest: 0.8363516 (94)\ttotal: 10.8s\tremaining: 3.95s\n",
      "732:\ttest: 0.8240212\tbest: 0.8363516 (94)\ttotal: 10.8s\tremaining: 3.93s\n",
      "733:\ttest: 0.8240130\tbest: 0.8363516 (94)\ttotal: 10.8s\tremaining: 3.92s\n",
      "734:\ttest: 0.8240128\tbest: 0.8363516 (94)\ttotal: 10.8s\tremaining: 3.9s\n",
      "735:\ttest: 0.8239185\tbest: 0.8363516 (94)\ttotal: 10.8s\tremaining: 3.89s\n",
      "736:\ttest: 0.8239412\tbest: 0.8363516 (94)\ttotal: 10.8s\tremaining: 3.87s\n",
      "737:\ttest: 0.8239443\tbest: 0.8363516 (94)\ttotal: 10.9s\tremaining: 3.86s\n",
      "738:\ttest: 0.8240508\tbest: 0.8363516 (94)\ttotal: 10.9s\tremaining: 3.84s\n",
      "739:\ttest: 0.8239450\tbest: 0.8363516 (94)\ttotal: 10.9s\tremaining: 3.83s\n",
      "740:\ttest: 0.8239216\tbest: 0.8363516 (94)\ttotal: 10.9s\tremaining: 3.81s\n",
      "741:\ttest: 0.8238631\tbest: 0.8363516 (94)\ttotal: 10.9s\tremaining: 3.79s\n",
      "742:\ttest: 0.8238267\tbest: 0.8363516 (94)\ttotal: 10.9s\tremaining: 3.78s\n",
      "743:\ttest: 0.8238188\tbest: 0.8363516 (94)\ttotal: 10.9s\tremaining: 3.76s\n",
      "744:\ttest: 0.8238179\tbest: 0.8363516 (94)\ttotal: 11s\tremaining: 3.75s\n",
      "745:\ttest: 0.8238057\tbest: 0.8363516 (94)\ttotal: 11s\tremaining: 3.74s\n",
      "746:\ttest: 0.8237072\tbest: 0.8363516 (94)\ttotal: 11s\tremaining: 3.72s\n",
      "747:\ttest: 0.8236995\tbest: 0.8363516 (94)\ttotal: 11s\tremaining: 3.71s\n",
      "748:\ttest: 0.8237045\tbest: 0.8363516 (94)\ttotal: 11s\tremaining: 3.69s\n",
      "749:\ttest: 0.8236597\tbest: 0.8363516 (94)\ttotal: 11s\tremaining: 3.67s\n",
      "750:\ttest: 0.8236488\tbest: 0.8363516 (94)\ttotal: 11s\tremaining: 3.66s\n",
      "751:\ttest: 0.8237213\tbest: 0.8363516 (94)\ttotal: 11.1s\tremaining: 3.65s\n",
      "752:\ttest: 0.8237725\tbest: 0.8363516 (94)\ttotal: 11.1s\tremaining: 3.63s\n",
      "753:\ttest: 0.8237485\tbest: 0.8363516 (94)\ttotal: 11.1s\tremaining: 3.61s\n",
      "754:\ttest: 0.8237270\tbest: 0.8363516 (94)\ttotal: 11.1s\tremaining: 3.6s\n",
      "755:\ttest: 0.8236898\tbest: 0.8363516 (94)\ttotal: 11.1s\tremaining: 3.58s\n",
      "756:\ttest: 0.8235680\tbest: 0.8363516 (94)\ttotal: 11.1s\tremaining: 3.57s\n",
      "757:\ttest: 0.8235538\tbest: 0.8363516 (94)\ttotal: 11.1s\tremaining: 3.55s\n",
      "758:\ttest: 0.8234995\tbest: 0.8363516 (94)\ttotal: 11.1s\tremaining: 3.54s\n",
      "759:\ttest: 0.8232881\tbest: 0.8363516 (94)\ttotal: 11.2s\tremaining: 3.52s\n",
      "760:\ttest: 0.8232963\tbest: 0.8363516 (94)\ttotal: 11.2s\tremaining: 3.51s\n",
      "761:\ttest: 0.8231532\tbest: 0.8363516 (94)\ttotal: 11.2s\tremaining: 3.49s\n",
      "762:\ttest: 0.8231200\tbest: 0.8363516 (94)\ttotal: 11.2s\tremaining: 3.48s\n",
      "763:\ttest: 0.8231325\tbest: 0.8363516 (94)\ttotal: 11.2s\tremaining: 3.46s\n",
      "764:\ttest: 0.8232129\tbest: 0.8363516 (94)\ttotal: 11.2s\tremaining: 3.45s\n",
      "765:\ttest: 0.8231146\tbest: 0.8363516 (94)\ttotal: 11.2s\tremaining: 3.43s\n",
      "766:\ttest: 0.8231298\tbest: 0.8363516 (94)\ttotal: 11.3s\tremaining: 3.42s\n",
      "767:\ttest: 0.8231876\tbest: 0.8363516 (94)\ttotal: 11.3s\tremaining: 3.4s\n",
      "768:\ttest: 0.8233306\tbest: 0.8363516 (94)\ttotal: 11.3s\tremaining: 3.39s\n",
      "769:\ttest: 0.8232864\tbest: 0.8363516 (94)\ttotal: 11.3s\tremaining: 3.38s\n",
      "770:\ttest: 0.8233588\tbest: 0.8363516 (94)\ttotal: 11.3s\tremaining: 3.36s\n",
      "771:\ttest: 0.8233202\tbest: 0.8363516 (94)\ttotal: 11.3s\tremaining: 3.35s\n",
      "772:\ttest: 0.8232827\tbest: 0.8363516 (94)\ttotal: 11.3s\tremaining: 3.33s\n",
      "773:\ttest: 0.8231702\tbest: 0.8363516 (94)\ttotal: 11.4s\tremaining: 3.32s\n",
      "774:\ttest: 0.8231466\tbest: 0.8363516 (94)\ttotal: 11.4s\tremaining: 3.3s\n",
      "775:\ttest: 0.8233675\tbest: 0.8363516 (94)\ttotal: 11.4s\tremaining: 3.29s\n",
      "776:\ttest: 0.8233317\tbest: 0.8363516 (94)\ttotal: 11.4s\tremaining: 3.27s\n",
      "777:\ttest: 0.8233303\tbest: 0.8363516 (94)\ttotal: 11.4s\tremaining: 3.26s\n",
      "778:\ttest: 0.8232725\tbest: 0.8363516 (94)\ttotal: 11.4s\tremaining: 3.24s\n",
      "779:\ttest: 0.8232309\tbest: 0.8363516 (94)\ttotal: 11.5s\tremaining: 3.23s\n",
      "780:\ttest: 0.8232295\tbest: 0.8363516 (94)\ttotal: 11.5s\tremaining: 3.22s\n",
      "781:\ttest: 0.8232436\tbest: 0.8363516 (94)\ttotal: 11.5s\tremaining: 3.2s\n",
      "782:\ttest: 0.8232018\tbest: 0.8363516 (94)\ttotal: 11.5s\tremaining: 3.19s\n",
      "783:\ttest: 0.8232022\tbest: 0.8363516 (94)\ttotal: 11.5s\tremaining: 3.17s\n",
      "784:\ttest: 0.8231928\tbest: 0.8363516 (94)\ttotal: 11.5s\tremaining: 3.16s\n",
      "785:\ttest: 0.8231964\tbest: 0.8363516 (94)\ttotal: 11.6s\tremaining: 3.15s\n",
      "786:\ttest: 0.8232203\tbest: 0.8363516 (94)\ttotal: 11.6s\tremaining: 3.13s\n",
      "787:\ttest: 0.8231603\tbest: 0.8363516 (94)\ttotal: 11.6s\tremaining: 3.12s\n",
      "788:\ttest: 0.8231273\tbest: 0.8363516 (94)\ttotal: 11.6s\tremaining: 3.1s\n",
      "789:\ttest: 0.8229131\tbest: 0.8363516 (94)\ttotal: 11.6s\tremaining: 3.09s\n",
      "790:\ttest: 0.8229052\tbest: 0.8363516 (94)\ttotal: 11.6s\tremaining: 3.07s\n",
      "791:\ttest: 0.8230279\tbest: 0.8363516 (94)\ttotal: 11.6s\tremaining: 3.06s\n",
      "792:\ttest: 0.8230143\tbest: 0.8363516 (94)\ttotal: 11.7s\tremaining: 3.04s\n",
      "793:\ttest: 0.8230116\tbest: 0.8363516 (94)\ttotal: 11.7s\tremaining: 3.03s\n",
      "794:\ttest: 0.8229541\tbest: 0.8363516 (94)\ttotal: 11.7s\tremaining: 3.02s\n",
      "795:\ttest: 0.8228060\tbest: 0.8363516 (94)\ttotal: 11.7s\tremaining: 3s\n",
      "796:\ttest: 0.8227407\tbest: 0.8363516 (94)\ttotal: 11.7s\tremaining: 2.98s\n",
      "797:\ttest: 0.8227623\tbest: 0.8363516 (94)\ttotal: 11.7s\tremaining: 2.97s\n",
      "798:\ttest: 0.8227762\tbest: 0.8363516 (94)\ttotal: 11.8s\tremaining: 2.96s\n",
      "799:\ttest: 0.8227265\tbest: 0.8363516 (94)\ttotal: 11.8s\tremaining: 2.94s\n",
      "800:\ttest: 0.8226962\tbest: 0.8363516 (94)\ttotal: 11.8s\tremaining: 2.93s\n",
      "801:\ttest: 0.8227036\tbest: 0.8363516 (94)\ttotal: 11.8s\tremaining: 2.91s\n",
      "802:\ttest: 0.8226899\tbest: 0.8363516 (94)\ttotal: 11.8s\tremaining: 2.9s\n",
      "803:\ttest: 0.8226611\tbest: 0.8363516 (94)\ttotal: 11.8s\tremaining: 2.88s\n",
      "804:\ttest: 0.8226321\tbest: 0.8363516 (94)\ttotal: 11.8s\tremaining: 2.87s\n",
      "805:\ttest: 0.8225440\tbest: 0.8363516 (94)\ttotal: 11.9s\tremaining: 2.85s\n",
      "806:\ttest: 0.8225389\tbest: 0.8363516 (94)\ttotal: 11.9s\tremaining: 2.84s\n",
      "807:\ttest: 0.8225634\tbest: 0.8363516 (94)\ttotal: 11.9s\tremaining: 2.83s\n",
      "808:\ttest: 0.8225349\tbest: 0.8363516 (94)\ttotal: 11.9s\tremaining: 2.81s\n",
      "809:\ttest: 0.8225124\tbest: 0.8363516 (94)\ttotal: 11.9s\tremaining: 2.79s\n",
      "810:\ttest: 0.8225213\tbest: 0.8363516 (94)\ttotal: 11.9s\tremaining: 2.78s\n",
      "811:\ttest: 0.8223565\tbest: 0.8363516 (94)\ttotal: 11.9s\tremaining: 2.76s\n",
      "812:\ttest: 0.8223655\tbest: 0.8363516 (94)\ttotal: 12s\tremaining: 2.75s\n",
      "813:\ttest: 0.8223165\tbest: 0.8363516 (94)\ttotal: 12s\tremaining: 2.73s\n",
      "814:\ttest: 0.8223338\tbest: 0.8363516 (94)\ttotal: 12s\tremaining: 2.72s\n",
      "815:\ttest: 0.8222925\tbest: 0.8363516 (94)\ttotal: 12s\tremaining: 2.7s\n",
      "816:\ttest: 0.8223363\tbest: 0.8363516 (94)\ttotal: 12s\tremaining: 2.69s\n",
      "817:\ttest: 0.8222435\tbest: 0.8363516 (94)\ttotal: 12s\tremaining: 2.67s\n",
      "818:\ttest: 0.8222472\tbest: 0.8363516 (94)\ttotal: 12s\tremaining: 2.66s\n",
      "819:\ttest: 0.8222489\tbest: 0.8363516 (94)\ttotal: 12s\tremaining: 2.64s\n",
      "820:\ttest: 0.8222902\tbest: 0.8363516 (94)\ttotal: 12.1s\tremaining: 2.63s\n",
      "821:\ttest: 0.8222830\tbest: 0.8363516 (94)\ttotal: 12.1s\tremaining: 2.61s\n",
      "822:\ttest: 0.8223505\tbest: 0.8363516 (94)\ttotal: 12.1s\tremaining: 2.6s\n",
      "823:\ttest: 0.8223577\tbest: 0.8363516 (94)\ttotal: 12.1s\tremaining: 2.58s\n",
      "824:\ttest: 0.8222224\tbest: 0.8363516 (94)\ttotal: 12.1s\tremaining: 2.57s\n",
      "825:\ttest: 0.8222095\tbest: 0.8363516 (94)\ttotal: 12.1s\tremaining: 2.55s\n",
      "826:\ttest: 0.8221957\tbest: 0.8363516 (94)\ttotal: 12.1s\tremaining: 2.54s\n",
      "827:\ttest: 0.8221369\tbest: 0.8363516 (94)\ttotal: 12.2s\tremaining: 2.52s\n",
      "828:\ttest: 0.8221011\tbest: 0.8363516 (94)\ttotal: 12.2s\tremaining: 2.51s\n",
      "829:\ttest: 0.8221214\tbest: 0.8363516 (94)\ttotal: 12.2s\tremaining: 2.5s\n",
      "830:\ttest: 0.8221069\tbest: 0.8363516 (94)\ttotal: 12.2s\tremaining: 2.48s\n",
      "831:\ttest: 0.8220025\tbest: 0.8363516 (94)\ttotal: 12.2s\tremaining: 2.47s\n",
      "832:\ttest: 0.8219836\tbest: 0.8363516 (94)\ttotal: 12.2s\tremaining: 2.45s\n",
      "833:\ttest: 0.8219633\tbest: 0.8363516 (94)\ttotal: 12.2s\tremaining: 2.44s\n",
      "834:\ttest: 0.8219233\tbest: 0.8363516 (94)\ttotal: 12.3s\tremaining: 2.42s\n",
      "835:\ttest: 0.8218545\tbest: 0.8363516 (94)\ttotal: 12.3s\tremaining: 2.41s\n",
      "836:\ttest: 0.8217830\tbest: 0.8363516 (94)\ttotal: 12.3s\tremaining: 2.39s\n",
      "837:\ttest: 0.8217775\tbest: 0.8363516 (94)\ttotal: 12.3s\tremaining: 2.38s\n",
      "838:\ttest: 0.8217537\tbest: 0.8363516 (94)\ttotal: 12.3s\tremaining: 2.36s\n",
      "839:\ttest: 0.8218662\tbest: 0.8363516 (94)\ttotal: 12.3s\tremaining: 2.35s\n",
      "840:\ttest: 0.8218979\tbest: 0.8363516 (94)\ttotal: 12.3s\tremaining: 2.33s\n",
      "841:\ttest: 0.8218202\tbest: 0.8363516 (94)\ttotal: 12.4s\tremaining: 2.32s\n",
      "842:\ttest: 0.8218450\tbest: 0.8363516 (94)\ttotal: 12.4s\tremaining: 2.31s\n",
      "843:\ttest: 0.8217858\tbest: 0.8363516 (94)\ttotal: 12.4s\tremaining: 2.29s\n",
      "844:\ttest: 0.8216339\tbest: 0.8363516 (94)\ttotal: 12.4s\tremaining: 2.27s\n"
     ]
    },
    {
     "name": "stdout",
     "output_type": "stream",
     "text": [
      "845:\ttest: 0.8216168\tbest: 0.8363516 (94)\ttotal: 12.4s\tremaining: 2.26s\n",
      "846:\ttest: 0.8215768\tbest: 0.8363516 (94)\ttotal: 12.4s\tremaining: 2.25s\n",
      "847:\ttest: 0.8216307\tbest: 0.8363516 (94)\ttotal: 12.4s\tremaining: 2.23s\n",
      "848:\ttest: 0.8215893\tbest: 0.8363516 (94)\ttotal: 12.5s\tremaining: 2.22s\n",
      "849:\ttest: 0.8216436\tbest: 0.8363516 (94)\ttotal: 12.5s\tremaining: 2.2s\n",
      "850:\ttest: 0.8215498\tbest: 0.8363516 (94)\ttotal: 12.5s\tremaining: 2.19s\n",
      "851:\ttest: 0.8215600\tbest: 0.8363516 (94)\ttotal: 12.5s\tremaining: 2.17s\n",
      "852:\ttest: 0.8214596\tbest: 0.8363516 (94)\ttotal: 12.5s\tremaining: 2.16s\n",
      "853:\ttest: 0.8214277\tbest: 0.8363516 (94)\ttotal: 12.5s\tremaining: 2.14s\n",
      "854:\ttest: 0.8213164\tbest: 0.8363516 (94)\ttotal: 12.5s\tremaining: 2.13s\n",
      "855:\ttest: 0.8212851\tbest: 0.8363516 (94)\ttotal: 12.6s\tremaining: 2.11s\n",
      "856:\ttest: 0.8212983\tbest: 0.8363516 (94)\ttotal: 12.6s\tremaining: 2.1s\n",
      "857:\ttest: 0.8212211\tbest: 0.8363516 (94)\ttotal: 12.6s\tremaining: 2.08s\n",
      "858:\ttest: 0.8211948\tbest: 0.8363516 (94)\ttotal: 12.6s\tremaining: 2.07s\n",
      "859:\ttest: 0.8211546\tbest: 0.8363516 (94)\ttotal: 12.6s\tremaining: 2.05s\n",
      "860:\ttest: 0.8211270\tbest: 0.8363516 (94)\ttotal: 12.6s\tremaining: 2.04s\n",
      "861:\ttest: 0.8211086\tbest: 0.8363516 (94)\ttotal: 12.6s\tremaining: 2.02s\n",
      "862:\ttest: 0.8210823\tbest: 0.8363516 (94)\ttotal: 12.7s\tremaining: 2.01s\n",
      "863:\ttest: 0.8210117\tbest: 0.8363516 (94)\ttotal: 12.7s\tremaining: 1.99s\n",
      "864:\ttest: 0.8209684\tbest: 0.8363516 (94)\ttotal: 12.7s\tremaining: 1.98s\n",
      "865:\ttest: 0.8209327\tbest: 0.8363516 (94)\ttotal: 12.7s\tremaining: 1.96s\n",
      "866:\ttest: 0.8208608\tbest: 0.8363516 (94)\ttotal: 12.7s\tremaining: 1.95s\n",
      "867:\ttest: 0.8207917\tbest: 0.8363516 (94)\ttotal: 12.7s\tremaining: 1.93s\n",
      "868:\ttest: 0.8206817\tbest: 0.8363516 (94)\ttotal: 12.7s\tremaining: 1.92s\n",
      "869:\ttest: 0.8206026\tbest: 0.8363516 (94)\ttotal: 12.7s\tremaining: 1.9s\n",
      "870:\ttest: 0.8206219\tbest: 0.8363516 (94)\ttotal: 12.8s\tremaining: 1.89s\n",
      "871:\ttest: 0.8206225\tbest: 0.8363516 (94)\ttotal: 12.8s\tremaining: 1.87s\n",
      "872:\ttest: 0.8204745\tbest: 0.8363516 (94)\ttotal: 12.8s\tremaining: 1.86s\n",
      "873:\ttest: 0.8202891\tbest: 0.8363516 (94)\ttotal: 12.8s\tremaining: 1.84s\n",
      "874:\ttest: 0.8202950\tbest: 0.8363516 (94)\ttotal: 12.8s\tremaining: 1.83s\n",
      "875:\ttest: 0.8203393\tbest: 0.8363516 (94)\ttotal: 12.8s\tremaining: 1.82s\n",
      "876:\ttest: 0.8203015\tbest: 0.8363516 (94)\ttotal: 12.8s\tremaining: 1.8s\n",
      "877:\ttest: 0.8203165\tbest: 0.8363516 (94)\ttotal: 12.9s\tremaining: 1.79s\n",
      "878:\ttest: 0.8203186\tbest: 0.8363516 (94)\ttotal: 12.9s\tremaining: 1.77s\n",
      "879:\ttest: 0.8203285\tbest: 0.8363516 (94)\ttotal: 12.9s\tremaining: 1.76s\n",
      "880:\ttest: 0.8203040\tbest: 0.8363516 (94)\ttotal: 12.9s\tremaining: 1.74s\n",
      "881:\ttest: 0.8202571\tbest: 0.8363516 (94)\ttotal: 12.9s\tremaining: 1.73s\n",
      "882:\ttest: 0.8201770\tbest: 0.8363516 (94)\ttotal: 12.9s\tremaining: 1.72s\n",
      "883:\ttest: 0.8201606\tbest: 0.8363516 (94)\ttotal: 13s\tremaining: 1.7s\n",
      "884:\ttest: 0.8201958\tbest: 0.8363516 (94)\ttotal: 13s\tremaining: 1.69s\n",
      "885:\ttest: 0.8201679\tbest: 0.8363516 (94)\ttotal: 13s\tremaining: 1.67s\n",
      "886:\ttest: 0.8199786\tbest: 0.8363516 (94)\ttotal: 13s\tremaining: 1.66s\n",
      "887:\ttest: 0.8198915\tbest: 0.8363516 (94)\ttotal: 13s\tremaining: 1.65s\n",
      "888:\ttest: 0.8199006\tbest: 0.8363516 (94)\ttotal: 13.1s\tremaining: 1.63s\n",
      "889:\ttest: 0.8197607\tbest: 0.8363516 (94)\ttotal: 13.1s\tremaining: 1.61s\n",
      "890:\ttest: 0.8197438\tbest: 0.8363516 (94)\ttotal: 13.1s\tremaining: 1.6s\n",
      "891:\ttest: 0.8195484\tbest: 0.8363516 (94)\ttotal: 13.1s\tremaining: 1.59s\n",
      "892:\ttest: 0.8195703\tbest: 0.8363516 (94)\ttotal: 13.1s\tremaining: 1.57s\n",
      "893:\ttest: 0.8195398\tbest: 0.8363516 (94)\ttotal: 13.1s\tremaining: 1.56s\n",
      "894:\ttest: 0.8195470\tbest: 0.8363516 (94)\ttotal: 13.2s\tremaining: 1.54s\n",
      "895:\ttest: 0.8195772\tbest: 0.8363516 (94)\ttotal: 13.2s\tremaining: 1.53s\n",
      "896:\ttest: 0.8195533\tbest: 0.8363516 (94)\ttotal: 13.2s\tremaining: 1.51s\n",
      "897:\ttest: 0.8195326\tbest: 0.8363516 (94)\ttotal: 13.2s\tremaining: 1.5s\n",
      "898:\ttest: 0.8195301\tbest: 0.8363516 (94)\ttotal: 13.2s\tremaining: 1.49s\n",
      "899:\ttest: 0.8195105\tbest: 0.8363516 (94)\ttotal: 13.2s\tremaining: 1.47s\n",
      "900:\ttest: 0.8194933\tbest: 0.8363516 (94)\ttotal: 13.2s\tremaining: 1.46s\n",
      "901:\ttest: 0.8193839\tbest: 0.8363516 (94)\ttotal: 13.3s\tremaining: 1.44s\n",
      "902:\ttest: 0.8193556\tbest: 0.8363516 (94)\ttotal: 13.3s\tremaining: 1.43s\n",
      "903:\ttest: 0.8193500\tbest: 0.8363516 (94)\ttotal: 13.3s\tremaining: 1.41s\n",
      "904:\ttest: 0.8193258\tbest: 0.8363516 (94)\ttotal: 13.3s\tremaining: 1.4s\n",
      "905:\ttest: 0.8192081\tbest: 0.8363516 (94)\ttotal: 13.3s\tremaining: 1.38s\n",
      "906:\ttest: 0.8192158\tbest: 0.8363516 (94)\ttotal: 13.3s\tremaining: 1.37s\n",
      "907:\ttest: 0.8192278\tbest: 0.8363516 (94)\ttotal: 13.4s\tremaining: 1.35s\n",
      "908:\ttest: 0.8192341\tbest: 0.8363516 (94)\ttotal: 13.4s\tremaining: 1.34s\n",
      "909:\ttest: 0.8191911\tbest: 0.8363516 (94)\ttotal: 13.4s\tremaining: 1.32s\n",
      "910:\ttest: 0.8190745\tbest: 0.8363516 (94)\ttotal: 13.4s\tremaining: 1.31s\n",
      "911:\ttest: 0.8190769\tbest: 0.8363516 (94)\ttotal: 13.4s\tremaining: 1.29s\n",
      "912:\ttest: 0.8190648\tbest: 0.8363516 (94)\ttotal: 13.4s\tremaining: 1.28s\n",
      "913:\ttest: 0.8190080\tbest: 0.8363516 (94)\ttotal: 13.5s\tremaining: 1.27s\n",
      "914:\ttest: 0.8189928\tbest: 0.8363516 (94)\ttotal: 13.5s\tremaining: 1.25s\n",
      "915:\ttest: 0.8189926\tbest: 0.8363516 (94)\ttotal: 13.5s\tremaining: 1.24s\n",
      "916:\ttest: 0.8188313\tbest: 0.8363516 (94)\ttotal: 13.5s\tremaining: 1.22s\n",
      "917:\ttest: 0.8187609\tbest: 0.8363516 (94)\ttotal: 13.5s\tremaining: 1.21s\n",
      "918:\ttest: 0.8188577\tbest: 0.8363516 (94)\ttotal: 13.5s\tremaining: 1.19s\n",
      "919:\ttest: 0.8188451\tbest: 0.8363516 (94)\ttotal: 13.6s\tremaining: 1.18s\n",
      "920:\ttest: 0.8188681\tbest: 0.8363516 (94)\ttotal: 13.6s\tremaining: 1.16s\n",
      "921:\ttest: 0.8188296\tbest: 0.8363516 (94)\ttotal: 13.6s\tremaining: 1.15s\n",
      "922:\ttest: 0.8187874\tbest: 0.8363516 (94)\ttotal: 13.6s\tremaining: 1.14s\n",
      "923:\ttest: 0.8188326\tbest: 0.8363516 (94)\ttotal: 13.6s\tremaining: 1.12s\n",
      "924:\ttest: 0.8188173\tbest: 0.8363516 (94)\ttotal: 13.6s\tremaining: 1.1s\n",
      "925:\ttest: 0.8188192\tbest: 0.8363516 (94)\ttotal: 13.6s\tremaining: 1.09s\n",
      "926:\ttest: 0.8187448\tbest: 0.8363516 (94)\ttotal: 13.7s\tremaining: 1.07s\n",
      "927:\ttest: 0.8186977\tbest: 0.8363516 (94)\ttotal: 13.7s\tremaining: 1.06s\n",
      "928:\ttest: 0.8187338\tbest: 0.8363516 (94)\ttotal: 13.7s\tremaining: 1.05s\n",
      "929:\ttest: 0.8186540\tbest: 0.8363516 (94)\ttotal: 13.7s\tremaining: 1.03s\n",
      "930:\ttest: 0.8185218\tbest: 0.8363516 (94)\ttotal: 13.7s\tremaining: 1.02s\n",
      "931:\ttest: 0.8184342\tbest: 0.8363516 (94)\ttotal: 13.7s\tremaining: 1s\n",
      "932:\ttest: 0.8183742\tbest: 0.8363516 (94)\ttotal: 13.8s\tremaining: 988ms\n",
      "933:\ttest: 0.8183984\tbest: 0.8363516 (94)\ttotal: 13.8s\tremaining: 974ms\n",
      "934:\ttest: 0.8183639\tbest: 0.8363516 (94)\ttotal: 13.8s\tremaining: 959ms\n",
      "935:\ttest: 0.8184218\tbest: 0.8363516 (94)\ttotal: 13.8s\tremaining: 944ms\n",
      "936:\ttest: 0.8184229\tbest: 0.8363516 (94)\ttotal: 13.8s\tremaining: 929ms\n",
      "937:\ttest: 0.8184401\tbest: 0.8363516 (94)\ttotal: 13.8s\tremaining: 914ms\n",
      "938:\ttest: 0.8184202\tbest: 0.8363516 (94)\ttotal: 13.9s\tremaining: 900ms\n",
      "939:\ttest: 0.8183762\tbest: 0.8363516 (94)\ttotal: 13.9s\tremaining: 885ms\n",
      "940:\ttest: 0.8183643\tbest: 0.8363516 (94)\ttotal: 13.9s\tremaining: 871ms\n",
      "941:\ttest: 0.8181673\tbest: 0.8363516 (94)\ttotal: 13.9s\tremaining: 856ms\n",
      "942:\ttest: 0.8181658\tbest: 0.8363516 (94)\ttotal: 13.9s\tremaining: 842ms\n",
      "943:\ttest: 0.8181258\tbest: 0.8363516 (94)\ttotal: 13.9s\tremaining: 827ms\n",
      "944:\ttest: 0.8181104\tbest: 0.8363516 (94)\ttotal: 13.9s\tremaining: 812ms\n",
      "945:\ttest: 0.8180850\tbest: 0.8363516 (94)\ttotal: 14s\tremaining: 797ms\n",
      "946:\ttest: 0.8180402\tbest: 0.8363516 (94)\ttotal: 14s\tremaining: 782ms\n",
      "947:\ttest: 0.8180469\tbest: 0.8363516 (94)\ttotal: 14s\tremaining: 767ms\n",
      "948:\ttest: 0.8180560\tbest: 0.8363516 (94)\ttotal: 14s\tremaining: 752ms\n",
      "949:\ttest: 0.8180525\tbest: 0.8363516 (94)\ttotal: 14s\tremaining: 738ms\n",
      "950:\ttest: 0.8179242\tbest: 0.8363516 (94)\ttotal: 14s\tremaining: 723ms\n",
      "951:\ttest: 0.8178264\tbest: 0.8363516 (94)\ttotal: 14s\tremaining: 708ms\n",
      "952:\ttest: 0.8178349\tbest: 0.8363516 (94)\ttotal: 14.1s\tremaining: 694ms\n",
      "953:\ttest: 0.8178808\tbest: 0.8363516 (94)\ttotal: 14.1s\tremaining: 679ms\n",
      "954:\ttest: 0.8179206\tbest: 0.8363516 (94)\ttotal: 14.1s\tremaining: 665ms\n",
      "955:\ttest: 0.8179034\tbest: 0.8363516 (94)\ttotal: 14.1s\tremaining: 650ms\n",
      "956:\ttest: 0.8179353\tbest: 0.8363516 (94)\ttotal: 14.1s\tremaining: 635ms\n",
      "957:\ttest: 0.8179857\tbest: 0.8363516 (94)\ttotal: 14.2s\tremaining: 620ms\n",
      "958:\ttest: 0.8179560\tbest: 0.8363516 (94)\ttotal: 14.2s\tremaining: 606ms\n",
      "959:\ttest: 0.8179721\tbest: 0.8363516 (94)\ttotal: 14.2s\tremaining: 591ms\n",
      "960:\ttest: 0.8178629\tbest: 0.8363516 (94)\ttotal: 14.2s\tremaining: 576ms\n"
     ]
    },
    {
     "name": "stdout",
     "output_type": "stream",
     "text": [
      "961:\ttest: 0.8180059\tbest: 0.8363516 (94)\ttotal: 14.2s\tremaining: 561ms\n",
      "962:\ttest: 0.8179841\tbest: 0.8363516 (94)\ttotal: 14.2s\tremaining: 547ms\n",
      "963:\ttest: 0.8179772\tbest: 0.8363516 (94)\ttotal: 14.2s\tremaining: 532ms\n",
      "964:\ttest: 0.8179131\tbest: 0.8363516 (94)\ttotal: 14.3s\tremaining: 517ms\n",
      "965:\ttest: 0.8178938\tbest: 0.8363516 (94)\ttotal: 14.3s\tremaining: 502ms\n",
      "966:\ttest: 0.8178829\tbest: 0.8363516 (94)\ttotal: 14.3s\tremaining: 488ms\n",
      "967:\ttest: 0.8178275\tbest: 0.8363516 (94)\ttotal: 14.3s\tremaining: 473ms\n",
      "968:\ttest: 0.8177839\tbest: 0.8363516 (94)\ttotal: 14.3s\tremaining: 458ms\n",
      "969:\ttest: 0.8177676\tbest: 0.8363516 (94)\ttotal: 14.3s\tremaining: 444ms\n",
      "970:\ttest: 0.8177302\tbest: 0.8363516 (94)\ttotal: 14.4s\tremaining: 429ms\n",
      "971:\ttest: 0.8177354\tbest: 0.8363516 (94)\ttotal: 14.4s\tremaining: 414ms\n",
      "972:\ttest: 0.8176657\tbest: 0.8363516 (94)\ttotal: 14.4s\tremaining: 399ms\n",
      "973:\ttest: 0.8177132\tbest: 0.8363516 (94)\ttotal: 14.4s\tremaining: 384ms\n",
      "974:\ttest: 0.8176809\tbest: 0.8363516 (94)\ttotal: 14.4s\tremaining: 370ms\n",
      "975:\ttest: 0.8177165\tbest: 0.8363516 (94)\ttotal: 14.4s\tremaining: 355ms\n",
      "976:\ttest: 0.8176773\tbest: 0.8363516 (94)\ttotal: 14.5s\tremaining: 340ms\n",
      "977:\ttest: 0.8176775\tbest: 0.8363516 (94)\ttotal: 14.5s\tremaining: 325ms\n",
      "978:\ttest: 0.8175646\tbest: 0.8363516 (94)\ttotal: 14.5s\tremaining: 311ms\n",
      "979:\ttest: 0.8176031\tbest: 0.8363516 (94)\ttotal: 14.5s\tremaining: 296ms\n",
      "980:\ttest: 0.8175675\tbest: 0.8363516 (94)\ttotal: 14.5s\tremaining: 281ms\n",
      "981:\ttest: 0.8174864\tbest: 0.8363516 (94)\ttotal: 14.5s\tremaining: 266ms\n",
      "982:\ttest: 0.8175122\tbest: 0.8363516 (94)\ttotal: 14.5s\tremaining: 251ms\n",
      "983:\ttest: 0.8174460\tbest: 0.8363516 (94)\ttotal: 14.5s\tremaining: 237ms\n",
      "984:\ttest: 0.8173851\tbest: 0.8363516 (94)\ttotal: 14.6s\tremaining: 222ms\n",
      "985:\ttest: 0.8172887\tbest: 0.8363516 (94)\ttotal: 14.6s\tremaining: 207ms\n",
      "986:\ttest: 0.8172828\tbest: 0.8363516 (94)\ttotal: 14.6s\tremaining: 192ms\n",
      "987:\ttest: 0.8173139\tbest: 0.8363516 (94)\ttotal: 14.6s\tremaining: 178ms\n",
      "988:\ttest: 0.8172881\tbest: 0.8363516 (94)\ttotal: 14.6s\tremaining: 163ms\n",
      "989:\ttest: 0.8174709\tbest: 0.8363516 (94)\ttotal: 14.7s\tremaining: 148ms\n",
      "990:\ttest: 0.8174551\tbest: 0.8363516 (94)\ttotal: 14.7s\tremaining: 133ms\n",
      "991:\ttest: 0.8174039\tbest: 0.8363516 (94)\ttotal: 14.7s\tremaining: 118ms\n",
      "992:\ttest: 0.8173581\tbest: 0.8363516 (94)\ttotal: 14.7s\tremaining: 104ms\n",
      "993:\ttest: 0.8173185\tbest: 0.8363516 (94)\ttotal: 14.7s\tremaining: 88.8ms\n",
      "994:\ttest: 0.8173435\tbest: 0.8363516 (94)\ttotal: 14.7s\tremaining: 74ms\n",
      "995:\ttest: 0.8173320\tbest: 0.8363516 (94)\ttotal: 14.7s\tremaining: 59.2ms\n",
      "996:\ttest: 0.8172465\tbest: 0.8363516 (94)\ttotal: 14.7s\tremaining: 44.4ms\n",
      "997:\ttest: 0.8171146\tbest: 0.8363516 (94)\ttotal: 14.8s\tremaining: 29.6ms\n",
      "998:\ttest: 0.8169595\tbest: 0.8363516 (94)\ttotal: 14.8s\tremaining: 14.8ms\n",
      "999:\ttest: 0.8170022\tbest: 0.8363516 (94)\ttotal: 14.8s\tremaining: 0us\n",
      "\n",
      "bestTest = 0.836351612\n",
      "bestIteration = 94\n",
      "\n",
      "Shrink model to first 95 iterations.\n"
     ]
    },
    {
     "data": {
      "text/plain": [
       "<catboost.core.CatBoostRegressor at 0x25c81eaddc0>"
      ]
     },
     "execution_count": 934,
     "metadata": {},
     "output_type": "execute_result"
    }
   ],
   "source": [
    "cbr.fit(x_train, y_train, eval_set=(x_val, y_val), plot=False)"
   ]
  },
  {
   "cell_type": "code",
   "execution_count": 935,
   "metadata": {},
   "outputs": [],
   "source": [
    "pred = cbr.predict(X_test)"
   ]
  },
  {
   "cell_type": "code",
   "execution_count": 936,
   "metadata": {},
   "outputs": [],
   "source": [
    "submission = pd.DataFrame()\n",
    "submission['id'] = test['id']\n",
    "submission['target'] = pred"
   ]
  },
  {
   "cell_type": "code",
   "execution_count": 937,
   "metadata": {},
   "outputs": [],
   "source": [
    "submission.to_csv('submission-CatBoost.csv',header=True, index = False)"
   ]
  },
  {
   "cell_type": "markdown",
   "metadata": {},
   "source": [
    "### 9. Results and Summary <a name=\"summary\"></a>"
   ]
  },
  {
   "cell_type": "markdown",
   "metadata": {},
   "source": [
    "I have settled to split train data in the ratio **65:35** to train the model, with **random_state=1234** as obtained for best results in all 3 models.\n",
    "- Using Linear Regression - Submission score obtained is ~0.8414...\n",
    "- Using Logistic Regression - Submission score obtained is ~0.8333...\n",
    "- Using CatBoostRegressor - Submission score obtained is ~0.8512...\n",
    "\n",
    "Submitting `submission-CatBoost.csv`, since catboost gives the best score out of all 3."
   ]
  },
  {
   "cell_type": "code",
   "execution_count": null,
   "metadata": {},
   "outputs": [],
   "source": []
  }
 ],
 "metadata": {
  "kernelspec": {
   "display_name": "Python 3",
   "language": "python",
   "name": "python3"
  },
  "language_info": {
   "codemirror_mode": {
    "name": "ipython",
    "version": 3
   },
   "file_extension": ".py",
   "mimetype": "text/x-python",
   "name": "python",
   "nbconvert_exporter": "python",
   "pygments_lexer": "ipython3",
   "version": "3.8.3"
  }
 },
 "nbformat": 4,
 "nbformat_minor": 4
}
